{
  "nbformat": 4,
  "nbformat_minor": 0,
  "metadata": {
    "colab": {
      "provenance": [],
      "authorship_tag": "ABX9TyMEJJPDddcuiGHKa4ghunJa",
      "include_colab_link": true
    },
    "kernelspec": {
      "name": "python3",
      "display_name": "Python 3"
    },
    "language_info": {
      "name": "python"
    }
  },
  "cells": [
    {
      "cell_type": "markdown",
      "metadata": {
        "id": "view-in-github",
        "colab_type": "text"
      },
      "source": [
        "<a href=\"https://colab.research.google.com/github/nehadubey1205/NLP-college/blob/main/OriginalPaperWork_NehaDubey_016_.ipynb\" target=\"_parent\"><img src=\"https://colab.research.google.com/assets/colab-badge.svg\" alt=\"Open In Colab\"/></a>"
      ]
    },
    {
      "cell_type": "code",
      "source": [
        "import numpy as np\n",
        "import pandas as pd\n",
        "import os\n",
        "import seaborn as sns\n",
        "\n",
        "import re \n",
        "import nltk \n",
        "\n",
        "from sklearn.feature_extraction.text import TfidfVectorizer, CountVectorizer, TfidfTransformer\n",
        "from nltk import sent_tokenize, word_tokenize\n",
        "from sklearn.metrics import f1_score, accuracy_score, precision_score, recall_score, make_scorer\n",
        "\n",
        "from sklearn.model_selection import train_test_split\n",
        "from time import time\n",
        "\n",
        "import xgboost as xgb\n",
        "from sklearn.naive_bayes import MultinomialNB\n",
        "from sklearn.tree import DecisionTreeClassifier\n",
        "from sklearn.svm import LinearSVC\n",
        "from sklearn.ensemble import AdaBoostClassifier, RandomForestClassifier, BaggingClassifier\n",
        "from sklearn.linear_model import LogisticRegression, SGDClassifier\n",
        "from sklearn.neighbors import KNeighborsClassifier\n",
        "\n",
        "from google.colab import files\n",
        "from matplotlib import pyplot as plt\n",
        "import pandas as pd\n",
        "import io\n",
        "from sklearn.metrics import classification_report\n",
        "import pickle"
      ],
      "metadata": {
        "id": "vcCNtOKYBQ91"
      },
      "execution_count": 19,
      "outputs": []
    },
    {
      "cell_type": "code",
      "source": [
        "import joblib\n",
        "from sklearn.feature_extraction.text import CountVectorizer"
      ],
      "metadata": {
        "id": "kmCwpuVms0IU"
      },
      "execution_count": 20,
      "outputs": []
    },
    {
      "cell_type": "code",
      "source": [
        "data = pd.read_csv(r'/content/Bully_Sent_Emo_IEEEIC_6084.csv')"
      ],
      "metadata": {
        "id": "GDLqvCmGs0Fx"
      },
      "execution_count": 44,
      "outputs": []
    },
    {
      "cell_type": "code",
      "source": [
        "data.head()"
      ],
      "metadata": {
        "colab": {
          "base_uri": "https://localhost:8080/",
          "height": 337
        },
        "id": "VNajqoqss0D4",
        "outputId": "2de44e2d-3296-4406-981f-0730211a3c2b"
      },
      "execution_count": 45,
      "outputs": [
        {
          "output_type": "execute_result",
          "data": {
            "text/plain": [
              "                                              Tweets  \\\n",
              "0      Teri maa ki chut me Shivsena ka lund gaya kya   \n",
              "1  Han muje pata hai teri maa ka ke gufa me jati thi   \n",
              "2  Tum kaha se aa gye bhai tumlog toh saree pehen...   \n",
              "3  Koi moti🙊kisi ki besti😁 baisn ka or channey ki...   \n",
              "4     Rahul kanwal aaj nanga hoke road per nachega 😂   \n",
              "\n",
              "                                    Processed_Tweets  Bully_Label  \\\n",
              "0      Teri maa ki chut me Shivsena ka lund gaya kya            1   \n",
              "1  Han muje pata hai teri maa ka ke gufa me jati thi            1   \n",
              "2  Tum kaha se aa gye bhai tumlog toh saree pehen...            0   \n",
              "3  Koi motikisi ki besti baisn ka or channey ki d...            1   \n",
              "4       Rahul kanwal aaj nanga hoke road per nachega            1   \n",
              "\n",
              "  Sentiment_label Emotion_label  \n",
              "0        Negative         Anger  \n",
              "1        Negative        Others  \n",
              "2         Neutral        Others  \n",
              "3        Negative       Disgust  \n",
              "4        Negative       Disgust  "
            ],
            "text/html": [
              "\n",
              "  <div id=\"df-86911421-1298-4579-861c-5db87b1979ca\">\n",
              "    <div class=\"colab-df-container\">\n",
              "      <div>\n",
              "<style scoped>\n",
              "    .dataframe tbody tr th:only-of-type {\n",
              "        vertical-align: middle;\n",
              "    }\n",
              "\n",
              "    .dataframe tbody tr th {\n",
              "        vertical-align: top;\n",
              "    }\n",
              "\n",
              "    .dataframe thead th {\n",
              "        text-align: right;\n",
              "    }\n",
              "</style>\n",
              "<table border=\"1\" class=\"dataframe\">\n",
              "  <thead>\n",
              "    <tr style=\"text-align: right;\">\n",
              "      <th></th>\n",
              "      <th>Tweets</th>\n",
              "      <th>Processed_Tweets</th>\n",
              "      <th>Bully_Label</th>\n",
              "      <th>Sentiment_label</th>\n",
              "      <th>Emotion_label</th>\n",
              "    </tr>\n",
              "  </thead>\n",
              "  <tbody>\n",
              "    <tr>\n",
              "      <th>0</th>\n",
              "      <td>Teri maa ki chut me Shivsena ka lund gaya kya</td>\n",
              "      <td>Teri maa ki chut me Shivsena ka lund gaya kya</td>\n",
              "      <td>1</td>\n",
              "      <td>Negative</td>\n",
              "      <td>Anger</td>\n",
              "    </tr>\n",
              "    <tr>\n",
              "      <th>1</th>\n",
              "      <td>Han muje pata hai teri maa ka ke gufa me jati thi</td>\n",
              "      <td>Han muje pata hai teri maa ka ke gufa me jati thi</td>\n",
              "      <td>1</td>\n",
              "      <td>Negative</td>\n",
              "      <td>Others</td>\n",
              "    </tr>\n",
              "    <tr>\n",
              "      <th>2</th>\n",
              "      <td>Tum kaha se aa gye bhai tumlog toh saree pehen...</td>\n",
              "      <td>Tum kaha se aa gye bhai tumlog toh saree pehen...</td>\n",
              "      <td>0</td>\n",
              "      <td>Neutral</td>\n",
              "      <td>Others</td>\n",
              "    </tr>\n",
              "    <tr>\n",
              "      <th>3</th>\n",
              "      <td>Koi moti🙊kisi ki besti😁 baisn ka or channey ki...</td>\n",
              "      <td>Koi motikisi ki besti baisn ka or channey ki d...</td>\n",
              "      <td>1</td>\n",
              "      <td>Negative</td>\n",
              "      <td>Disgust</td>\n",
              "    </tr>\n",
              "    <tr>\n",
              "      <th>4</th>\n",
              "      <td>Rahul kanwal aaj nanga hoke road per nachega 😂</td>\n",
              "      <td>Rahul kanwal aaj nanga hoke road per nachega</td>\n",
              "      <td>1</td>\n",
              "      <td>Negative</td>\n",
              "      <td>Disgust</td>\n",
              "    </tr>\n",
              "  </tbody>\n",
              "</table>\n",
              "</div>\n",
              "      <button class=\"colab-df-convert\" onclick=\"convertToInteractive('df-86911421-1298-4579-861c-5db87b1979ca')\"\n",
              "              title=\"Convert this dataframe to an interactive table.\"\n",
              "              style=\"display:none;\">\n",
              "        \n",
              "  <svg xmlns=\"http://www.w3.org/2000/svg\" height=\"24px\"viewBox=\"0 0 24 24\"\n",
              "       width=\"24px\">\n",
              "    <path d=\"M0 0h24v24H0V0z\" fill=\"none\"/>\n",
              "    <path d=\"M18.56 5.44l.94 2.06.94-2.06 2.06-.94-2.06-.94-.94-2.06-.94 2.06-2.06.94zm-11 1L8.5 8.5l.94-2.06 2.06-.94-2.06-.94L8.5 2.5l-.94 2.06-2.06.94zm10 10l.94 2.06.94-2.06 2.06-.94-2.06-.94-.94-2.06-.94 2.06-2.06.94z\"/><path d=\"M17.41 7.96l-1.37-1.37c-.4-.4-.92-.59-1.43-.59-.52 0-1.04.2-1.43.59L10.3 9.45l-7.72 7.72c-.78.78-.78 2.05 0 2.83L4 21.41c.39.39.9.59 1.41.59.51 0 1.02-.2 1.41-.59l7.78-7.78 2.81-2.81c.8-.78.8-2.07 0-2.86zM5.41 20L4 18.59l7.72-7.72 1.47 1.35L5.41 20z\"/>\n",
              "  </svg>\n",
              "      </button>\n",
              "      \n",
              "  <style>\n",
              "    .colab-df-container {\n",
              "      display:flex;\n",
              "      flex-wrap:wrap;\n",
              "      gap: 12px;\n",
              "    }\n",
              "\n",
              "    .colab-df-convert {\n",
              "      background-color: #E8F0FE;\n",
              "      border: none;\n",
              "      border-radius: 50%;\n",
              "      cursor: pointer;\n",
              "      display: none;\n",
              "      fill: #1967D2;\n",
              "      height: 32px;\n",
              "      padding: 0 0 0 0;\n",
              "      width: 32px;\n",
              "    }\n",
              "\n",
              "    .colab-df-convert:hover {\n",
              "      background-color: #E2EBFA;\n",
              "      box-shadow: 0px 1px 2px rgba(60, 64, 67, 0.3), 0px 1px 3px 1px rgba(60, 64, 67, 0.15);\n",
              "      fill: #174EA6;\n",
              "    }\n",
              "\n",
              "    [theme=dark] .colab-df-convert {\n",
              "      background-color: #3B4455;\n",
              "      fill: #D2E3FC;\n",
              "    }\n",
              "\n",
              "    [theme=dark] .colab-df-convert:hover {\n",
              "      background-color: #434B5C;\n",
              "      box-shadow: 0px 1px 3px 1px rgba(0, 0, 0, 0.15);\n",
              "      filter: drop-shadow(0px 1px 2px rgba(0, 0, 0, 0.3));\n",
              "      fill: #FFFFFF;\n",
              "    }\n",
              "  </style>\n",
              "\n",
              "      <script>\n",
              "        const buttonEl =\n",
              "          document.querySelector('#df-86911421-1298-4579-861c-5db87b1979ca button.colab-df-convert');\n",
              "        buttonEl.style.display =\n",
              "          google.colab.kernel.accessAllowed ? 'block' : 'none';\n",
              "\n",
              "        async function convertToInteractive(key) {\n",
              "          const element = document.querySelector('#df-86911421-1298-4579-861c-5db87b1979ca');\n",
              "          const dataTable =\n",
              "            await google.colab.kernel.invokeFunction('convertToInteractive',\n",
              "                                                     [key], {});\n",
              "          if (!dataTable) return;\n",
              "\n",
              "          const docLinkHtml = 'Like what you see? Visit the ' +\n",
              "            '<a target=\"_blank\" href=https://colab.research.google.com/notebooks/data_table.ipynb>data table notebook</a>'\n",
              "            + ' to learn more about interactive tables.';\n",
              "          element.innerHTML = '';\n",
              "          dataTable['output_type'] = 'display_data';\n",
              "          await google.colab.output.renderOutput(dataTable, element);\n",
              "          const docLink = document.createElement('div');\n",
              "          docLink.innerHTML = docLinkHtml;\n",
              "          element.appendChild(docLink);\n",
              "        }\n",
              "      </script>\n",
              "    </div>\n",
              "  </div>\n",
              "  "
            ]
          },
          "metadata": {},
          "execution_count": 45
        }
      ]
    },
    {
      "cell_type": "code",
      "source": [
        "data = data.apply(lambda x: x.astype(str).str.lower())"
      ],
      "metadata": {
        "id": "ymGYvAQNzW7A"
      },
      "execution_count": 46,
      "outputs": []
    },
    {
      "cell_type": "code",
      "source": [
        "data.head(2)"
      ],
      "metadata": {
        "id": "MV3AzEW_zWr4",
        "outputId": "20e3e795-345f-4285-d8fc-74a307dfa9dc",
        "colab": {
          "base_uri": "https://localhost:8080/",
          "height": 191
        }
      },
      "execution_count": 47,
      "outputs": [
        {
          "output_type": "execute_result",
          "data": {
            "text/plain": [
              "                                              Tweets  \\\n",
              "0      teri maa ki chut me shivsena ka lund gaya kya   \n",
              "1  han muje pata hai teri maa ka ke gufa me jati thi   \n",
              "\n",
              "                                    Processed_Tweets Bully_Label  \\\n",
              "0      teri maa ki chut me shivsena ka lund gaya kya           1   \n",
              "1  han muje pata hai teri maa ka ke gufa me jati thi           1   \n",
              "\n",
              "  Sentiment_label Emotion_label  \n",
              "0        negative         anger  \n",
              "1        negative        others  "
            ],
            "text/html": [
              "\n",
              "  <div id=\"df-ad32582d-0ba6-4314-9dbd-1726b64a28eb\">\n",
              "    <div class=\"colab-df-container\">\n",
              "      <div>\n",
              "<style scoped>\n",
              "    .dataframe tbody tr th:only-of-type {\n",
              "        vertical-align: middle;\n",
              "    }\n",
              "\n",
              "    .dataframe tbody tr th {\n",
              "        vertical-align: top;\n",
              "    }\n",
              "\n",
              "    .dataframe thead th {\n",
              "        text-align: right;\n",
              "    }\n",
              "</style>\n",
              "<table border=\"1\" class=\"dataframe\">\n",
              "  <thead>\n",
              "    <tr style=\"text-align: right;\">\n",
              "      <th></th>\n",
              "      <th>Tweets</th>\n",
              "      <th>Processed_Tweets</th>\n",
              "      <th>Bully_Label</th>\n",
              "      <th>Sentiment_label</th>\n",
              "      <th>Emotion_label</th>\n",
              "    </tr>\n",
              "  </thead>\n",
              "  <tbody>\n",
              "    <tr>\n",
              "      <th>0</th>\n",
              "      <td>teri maa ki chut me shivsena ka lund gaya kya</td>\n",
              "      <td>teri maa ki chut me shivsena ka lund gaya kya</td>\n",
              "      <td>1</td>\n",
              "      <td>negative</td>\n",
              "      <td>anger</td>\n",
              "    </tr>\n",
              "    <tr>\n",
              "      <th>1</th>\n",
              "      <td>han muje pata hai teri maa ka ke gufa me jati thi</td>\n",
              "      <td>han muje pata hai teri maa ka ke gufa me jati thi</td>\n",
              "      <td>1</td>\n",
              "      <td>negative</td>\n",
              "      <td>others</td>\n",
              "    </tr>\n",
              "  </tbody>\n",
              "</table>\n",
              "</div>\n",
              "      <button class=\"colab-df-convert\" onclick=\"convertToInteractive('df-ad32582d-0ba6-4314-9dbd-1726b64a28eb')\"\n",
              "              title=\"Convert this dataframe to an interactive table.\"\n",
              "              style=\"display:none;\">\n",
              "        \n",
              "  <svg xmlns=\"http://www.w3.org/2000/svg\" height=\"24px\"viewBox=\"0 0 24 24\"\n",
              "       width=\"24px\">\n",
              "    <path d=\"M0 0h24v24H0V0z\" fill=\"none\"/>\n",
              "    <path d=\"M18.56 5.44l.94 2.06.94-2.06 2.06-.94-2.06-.94-.94-2.06-.94 2.06-2.06.94zm-11 1L8.5 8.5l.94-2.06 2.06-.94-2.06-.94L8.5 2.5l-.94 2.06-2.06.94zm10 10l.94 2.06.94-2.06 2.06-.94-2.06-.94-.94-2.06-.94 2.06-2.06.94z\"/><path d=\"M17.41 7.96l-1.37-1.37c-.4-.4-.92-.59-1.43-.59-.52 0-1.04.2-1.43.59L10.3 9.45l-7.72 7.72c-.78.78-.78 2.05 0 2.83L4 21.41c.39.39.9.59 1.41.59.51 0 1.02-.2 1.41-.59l7.78-7.78 2.81-2.81c.8-.78.8-2.07 0-2.86zM5.41 20L4 18.59l7.72-7.72 1.47 1.35L5.41 20z\"/>\n",
              "  </svg>\n",
              "      </button>\n",
              "      \n",
              "  <style>\n",
              "    .colab-df-container {\n",
              "      display:flex;\n",
              "      flex-wrap:wrap;\n",
              "      gap: 12px;\n",
              "    }\n",
              "\n",
              "    .colab-df-convert {\n",
              "      background-color: #E8F0FE;\n",
              "      border: none;\n",
              "      border-radius: 50%;\n",
              "      cursor: pointer;\n",
              "      display: none;\n",
              "      fill: #1967D2;\n",
              "      height: 32px;\n",
              "      padding: 0 0 0 0;\n",
              "      width: 32px;\n",
              "    }\n",
              "\n",
              "    .colab-df-convert:hover {\n",
              "      background-color: #E2EBFA;\n",
              "      box-shadow: 0px 1px 2px rgba(60, 64, 67, 0.3), 0px 1px 3px 1px rgba(60, 64, 67, 0.15);\n",
              "      fill: #174EA6;\n",
              "    }\n",
              "\n",
              "    [theme=dark] .colab-df-convert {\n",
              "      background-color: #3B4455;\n",
              "      fill: #D2E3FC;\n",
              "    }\n",
              "\n",
              "    [theme=dark] .colab-df-convert:hover {\n",
              "      background-color: #434B5C;\n",
              "      box-shadow: 0px 1px 3px 1px rgba(0, 0, 0, 0.15);\n",
              "      filter: drop-shadow(0px 1px 2px rgba(0, 0, 0, 0.3));\n",
              "      fill: #FFFFFF;\n",
              "    }\n",
              "  </style>\n",
              "\n",
              "      <script>\n",
              "        const buttonEl =\n",
              "          document.querySelector('#df-ad32582d-0ba6-4314-9dbd-1726b64a28eb button.colab-df-convert');\n",
              "        buttonEl.style.display =\n",
              "          google.colab.kernel.accessAllowed ? 'block' : 'none';\n",
              "\n",
              "        async function convertToInteractive(key) {\n",
              "          const element = document.querySelector('#df-ad32582d-0ba6-4314-9dbd-1726b64a28eb');\n",
              "          const dataTable =\n",
              "            await google.colab.kernel.invokeFunction('convertToInteractive',\n",
              "                                                     [key], {});\n",
              "          if (!dataTable) return;\n",
              "\n",
              "          const docLinkHtml = 'Like what you see? Visit the ' +\n",
              "            '<a target=\"_blank\" href=https://colab.research.google.com/notebooks/data_table.ipynb>data table notebook</a>'\n",
              "            + ' to learn more about interactive tables.';\n",
              "          element.innerHTML = '';\n",
              "          dataTable['output_type'] = 'display_data';\n",
              "          await google.colab.output.renderOutput(dataTable, element);\n",
              "          const docLink = document.createElement('div');\n",
              "          docLink.innerHTML = docLinkHtml;\n",
              "          element.appendChild(docLink);\n",
              "        }\n",
              "      </script>\n",
              "    </div>\n",
              "  </div>\n",
              "  "
            ]
          },
          "metadata": {},
          "execution_count": 47
        }
      ]
    },
    {
      "cell_type": "code",
      "source": [
        "data['Sentiment_label'].value_counts()"
      ],
      "metadata": {
        "id": "HhOz_YBiSf0X",
        "outputId": "79bf0706-6b7c-4142-9fe1-b4032ba27791",
        "colab": {
          "base_uri": "https://localhost:8080/"
        }
      },
      "execution_count": 48,
      "outputs": [
        {
          "output_type": "execute_result",
          "data": {
            "text/plain": [
              "negative    3227\n",
              "positive    1530\n",
              "neutral     1327\n",
              "Name: Sentiment_label, dtype: int64"
            ]
          },
          "metadata": {},
          "execution_count": 48
        }
      ]
    },
    {
      "cell_type": "code",
      "source": [
        "#data = data(np.random.rand(10, 4), columns=['Bully_Label',\t'Sentiment_label','Emotion_label'])\n",
        "df = pd.DataFrame(data, columns=['Bully_Label',\t'Sentiment_label','Emotion_label'])\n",
        "#df.plot(x=\"Emotion_label\", y=['Bully_Label'], kind=\"bar\", figsize=(9, 8))\n",
        "#[1261]: df2.plot(kind='bar');\n",
        "\n",
        "\n",
        "df['Sentiment_label'].value_counts().plot(kind='bar')"
      ],
      "metadata": {
        "id": "Ed28vjk0Sfwn",
        "outputId": "221f3372-cc65-4e68-bd64-922f5605be96",
        "colab": {
          "base_uri": "https://localhost:8080/",
          "height": 346
        }
      },
      "execution_count": 49,
      "outputs": [
        {
          "output_type": "execute_result",
          "data": {
            "text/plain": [
              "<matplotlib.axes._subplots.AxesSubplot at 0x7f3f4c0b0990>"
            ]
          },
          "metadata": {},
          "execution_count": 49
        },
        {
          "output_type": "display_data",
          "data": {
            "text/plain": [
              "<Figure size 432x288 with 1 Axes>"
            ],
            "image/png": "[encoded data removed]"
          },
          "metadata": {}
        }
      ]
    },
    {
      "cell_type": "code",
      "source": [
        "data['Bully_Label'].value_counts()# positive and neutral =0 , negative =1"
      ],
      "metadata": {
        "id": "nP_f7j9oSfua",
        "outputId": "3c8eeb4d-aef8-4752-f2e5-14fcc3ff39bc",
        "colab": {
          "base_uri": "https://localhost:8080/"
        }
      },
      "execution_count": 50,
      "outputs": [
        {
          "output_type": "execute_result",
          "data": {
            "text/plain": [
              "1    3050\n",
              "0    3034\n",
              "Name: Bully_Label, dtype: int64"
            ]
          },
          "metadata": {},
          "execution_count": 50
        }
      ]
    },
    {
      "cell_type": "code",
      "source": [
        "df['Bully_Label'].value_counts().plot(kind='bar')"
      ],
      "metadata": {
        "id": "K6JxCg4WTETi",
        "outputId": "d28a8e3a-3159-44b1-d654-0d306dc97ec0",
        "colab": {
          "base_uri": "https://localhost:8080/",
          "height": 294
        }
      },
      "execution_count": 52,
      "outputs": [
        {
          "output_type": "execute_result",
          "data": {
            "text/plain": [
              "<matplotlib.axes._subplots.AxesSubplot at 0x7f3f4131c690>"
            ]
          },
          "metadata": {},
          "execution_count": 52
        },
        {
          "output_type": "display_data",
          "data": {
            "text/plain": [
              "<Figure size 432x288 with 1 Axes>"
            ],
            "image/png": "[encoded data removed]"
          },
          "metadata": {}
        }
      ]
    },
    {
      "cell_type": "code",
      "source": [
        "df['Emotion_label'].value_counts()"
      ],
      "metadata": {
        "id": "rqsioZlqTKmU",
        "outputId": "c01df3d4-f306-45b7-a137-2fdd2ea55c38",
        "colab": {
          "base_uri": "https://localhost:8080/"
        }
      },
      "execution_count": 53,
      "outputs": [
        {
          "output_type": "execute_result",
          "data": {
            "text/plain": [
              "others       1735\n",
              "disgust      1678\n",
              "happiness    1367\n",
              "anger         900\n",
              "sadness       254\n",
              "surprise      114\n",
              "fear           36\n",
              "Name: Emotion_label, dtype: int64"
            ]
          },
          "metadata": {},
          "execution_count": 53
        }
      ]
    },
    {
      "cell_type": "code",
      "source": [
        "df['Emotion_label'].value_counts().plot(kind='bar')"
      ],
      "metadata": {
        "id": "IGqfHCf_Sfr1",
        "outputId": "283690bf-5b3f-4a0f-ff07-4194ff4cbaa9",
        "colab": {
          "base_uri": "https://localhost:8080/",
          "height": 356
        }
      },
      "execution_count": 51,
      "outputs": [
        {
          "output_type": "execute_result",
          "data": {
            "text/plain": [
              "<matplotlib.axes._subplots.AxesSubplot at 0x7f3f417df5d0>"
            ]
          },
          "metadata": {},
          "execution_count": 51
        },
        {
          "output_type": "display_data",
          "data": {
            "text/plain": [
              "<Figure size 432x288 with 1 Axes>"
            ],
            "image/png": "[encoded data removed]"
          },
          "metadata": {}
        }
      ]
    },
    {
      "cell_type": "code",
      "source": [
        "data.info()"
      ],
      "metadata": {
        "id": "QZ5I3leVTYPS",
        "outputId": "c3b25b6b-cb6c-464b-de60-0f7bb6f99fcb",
        "colab": {
          "base_uri": "https://localhost:8080/"
        }
      },
      "execution_count": 54,
      "outputs": [
        {
          "output_type": "stream",
          "name": "stdout",
          "text": [
            "<class 'pandas.core.frame.DataFrame'>\n",
            "RangeIndex: 6084 entries, 0 to 6083\n",
            "Data columns (total 5 columns):\n",
            " #   Column            Non-Null Count  Dtype \n",
            "---  ------            --------------  ----- \n",
            " 0   Tweets            6084 non-null   object\n",
            " 1   Processed_Tweets  6084 non-null   object\n",
            " 2   Bully_Label       6084 non-null   object\n",
            " 3   Sentiment_label   6084 non-null   object\n",
            " 4   Emotion_label     6084 non-null   object\n",
            "dtypes: object(5)\n",
            "memory usage: 237.8+ KB\n"
          ]
        }
      ]
    },
    {
      "cell_type": "code",
      "source": [
        "data.isnull().sum()"
      ],
      "metadata": {
        "id": "9mh0JK7-TbE-",
        "outputId": "7a046391-5f78-44d4-d515-f5fec6d76cc9",
        "colab": {
          "base_uri": "https://localhost:8080/"
        }
      },
      "execution_count": 55,
      "outputs": [
        {
          "output_type": "execute_result",
          "data": {
            "text/plain": [
              "Tweets              0\n",
              "Processed_Tweets    0\n",
              "Bully_Label         0\n",
              "Sentiment_label     0\n",
              "Emotion_label       0\n",
              "dtype: int64"
            ]
          },
          "metadata": {},
          "execution_count": 55
        }
      ]
    },
    {
      "cell_type": "code",
      "source": [
        "\n",
        "from collections import Counter\n",
        "\n",
        "Tweets = data.Tweets.str.cat(sep=' ') \n",
        "\n",
        "freq = Counter(Tweets.split()).most_common(25)\n",
        "print(freq)"
      ],
      "metadata": {
        "id": "E1JY-jjKSfpK",
        "outputId": "5732436f-eee0-407d-c8e7-559383efb9ee",
        "colab": {
          "base_uri": "https://localhost:8080/"
        }
      },
      "execution_count": 56,
      "outputs": [
        {
          "output_type": "stream",
          "name": "stdout",
          "text": [
            "[('hai', 2248), ('ka', 1665), ('ki', 1641), ('to', 1526), ('ko', 1174), ('ke', 1131), ('teri', 1111), ('hi', 1090), ('maa', 1043), ('se', 971), ('bhi', 957), ('randi', 937), ('ho', 884), ('me', 786), ('aur', 774), ('khubsurat', 682), ('is', 681), ('k', 643), ('the', 629), ('nahi', 605), ('and', 574), ('ye', 558), ('beautiful', 555), ('tu', 541), ('a', 521)]\n"
          ]
        }
      ]
    },
    {
      "cell_type": "code",
      "source": [
        "!pip install langdetect"
      ],
      "metadata": {
        "id": "eL7OEPGIWYbe",
        "outputId": "a82d806b-e895-438b-bf03-32b8ef82bade",
        "colab": {
          "base_uri": "https://localhost:8080/"
        }
      },
      "execution_count": 59,
      "outputs": [
        {
          "output_type": "stream",
          "name": "stdout",
          "text": [
            "Looking in indexes: https://pypi.org/simple, https://us-python.pkg.dev/colab-wheels/public/simple/\n",
            "Collecting langdetect\n",
            "  Downloading langdetect-1.0.9.tar.gz (981 kB)\n",
            "\u001b[K     |████████████████████████████████| 981 kB 23.7 MB/s \n",
            "\u001b[?25hRequirement already satisfied: six in /usr/local/lib/python3.7/dist-packages (from langdetect) (1.15.0)\n",
            "Building wheels for collected packages: langdetect\n",
            "  Building wheel for langdetect (setup.py) ... \u001b[?25l\u001b[?25hdone\n",
            "  Created wheel for langdetect: filename=langdetect-1.0.9-py3-none-any.whl size=993242 sha256=121bb136a6697cf2728fdd3595221c3e170d66f30f7b2eae84ab22d18bacf840\n",
            "  Stored in directory: /root/.cache/pip/wheels/c5/96/8a/f90c59ed25d75e50a8c10a1b1c2d4c402e4dacfa87f3aff36a\n",
            "Successfully built langdetect\n",
            "Installing collected packages: langdetect\n",
            "Successfully installed langdetect-1.0.9\n"
          ]
        }
      ]
    },
    {
      "cell_type": "code",
      "source": [
        "chars_hindi = [chr(c) for c in range(0x0900, 0x097f)]"
      ],
      "metadata": {
        "id": "IYX2uh8dXmQM"
      },
      "execution_count": 66,
      "outputs": []
    },
    {
      "cell_type": "code",
      "source": [
        "df_hindi = data[data.Processed_Tweets.str.contains('|'.join(chars_hindi))]"
      ],
      "metadata": {
        "id": "h04rucB9XrZY"
      },
      "execution_count": 68,
      "outputs": []
    },
    {
      "cell_type": "code",
      "source": [
        "df_hindi"
      ],
      "metadata": {
        "id": "99QS3z8SX5-T",
        "outputId": "a0b5041e-528a-45b2-ec4a-819ce85bf1ab",
        "colab": {
          "base_uri": "https://localhost:8080/",
          "height": 641
        }
      },
      "execution_count": 69,
      "outputs": [
        {
          "output_type": "execute_result",
          "data": {
            "text/plain": [
              "                                                 Tweets  \\\n",
              "44    कैसे हर बार बला की खूबसूरत लगती है @norafatehi...   \n",
              "47     fir  hotay hi corona hogaya\\naysay kitnay may...   \n",
              "83    @rofl_annu good morning beautiful hair, \\nतेरे...   \n",
              "92    @nijisachiv वफादारी किसी पार्टी विशेष के लिए न...   \n",
              "105   \"my dear respected friends...!!\\n~!!🌳🌺🌾beautif...   \n",
              "...                                                 ...   \n",
              "5981  बेशक पेसे कमाओ....💵\\n\\nलेकीन.....✋🏻\\n\\nपेसे को...   \n",
              "6015  #newprofilepic2021 \\nहम थे जिनके सहारे  वो हुए...   \n",
              "6029  full on gyan baji ho rhi hai whtsp status me m...   \n",
              "6038  भारत की इन जगहों के प्राकृतिक सौंदर्य को देखकर...   \n",
              "6083  इश्क़ में थे जब,\\nवादा हमारा,\\nदावा भी हमारा,\\...   \n",
              "\n",
              "                                       Processed_Tweets Bully_Label  \\\n",
              "44    कैसे हर बार बला की खूबसूरत लगती है वीडियो शेयर...           0   \n",
              "47    fir hotay hi corona hogayaaysay kitnay may bik...           1   \n",
              "83    good morning beautiful hair तेरे रूखसार पर बिख...           0   \n",
              "92    वफादारी किसी पार्टी विशेष के लिए नही अपने धर्म...           0   \n",
              "105   \"my dear respected friends~beautiful good morn...           0   \n",
              "...                                                 ...         ...   \n",
              "5981  बेशक पेसे कमाओलेकीन✋पेसे को देख कर आने वाली ओर...           1   \n",
              "6015  newprofilepic2021 हम थे जिनके सहारे वो हुए न ह...           0   \n",
              "6029  full on gyan baji ho rhi hai whtsp status me m...           0   \n",
              "6038  भारत की इन जगहों के प्राकृतिक सौंदर्य को देखकर...           0   \n",
              "6083  इश्क़ में थे जबवादा हमारादावा भी हमाराधोखा उनक...           0   \n",
              "\n",
              "     Sentiment_label Emotion_label detect  \n",
              "44          positive     happiness     id  \n",
              "47          negative       disgust     id  \n",
              "83          positive     happiness     id  \n",
              "92          positive     happiness     id  \n",
              "105         positive     happiness     id  \n",
              "...              ...           ...    ...  \n",
              "5981        negative         anger     id  \n",
              "6015        positive       sadness     id  \n",
              "6029         neutral        others     id  \n",
              "6038        positive     happiness     id  \n",
              "6083         neutral       sadness     id  \n",
              "\n",
              "[344 rows x 6 columns]"
            ],
            "text/html": [
              "\n",
              "  <div id=\"df-62a2fa0d-ec97-4fdc-8595-699960644211\">\n",
              "    <div class=\"colab-df-container\">\n",
              "      <div>\n",
              "<style scoped>\n",
              "    .dataframe tbody tr th:only-of-type {\n",
              "        vertical-align: middle;\n",
              "    }\n",
              "\n",
              "    .dataframe tbody tr th {\n",
              "        vertical-align: top;\n",
              "    }\n",
              "\n",
              "    .dataframe thead th {\n",
              "        text-align: right;\n",
              "    }\n",
              "</style>\n",
              "<table border=\"1\" class=\"dataframe\">\n",
              "  <thead>\n",
              "    <tr style=\"text-align: right;\">\n",
              "      <th></th>\n",
              "      <th>Tweets</th>\n",
              "      <th>Processed_Tweets</th>\n",
              "      <th>Bully_Label</th>\n",
              "      <th>Sentiment_label</th>\n",
              "      <th>Emotion_label</th>\n",
              "      <th>detect</th>\n",
              "    </tr>\n",
              "  </thead>\n",
              "  <tbody>\n",
              "    <tr>\n",
              "      <th>44</th>\n",
              "      <td>कैसे हर बार बला की खूबसूरत लगती है @norafatehi...</td>\n",
              "      <td>कैसे हर बार बला की खूबसूरत लगती है वीडियो शेयर...</td>\n",
              "      <td>0</td>\n",
              "      <td>positive</td>\n",
              "      <td>happiness</td>\n",
              "      <td>id</td>\n",
              "    </tr>\n",
              "    <tr>\n",
              "      <th>47</th>\n",
              "      <td>fir  hotay hi corona hogaya\\naysay kitnay may...</td>\n",
              "      <td>fir hotay hi corona hogayaaysay kitnay may bik...</td>\n",
              "      <td>1</td>\n",
              "      <td>negative</td>\n",
              "      <td>disgust</td>\n",
              "      <td>id</td>\n",
              "    </tr>\n",
              "    <tr>\n",
              "      <th>83</th>\n",
              "      <td>@rofl_annu good morning beautiful hair, \\nतेरे...</td>\n",
              "      <td>good morning beautiful hair तेरे रूखसार पर बिख...</td>\n",
              "      <td>0</td>\n",
              "      <td>positive</td>\n",
              "      <td>happiness</td>\n",
              "      <td>id</td>\n",
              "    </tr>\n",
              "    <tr>\n",
              "      <th>92</th>\n",
              "      <td>@nijisachiv वफादारी किसी पार्टी विशेष के लिए न...</td>\n",
              "      <td>वफादारी किसी पार्टी विशेष के लिए नही अपने धर्म...</td>\n",
              "      <td>0</td>\n",
              "      <td>positive</td>\n",
              "      <td>happiness</td>\n",
              "      <td>id</td>\n",
              "    </tr>\n",
              "    <tr>\n",
              "      <th>105</th>\n",
              "      <td>\"my dear respected friends...!!\\n~!!🌳🌺🌾beautif...</td>\n",
              "      <td>\"my dear respected friends~beautiful good morn...</td>\n",
              "      <td>0</td>\n",
              "      <td>positive</td>\n",
              "      <td>happiness</td>\n",
              "      <td>id</td>\n",
              "    </tr>\n",
              "    <tr>\n",
              "      <th>...</th>\n",
              "      <td>...</td>\n",
              "      <td>...</td>\n",
              "      <td>...</td>\n",
              "      <td>...</td>\n",
              "      <td>...</td>\n",
              "      <td>...</td>\n",
              "    </tr>\n",
              "    <tr>\n",
              "      <th>5981</th>\n",
              "      <td>बेशक पेसे कमाओ....💵\\n\\nलेकीन.....✋🏻\\n\\nपेसे को...</td>\n",
              "      <td>बेशक पेसे कमाओलेकीन✋पेसे को देख कर आने वाली ओर...</td>\n",
              "      <td>1</td>\n",
              "      <td>negative</td>\n",
              "      <td>anger</td>\n",
              "      <td>id</td>\n",
              "    </tr>\n",
              "    <tr>\n",
              "      <th>6015</th>\n",
              "      <td>#newprofilepic2021 \\nहम थे जिनके सहारे  वो हुए...</td>\n",
              "      <td>newprofilepic2021 हम थे जिनके सहारे वो हुए न ह...</td>\n",
              "      <td>0</td>\n",
              "      <td>positive</td>\n",
              "      <td>sadness</td>\n",
              "      <td>id</td>\n",
              "    </tr>\n",
              "    <tr>\n",
              "      <th>6029</th>\n",
              "      <td>full on gyan baji ho rhi hai whtsp status me m...</td>\n",
              "      <td>full on gyan baji ho rhi hai whtsp status me m...</td>\n",
              "      <td>0</td>\n",
              "      <td>neutral</td>\n",
              "      <td>others</td>\n",
              "      <td>id</td>\n",
              "    </tr>\n",
              "    <tr>\n",
              "      <th>6038</th>\n",
              "      <td>भारत की इन जगहों के प्राकृतिक सौंदर्य को देखकर...</td>\n",
              "      <td>भारत की इन जगहों के प्राकृतिक सौंदर्य को देखकर...</td>\n",
              "      <td>0</td>\n",
              "      <td>positive</td>\n",
              "      <td>happiness</td>\n",
              "      <td>id</td>\n",
              "    </tr>\n",
              "    <tr>\n",
              "      <th>6083</th>\n",
              "      <td>इश्क़ में थे जब,\\nवादा हमारा,\\nदावा भी हमारा,\\...</td>\n",
              "      <td>इश्क़ में थे जबवादा हमारादावा भी हमाराधोखा उनक...</td>\n",
              "      <td>0</td>\n",
              "      <td>neutral</td>\n",
              "      <td>sadness</td>\n",
              "      <td>id</td>\n",
              "    </tr>\n",
              "  </tbody>\n",
              "</table>\n",
              "<p>344 rows × 6 columns</p>\n",
              "</div>\n",
              "      <button class=\"colab-df-convert\" onclick=\"convertToInteractive('df-62a2fa0d-ec97-4fdc-8595-699960644211')\"\n",
              "              title=\"Convert this dataframe to an interactive table.\"\n",
              "              style=\"display:none;\">\n",
              "        \n",
              "  <svg xmlns=\"http://www.w3.org/2000/svg\" height=\"24px\"viewBox=\"0 0 24 24\"\n",
              "       width=\"24px\">\n",
              "    <path d=\"M0 0h24v24H0V0z\" fill=\"none\"/>\n",
              "    <path d=\"M18.56 5.44l.94 2.06.94-2.06 2.06-.94-2.06-.94-.94-2.06-.94 2.06-2.06.94zm-11 1L8.5 8.5l.94-2.06 2.06-.94-2.06-.94L8.5 2.5l-.94 2.06-2.06.94zm10 10l.94 2.06.94-2.06 2.06-.94-2.06-.94-.94-2.06-.94 2.06-2.06.94z\"/><path d=\"M17.41 7.96l-1.37-1.37c-.4-.4-.92-.59-1.43-.59-.52 0-1.04.2-1.43.59L10.3 9.45l-7.72 7.72c-.78.78-.78 2.05 0 2.83L4 21.41c.39.39.9.59 1.41.59.51 0 1.02-.2 1.41-.59l7.78-7.78 2.81-2.81c.8-.78.8-2.07 0-2.86zM5.41 20L4 18.59l7.72-7.72 1.47 1.35L5.41 20z\"/>\n",
              "  </svg>\n",
              "      </button>\n",
              "      \n",
              "  <style>\n",
              "    .colab-df-container {\n",
              "      display:flex;\n",
              "      flex-wrap:wrap;\n",
              "      gap: 12px;\n",
              "    }\n",
              "\n",
              "    .colab-df-convert {\n",
              "      background-color: #E8F0FE;\n",
              "      border: none;\n",
              "      border-radius: 50%;\n",
              "      cursor: pointer;\n",
              "      display: none;\n",
              "      fill: #1967D2;\n",
              "      height: 32px;\n",
              "      padding: 0 0 0 0;\n",
              "      width: 32px;\n",
              "    }\n",
              "\n",
              "    .colab-df-convert:hover {\n",
              "      background-color: #E2EBFA;\n",
              "      box-shadow: 0px 1px 2px rgba(60, 64, 67, 0.3), 0px 1px 3px 1px rgba(60, 64, 67, 0.15);\n",
              "      fill: #174EA6;\n",
              "    }\n",
              "\n",
              "    [theme=dark] .colab-df-convert {\n",
              "      background-color: #3B4455;\n",
              "      fill: #D2E3FC;\n",
              "    }\n",
              "\n",
              "    [theme=dark] .colab-df-convert:hover {\n",
              "      background-color: #434B5C;\n",
              "      box-shadow: 0px 1px 3px 1px rgba(0, 0, 0, 0.15);\n",
              "      filter: drop-shadow(0px 1px 2px rgba(0, 0, 0, 0.3));\n",
              "      fill: #FFFFFF;\n",
              "    }\n",
              "  </style>\n",
              "\n",
              "      <script>\n",
              "        const buttonEl =\n",
              "          document.querySelector('#df-62a2fa0d-ec97-4fdc-8595-699960644211 button.colab-df-convert');\n",
              "        buttonEl.style.display =\n",
              "          google.colab.kernel.accessAllowed ? 'block' : 'none';\n",
              "\n",
              "        async function convertToInteractive(key) {\n",
              "          const element = document.querySelector('#df-62a2fa0d-ec97-4fdc-8595-699960644211');\n",
              "          const dataTable =\n",
              "            await google.colab.kernel.invokeFunction('convertToInteractive',\n",
              "                                                     [key], {});\n",
              "          if (!dataTable) return;\n",
              "\n",
              "          const docLinkHtml = 'Like what you see? Visit the ' +\n",
              "            '<a target=\"_blank\" href=https://colab.research.google.com/notebooks/data_table.ipynb>data table notebook</a>'\n",
              "            + ' to learn more about interactive tables.';\n",
              "          element.innerHTML = '';\n",
              "          dataTable['output_type'] = 'display_data';\n",
              "          await google.colab.output.renderOutput(dataTable, element);\n",
              "          const docLink = document.createElement('div');\n",
              "          docLink.innerHTML = docLinkHtml;\n",
              "          element.appendChild(docLink);\n",
              "        }\n",
              "      </script>\n",
              "    </div>\n",
              "  </div>\n",
              "  "
            ]
          },
          "metadata": {},
          "execution_count": 69
        }
      ]
    },
    {
      "cell_type": "code",
      "source": [
        "data.shape"
      ],
      "metadata": {
        "id": "mzszQVDLYlfp",
        "outputId": "9c05b7b6-f3e4-4ca9-abbf-8025897e83d5",
        "colab": {
          "base_uri": "https://localhost:8080/"
        }
      },
      "execution_count": 71,
      "outputs": [
        {
          "output_type": "execute_result",
          "data": {
            "text/plain": [
              "(6084, 6)"
            ]
          },
          "metadata": {},
          "execution_count": 71
        }
      ]
    },
    {
      "cell_type": "code",
      "source": [
        "line =  \" अंदर अत अदि अप अपना अपनि अपनी अपने अभि अभी आदि आप इंहिं इंहें इंहों इतयादि इत्यादि इन इनका इन्हीं इन्हें इन्हों इस इसका इसकि इसकी इसके इसमें इसि इसी इसे उंहिं उंहें उंहों उन उनका उनकि उनकी उनके उनको उन्हीं उन्हें उन्हों उस उसके उसि उसी उसे एक एवं एस एसे ऐसे ओर और कइ कई कर करता करते करना करने करें कहते कहा का काफि काफ़ी कि किंहें किंहों कितना किन्हें किन्हों किया किर किस किसि किसी किसे की कुछ कुल के को कोइ कोई कोन कोनसा कौन कौनसा गया घर जब जहाँ जहां जा जिंहें जिंहों जितना जिधर जिन जिन्हें जिन्हों जिस जिसे जीधर जेसा जेसे जैसा जैसे जो तक तब तरह तिंहें तिंहों तिन तिन्हें तिन्हों तिस तिसे तो था थि थी थे दबारा दवारा दिया दुसरा दुसरे दूसरे दो द्वारा न नहिं नहीं ना निचे निहायत नीचे ने पर पहले पुरा पूरा पे फिर बनि बनी बहि बही बहुत बाद बाला बिलकुल भि भितर भी भीतर मगर मानो मे में यदि यह यहाँ यहां यहि यही या यिह ये रखें रवासा रहा रहे ऱ्वासा लिए लिये लेकिन व वगेरह वरग वर्ग वह वहाँ वहां वहिं वहीं वाले वुह वे वग़ैरह संग सकता सकते सबसे सभि सभी साथ साबुत साभ सारा से सो हि ही हुअ हुआ हुइ हुई हुए हे हें है हैं हो होता होति होती होते होना होने \""
      ],
      "metadata": {
        "id": "k8Mq7NYGenvE"
      },
      "execution_count": 82,
      "outputs": []
    },
    {
      "cell_type": "code",
      "source": [
        "import nltk\n",
        "nltk.download('punkt')\n",
        " \n",
        "#string = \"This is a sentence\"\n",
        "lst = nltk.word_tokenize(line)\n",
        "print(lst)"
      ],
      "metadata": {
        "id": "JERAZtXSgSP9",
        "outputId": "e5329c7e-a314-4b4d-85af-139594ba1925",
        "colab": {
          "base_uri": "https://localhost:8080/"
        }
      },
      "execution_count": 83,
      "outputs": [
        {
          "output_type": "stream",
          "name": "stdout",
          "text": [
            "['अंदर', 'अत', 'अदि', 'अप', 'अपना', 'अपनि', 'अपनी', 'अपने', 'अभि', 'अभी', 'आदि', 'आप', 'इंहिं', 'इंहें', 'इंहों', 'इतयादि', 'इत्यादि', 'इन', 'इनका', 'इन्हीं', 'इन्हें', 'इन्हों', 'इस', 'इसका', 'इसकि', 'इसकी', 'इसके', 'इसमें', 'इसि', 'इसी', 'इसे', 'उंहिं', 'उंहें', 'उंहों', 'उन', 'उनका', 'उनकि', 'उनकी', 'उनके', 'उनको', 'उन्हीं', 'उन्हें', 'उन्हों', 'उस', 'उसके', 'उसि', 'उसी', 'उसे', 'एक', 'एवं', 'एस', 'एसे', 'ऐसे', 'ओर', 'और', 'कइ', 'कई', 'कर', 'करता', 'करते', 'करना', 'करने', 'करें', 'कहते', 'कहा', 'का', 'काफि', 'काफ़ी', 'कि', 'किंहें', 'किंहों', 'कितना', 'किन्हें', 'किन्हों', 'किया', 'किर', 'किस', 'किसि', 'किसी', 'किसे', 'की', 'कुछ', 'कुल', 'के', 'को', 'कोइ', 'कोई', 'कोन', 'कोनसा', 'कौन', 'कौनसा', 'गया', 'घर', 'जब', 'जहाँ', 'जहां', 'जा', 'जिंहें', 'जिंहों', 'जितना', 'जिधर', 'जिन', 'जिन्हें', 'जिन्हों', 'जिस', 'जिसे', 'जीधर', 'जेसा', 'जेसे', 'जैसा', 'जैसे', 'जो', 'तक', 'तब', 'तरह', 'तिंहें', 'तिंहों', 'तिन', 'तिन्हें', 'तिन्हों', 'तिस', 'तिसे', 'तो', 'था', 'थि', 'थी', 'थे', 'दबारा', 'दवारा', 'दिया', 'दुसरा', 'दुसरे', 'दूसरे', 'दो', 'द्वारा', 'न', 'नहिं', 'नहीं', 'ना', 'निचे', 'निहायत', 'नीचे', 'ने', 'पर', 'पहले', 'पुरा', 'पूरा', 'पे', 'फिर', 'बनि', 'बनी', 'बहि', 'बही', 'बहुत', 'बाद', 'बाला', 'बिलकुल', 'भि', 'भितर', 'भी', 'भीतर', 'मगर', 'मानो', 'मे', 'में', 'यदि', 'यह', 'यहाँ', 'यहां', 'यहि', 'यही', 'या', 'यिह', 'ये', 'रखें', 'रवासा', 'रहा', 'रहे', 'ऱ्वासा', 'लिए', 'लिये', 'लेकिन', 'व', 'वगेरह', 'वरग', 'वर्ग', 'वह', 'वहाँ', 'वहां', 'वहिं', 'वहीं', 'वाले', 'वुह', 'वे', 'वग़ैरह', 'संग', 'सकता', 'सकते', 'सबसे', 'सभि', 'सभी', 'साथ', 'साबुत', 'साभ', 'सारा', 'से', 'सो', 'हि', 'ही', 'हुअ', 'हुआ', 'हुइ', 'हुई', 'हुए', 'हे', 'हें', 'है', 'हैं', 'हो', 'होता', 'होति', 'होती', 'होते', 'होना', 'होने']\n"
          ]
        },
        {
          "output_type": "stream",
          "name": "stderr",
          "text": [
            "[nltk_data] Downloading package punkt to /root/nltk_data...\n",
            "[nltk_data]   Package punkt is already up-to-date!\n"
          ]
        }
      ]
    },
    {
      "cell_type": "code",
      "source": [
        "\n",
        "data = data[~data.Tweets.str.contains('|'.join(lst))]\n",
        "# through this , I have dropped all rows which was conatining devnagiri word"
      ],
      "metadata": {
        "id": "j5ALzX-iacO6"
      },
      "execution_count": 87,
      "outputs": []
    },
    {
      "cell_type": "code",
      "source": [
        "data.shape"
      ],
      "metadata": {
        "id": "ahyjnDYKi3Wf",
        "outputId": "8fef4c5d-e6d5-4824-984e-3736ff59285e",
        "colab": {
          "base_uri": "https://localhost:8080/"
        }
      },
      "execution_count": 89,
      "outputs": [
        {
          "output_type": "execute_result",
          "data": {
            "text/plain": [
              "(5753, 6)"
            ]
          },
          "metadata": {},
          "execution_count": 89
        }
      ]
    },
    {
      "cell_type": "code",
      "source": [
        "data.tail()"
      ],
      "metadata": {
        "id": "NpzhbUJqnDN5",
        "outputId": "0e8e8a26-1484-4701-caa8-8b263072a293",
        "colab": {
          "base_uri": "https://localhost:8080/",
          "height": 511
        }
      },
      "execution_count": 94,
      "outputs": [
        {
          "output_type": "execute_result",
          "data": {
            "text/plain": [
              "                                                 Tweets  \\\n",
              "6078  @zaid078612 @ershikhaforbjp @bhupeshbaghel ter...   \n",
              "6079  dali sali kayo fhshdhdhdhd no need to follow m...   \n",
              "6080  @anjalisingh_inc tum rajput pehle mugalon ka b...   \n",
              "6081  khatna pe to bol diya ek baat bata upar wala t...   \n",
              "6082  chal be bhadwe sanghi.. teri maa ki choot me g...   \n",
              "\n",
              "                                       Processed_Tweets Bully_Label  \\\n",
              "6078      teri maa se bhi aise hi bolta h kya kuttiya h           1   \n",
              "6079  dali sali kayo fhshdhdhdhd no need to follow m...           0   \n",
              "6080  tum rajput pehle mugalon ka bistar garm krti t...           1   \n",
              "6081  khatna pe to bol diya ek baat bata upar wala t...           1   \n",
              "6082  chal be bhadwe sanghi teri maa ki choot me gho...           1   \n",
              "\n",
              "     Sentiment_label Emotion_label detect  \\\n",
              "6078        negative       disgust     id   \n",
              "6079         neutral        others     id   \n",
              "6080        negative       disgust     id   \n",
              "6081        negative        others     id   \n",
              "6082        negative       disgust     id   \n",
              "\n",
              "                                             clean_text  target  \n",
              "6078      teri maa se bhi aise hi bolta h kya kuttiya h    4743  \n",
              "6079  dali sali kayo fhshdhdhdhd no need to follow m...    1379  \n",
              "6080  tum rajput pehle mugalon ka bistar garm krti t...    5074  \n",
              "6081  khatna pe to bol diya ek baat bata upar wala t...    2607  \n",
              "6082  chal be bhadwe sanghi teri maa ki choot me gho...    1216  "
            ],
            "text/html": [
              "\n",
              "  <div id=\"df-80d4a905-d051-4149-aca3-cc04e1008dec\">\n",
              "    <div class=\"colab-df-container\">\n",
              "      <div>\n",
              "<style scoped>\n",
              "    .dataframe tbody tr th:only-of-type {\n",
              "        vertical-align: middle;\n",
              "    }\n",
              "\n",
              "    .dataframe tbody tr th {\n",
              "        vertical-align: top;\n",
              "    }\n",
              "\n",
              "    .dataframe thead th {\n",
              "        text-align: right;\n",
              "    }\n",
              "</style>\n",
              "<table border=\"1\" class=\"dataframe\">\n",
              "  <thead>\n",
              "    <tr style=\"text-align: right;\">\n",
              "      <th></th>\n",
              "      <th>Tweets</th>\n",
              "      <th>Processed_Tweets</th>\n",
              "      <th>Bully_Label</th>\n",
              "      <th>Sentiment_label</th>\n",
              "      <th>Emotion_label</th>\n",
              "      <th>detect</th>\n",
              "      <th>clean_text</th>\n",
              "      <th>target</th>\n",
              "    </tr>\n",
              "  </thead>\n",
              "  <tbody>\n",
              "    <tr>\n",
              "      <th>6078</th>\n",
              "      <td>@zaid078612 @ershikhaforbjp @bhupeshbaghel ter...</td>\n",
              "      <td>teri maa se bhi aise hi bolta h kya kuttiya h</td>\n",
              "      <td>1</td>\n",
              "      <td>negative</td>\n",
              "      <td>disgust</td>\n",
              "      <td>id</td>\n",
              "      <td>teri maa se bhi aise hi bolta h kya kuttiya h</td>\n",
              "      <td>4743</td>\n",
              "    </tr>\n",
              "    <tr>\n",
              "      <th>6079</th>\n",
              "      <td>dali sali kayo fhshdhdhdhd no need to follow m...</td>\n",
              "      <td>dali sali kayo fhshdhdhdhd no need to follow m...</td>\n",
              "      <td>0</td>\n",
              "      <td>neutral</td>\n",
              "      <td>others</td>\n",
              "      <td>id</td>\n",
              "      <td>dali sali kayo fhshdhdhdhd no need to follow m...</td>\n",
              "      <td>1379</td>\n",
              "    </tr>\n",
              "    <tr>\n",
              "      <th>6080</th>\n",
              "      <td>@anjalisingh_inc tum rajput pehle mugalon ka b...</td>\n",
              "      <td>tum rajput pehle mugalon ka bistar garm krti t...</td>\n",
              "      <td>1</td>\n",
              "      <td>negative</td>\n",
              "      <td>disgust</td>\n",
              "      <td>id</td>\n",
              "      <td>tum rajput pehle mugalon ka bistar garm krti t...</td>\n",
              "      <td>5074</td>\n",
              "    </tr>\n",
              "    <tr>\n",
              "      <th>6081</th>\n",
              "      <td>khatna pe to bol diya ek baat bata upar wala t...</td>\n",
              "      <td>khatna pe to bol diya ek baat bata upar wala t...</td>\n",
              "      <td>1</td>\n",
              "      <td>negative</td>\n",
              "      <td>others</td>\n",
              "      <td>id</td>\n",
              "      <td>khatna pe to bol diya ek baat bata upar wala t...</td>\n",
              "      <td>2607</td>\n",
              "    </tr>\n",
              "    <tr>\n",
              "      <th>6082</th>\n",
              "      <td>chal be bhadwe sanghi.. teri maa ki choot me g...</td>\n",
              "      <td>chal be bhadwe sanghi teri maa ki choot me gho...</td>\n",
              "      <td>1</td>\n",
              "      <td>negative</td>\n",
              "      <td>disgust</td>\n",
              "      <td>id</td>\n",
              "      <td>chal be bhadwe sanghi teri maa ki choot me gho...</td>\n",
              "      <td>1216</td>\n",
              "    </tr>\n",
              "  </tbody>\n",
              "</table>\n",
              "</div>\n",
              "      <button class=\"colab-df-convert\" onclick=\"convertToInteractive('df-80d4a905-d051-4149-aca3-cc04e1008dec')\"\n",
              "              title=\"Convert this dataframe to an interactive table.\"\n",
              "              style=\"display:none;\">\n",
              "        \n",
              "  <svg xmlns=\"http://www.w3.org/2000/svg\" height=\"24px\"viewBox=\"0 0 24 24\"\n",
              "       width=\"24px\">\n",
              "    <path d=\"M0 0h24v24H0V0z\" fill=\"none\"/>\n",
              "    <path d=\"M18.56 5.44l.94 2.06.94-2.06 2.06-.94-2.06-.94-.94-2.06-.94 2.06-2.06.94zm-11 1L8.5 8.5l.94-2.06 2.06-.94-2.06-.94L8.5 2.5l-.94 2.06-2.06.94zm10 10l.94 2.06.94-2.06 2.06-.94-2.06-.94-.94-2.06-.94 2.06-2.06.94z\"/><path d=\"M17.41 7.96l-1.37-1.37c-.4-.4-.92-.59-1.43-.59-.52 0-1.04.2-1.43.59L10.3 9.45l-7.72 7.72c-.78.78-.78 2.05 0 2.83L4 21.41c.39.39.9.59 1.41.59.51 0 1.02-.2 1.41-.59l7.78-7.78 2.81-2.81c.8-.78.8-2.07 0-2.86zM5.41 20L4 18.59l7.72-7.72 1.47 1.35L5.41 20z\"/>\n",
              "  </svg>\n",
              "      </button>\n",
              "      \n",
              "  <style>\n",
              "    .colab-df-container {\n",
              "      display:flex;\n",
              "      flex-wrap:wrap;\n",
              "      gap: 12px;\n",
              "    }\n",
              "\n",
              "    .colab-df-convert {\n",
              "      background-color: #E8F0FE;\n",
              "      border: none;\n",
              "      border-radius: 50%;\n",
              "      cursor: pointer;\n",
              "      display: none;\n",
              "      fill: #1967D2;\n",
              "      height: 32px;\n",
              "      padding: 0 0 0 0;\n",
              "      width: 32px;\n",
              "    }\n",
              "\n",
              "    .colab-df-convert:hover {\n",
              "      background-color: #E2EBFA;\n",
              "      box-shadow: 0px 1px 2px rgba(60, 64, 67, 0.3), 0px 1px 3px 1px rgba(60, 64, 67, 0.15);\n",
              "      fill: #174EA6;\n",
              "    }\n",
              "\n",
              "    [theme=dark] .colab-df-convert {\n",
              "      background-color: #3B4455;\n",
              "      fill: #D2E3FC;\n",
              "    }\n",
              "\n",
              "    [theme=dark] .colab-df-convert:hover {\n",
              "      background-color: #434B5C;\n",
              "      box-shadow: 0px 1px 3px 1px rgba(0, 0, 0, 0.15);\n",
              "      filter: drop-shadow(0px 1px 2px rgba(0, 0, 0, 0.3));\n",
              "      fill: #FFFFFF;\n",
              "    }\n",
              "  </style>\n",
              "\n",
              "      <script>\n",
              "        const buttonEl =\n",
              "          document.querySelector('#df-80d4a905-d051-4149-aca3-cc04e1008dec button.colab-df-convert');\n",
              "        buttonEl.style.display =\n",
              "          google.colab.kernel.accessAllowed ? 'block' : 'none';\n",
              "\n",
              "        async function convertToInteractive(key) {\n",
              "          const element = document.querySelector('#df-80d4a905-d051-4149-aca3-cc04e1008dec');\n",
              "          const dataTable =\n",
              "            await google.colab.kernel.invokeFunction('convertToInteractive',\n",
              "                                                     [key], {});\n",
              "          if (!dataTable) return;\n",
              "\n",
              "          const docLinkHtml = 'Like what you see? Visit the ' +\n",
              "            '<a target=\"_blank\" href=https://colab.research.google.com/notebooks/data_table.ipynb>data table notebook</a>'\n",
              "            + ' to learn more about interactive tables.';\n",
              "          element.innerHTML = '';\n",
              "          dataTable['output_type'] = 'display_data';\n",
              "          await google.colab.output.renderOutput(dataTable, element);\n",
              "          const docLink = document.createElement('div');\n",
              "          docLink.innerHTML = docLinkHtml;\n",
              "          element.appendChild(docLink);\n",
              "        }\n",
              "      </script>\n",
              "    </div>\n",
              "  </div>\n",
              "  "
            ]
          },
          "metadata": {},
          "execution_count": 94
        }
      ]
    },
    {
      "cell_type": "code",
      "source": [
        "import nltk\n",
        "nltk.download('stopwords')\n",
        "from nltk.corpus import stopwords\n",
        "stop = set(stopwords.words('hinglish'))\n",
        "\n"
      ],
      "metadata": {
        "id": "mQRj1pYmV9PA",
        "outputId": "256bdb01-a69a-42ff-ecec-120d0db3447d",
        "colab": {
          "base_uri": "https://localhost:8080/"
        }
      },
      "execution_count": 90,
      "outputs": [
        {
          "output_type": "stream",
          "name": "stderr",
          "text": [
            "[nltk_data] Downloading package stopwords to /root/nltk_data...\n",
            "[nltk_data]   Package stopwords is already up-to-date!\n"
          ]
        }
      ]
    },
    {
      "cell_type": "markdown",
      "source": [
        "Link: https://github.com/NirantK/Hinglish/blob/master/ML%20Baselines/NB-SVM_and_LR-TF-IDF.ipynb"
      ],
      "metadata": {
        "id": "fQugldE3nbAI"
      }
    },
    {
      "cell_type": "code",
      "source": [
        "def cleaner(train):\n",
        "    data[\"clean_text\"] = data[\"Processed_Tweets\"]\n",
        "    data[\"clean_text\"] = (\n",
        "        (data[\"clean_text\"])\n",
        "        .apply(lambda text: re.sub(r\"RT\\s@\\s\\w+\", \"\", text))\n",
        "        .apply(lambda text: re.sub(r\"@\", \"mention\", text))\n",
        "        .apply(lambda text: re.sub(r\"#\", \"hashtag\", text))\n",
        "        .apply(lambda text: re.sub(r\"http\\S+\", \"\", text))\n",
        "    )\n",
        "\n",
        "    le = LabelEncoder()\n",
        "    data[\"target\"] = le.fit_transform(data[\"Processed_Tweets\"])\n",
        "    print(f\"Classes : {le.classes_}\")\n",
        "    X_train, X_test, y_train, y_test = train_test_split(\n",
        "        train[\"clean_text\"].values,\n",
        "        train[\"target\"].values,\n",
        "        test_size=0.10,\n",
        "        random_state=0,\n",
        "    )\n",
        "\n",
        "    vect = TfidfVectorizer(\n",
        "        strip_accents=\"unicode\",\n",
        "        ngram_range=(1, 2),\n",
        "        max_df=0.75,\n",
        "        min_df=3,\n",
        "        sublinear_tf=True,\n",
        "    )\n",
        "\n",
        "    tfidf_train = vect.fit_transform(X_train)\n",
        "    tfidf_test = vect.transform(X_test)\n",
        "\n",
        "    return X_train, X_test, y_train, y_test, tfidf_train, tfidf_test, le.classes_"
      ],
      "metadata": {
        "id": "pkJmBa2VSfl0"
      },
      "execution_count": 91,
      "outputs": []
    },
    {
      "cell_type": "code",
      "source": [
        "%time X_train, X_test, y_train, y_test, tfidf_train, tfidf_test, label_classes = cleaner(data)"
      ],
      "metadata": {
        "id": "JPuWl0WwSfgn",
        "outputId": "fa62d797-2b0d-4db3-9d4e-6e5fd5c31270",
        "colab": {
          "base_uri": "https://localhost:8080/"
        }
      },
      "execution_count": 93,
      "outputs": [
        {
          "output_type": "stream",
          "name": "stderr",
          "text": [
            "/usr/local/lib/python3.7/dist-packages/ipykernel_launcher.py:2: SettingWithCopyWarning: \n",
            "A value is trying to be set on a copy of a slice from a DataFrame.\n",
            "Try using .loc[row_indexer,col_indexer] = value instead\n",
            "\n",
            "See the caveats in the documentation: https://pandas.pydata.org/pandas-docs/stable/user_guide/indexing.html#returning-a-view-versus-a-copy\n",
            "  \n",
            "/usr/local/lib/python3.7/dist-packages/ipykernel_launcher.py:8: SettingWithCopyWarning: \n",
            "A value is trying to be set on a copy of a slice from a DataFrame.\n",
            "Try using .loc[row_indexer,col_indexer] = value instead\n",
            "\n",
            "See the caveats in the documentation: https://pandas.pydata.org/pandas-docs/stable/user_guide/indexing.html#returning-a-view-versus-a-copy\n",
            "  \n",
            "/usr/local/lib/python3.7/dist-packages/ipykernel_launcher.py:12: SettingWithCopyWarning: \n",
            "A value is trying to be set on a copy of a slice from a DataFrame.\n",
            "Try using .loc[row_indexer,col_indexer] = value instead\n",
            "\n",
            "See the caveats in the documentation: https://pandas.pydata.org/pandas-docs/stable/user_guide/indexing.html#returning-a-view-versus-a-copy\n",
            "  if sys.path[0] == '':\n"
          ]
        },
        {
          "output_type": "stream",
          "name": "stdout",
          "text": [
            "Classes : ['\" \\' \"woo tumhaari soch gandi hai isi liye tumhe woo randi lgti hai'\n",
            " '\" raaste khubsurat ha tumhare sath manzil ki filhal baat nahi karte'\n",
            " '\"aaj tumhe vo khubsurat lag rahe hai kuch din ruko tumhe unki khub saari surate dikhai degi\"'\n",
            " ...\n",
            " '❤️❤️❤️ beautiful songpar sochne wali baat ye hai ki iske jaise ko bhi gf mil gyi sach mei ghor kaliyug hai'\n",
            " \"ㅤㅤㅤㅤwell all jokes aside part 'to ng plano ko i want you to focus on the links and combine themㅤㅤafter that go to the platform where you asked if you can court me it's an invite link sali ka lang ㅤㅤi'll be waiting there jaan ^^ㅤㅤ\"\n",
            " '️maa toh jannat ka phool hai️piyaar krna uska asuul haiduniya ki muhabbat fazul haimaa ki hr dua qabuul h…']\n",
            "CPU times: user 334 ms, sys: 20.6 ms, total: 355 ms\n",
            "Wall time: 369 ms\n"
          ]
        }
      ]
    },
    {
      "cell_type": "markdown",
      "source": [
        "NAIVE BAYES"
      ],
      "metadata": {
        "id": "QlDcTm7AnWmh"
      }
    },
    {
      "cell_type": "code",
      "source": [
        "import string\n",
        "import warnings\n",
        "\n",
        "from scipy import sparse\n",
        "from sklearn import metrics\n",
        "from sklearn.base import BaseEstimator, ClassifierMixin\n",
        "from sklearn.feature_extraction.text import TfidfVectorizer\n",
        "from sklearn.linear_model import LogisticRegression\n",
        "from sklearn.metrics import accuracy_score, confusion_matrix, f1_score\n",
        "from sklearn.model_selection import cross_val_score, train_test_split\n",
        "from sklearn.preprocessing import LabelEncoder\n",
        "from sklearn.utils.validation import check_is_fitted, check_X_y\n",
        "\n",
        "\n",
        "\n"
      ],
      "metadata": {
        "id": "wTpi2baDn9mB"
      },
      "execution_count": 99,
      "outputs": []
    },
    {
      "cell_type": "code",
      "source": [
        "class NbSvmClassifier(BaseEstimator, ClassifierMixin):\n",
        "    def __init__(self, C=1.0, dual=False, n_jobs=1):\n",
        "        self.C = C\n",
        "        self.dual = dual\n",
        "        self.n_jobs = n_jobs\n",
        "\n",
        "    def predict(self, x):\n",
        "        # Verify that model has been fit\n",
        "        check_is_fitted(self, [\"_r\", \"_clf\"])\n",
        "        return self._clf.predict(x.multiply(self._r))\n",
        "\n",
        "    def predict_proba(self, x):\n",
        "        # Verify that model has been fit\n",
        "        check_is_fitted(self, [\"_r\", \"_clf\"])\n",
        "        return self._clf.predict_proba(x.multiply(self._r))\n",
        "\n",
        "    def fit(self, x, y):\n",
        "        # Check that X and y have correct shape\n",
        "        x, y = check_X_y(x, y, accept_sparse=True)\n",
        "\n",
        "        def pr(x, y_i, y):\n",
        "            p = x[y == y_i].sum(0)\n",
        "            return (p + 1) / ((y == y_i).sum() + 1)\n",
        "\n",
        "        self._r = sparse.csr_matrix(np.log(pr(x, 1, y) / pr(x, 0, y)))\n",
        "        x_nb = x.multiply(self._r)\n",
        "        self._clf = LogisticRegression(\n",
        "            C=self.C, dual=self.dual, n_jobs=self.n_jobs\n",
        "        ).fit(x_nb, y)\n",
        "        return self"
      ],
      "metadata": {
        "id": "7cyO2G62SfeL"
      },
      "execution_count": 100,
      "outputs": []
    },
    {
      "cell_type": "code",
      "source": [
        "NBSVM = NbSvmClassifier(C=4, dual=False, n_jobs=-1)"
      ],
      "metadata": {
        "id": "LiP7klr7SfcQ"
      },
      "execution_count": 101,
      "outputs": []
    },
    {
      "cell_type": "code",
      "source": [
        "def evaluate(model, tfidf_train, tfidf_test, y_train, y_test, s=None, with_noisy_labels= False):\n",
        "\n",
        "    scores = cross_val_score(\n",
        "        model, tfidf_train, y_train, cv=5, scoring=\"f1_macro\"\n",
        "    )\n",
        "    print(f\"Cross Validation Scores {scores}\")\n",
        "    \n",
        "    if with_noisy_labels : \n",
        "        _ = model.fit(tfidf_train, s)\n",
        "    else:\n",
        "        _ = model.fit(tfidf_train, y_train)\n",
        "    pred = model.predict(tfidf_test)\n",
        "    print(\"Valid accuracy:\", round(accuracy_score(pred, y_test), 5))\n",
        "    print(\"Valid f1_score:\", round(f1_score(pred, y_test, average=\"macro\"), 5))\n",
        "    cm = confusion_matrix(pred, y_test)\n",
        "    print_confusion_matrix(cm, class_names=label_classes)"
      ],
      "metadata": {
        "id": "IvP35cdvSfaD"
      },
      "execution_count": 102,
      "outputs": []
    },
    {
      "cell_type": "code",
      "source": [
        "evaluate(NBSVM, tfidf_train, tfidf_test, y_train, y_test)"
      ],
      "metadata": {
        "id": "x-B3z_GqSfYW",
        "outputId": "62013442-afd4-4e0c-9a1b-c00723391c1e",
        "colab": {
          "base_uri": "https://localhost:8080/",
          "height": 434
        }
      },
      "execution_count": 103,
      "outputs": [
        {
          "output_type": "error",
          "ename": "ValueError",
          "evalue": "ignored",
          "traceback": [
            "\u001b[0;31m---------------------------------------------------------------------------\u001b[0m",
            "\u001b[0;31mEmpty\u001b[0m                                     Traceback (most recent call last)",
            "\u001b[0;32m/usr/local/lib/python3.7/dist-packages/joblib/parallel.py\u001b[0m in \u001b[0;36mdispatch_one_batch\u001b[0;34m(self, iterator)\u001b[0m\n\u001b[1;32m    861\u001b[0m             \u001b[0;32mtry\u001b[0m\u001b[0;34m:\u001b[0m\u001b[0;34m\u001b[0m\u001b[0;34m\u001b[0m\u001b[0m\n\u001b[0;32m--> 862\u001b[0;31m                 \u001b[0mtasks\u001b[0m \u001b[0;34m=\u001b[0m \u001b[0mself\u001b[0m\u001b[0;34m.\u001b[0m\u001b[0m_ready_batches\u001b[0m\u001b[0;34m.\u001b[0m\u001b[0mget\u001b[0m\u001b[0;34m(\u001b[0m\u001b[0mblock\u001b[0m\u001b[0;34m=\u001b[0m\u001b[0;32mFalse\u001b[0m\u001b[0;34m)\u001b[0m\u001b[0;34m\u001b[0m\u001b[0;34m\u001b[0m\u001b[0m\n\u001b[0m\u001b[1;32m    863\u001b[0m             \u001b[0;32mexcept\u001b[0m \u001b[0mqueue\u001b[0m\u001b[0;34m.\u001b[0m\u001b[0mEmpty\u001b[0m\u001b[0;34m:\u001b[0m\u001b[0;34m\u001b[0m\u001b[0;34m\u001b[0m\u001b[0m\n",
            "\u001b[0;32m/usr/lib/python3.7/queue.py\u001b[0m in \u001b[0;36mget\u001b[0;34m(self, block, timeout)\u001b[0m\n\u001b[1;32m    166\u001b[0m                 \u001b[0;32mif\u001b[0m \u001b[0;32mnot\u001b[0m \u001b[0mself\u001b[0m\u001b[0;34m.\u001b[0m\u001b[0m_qsize\u001b[0m\u001b[0;34m(\u001b[0m\u001b[0;34m)\u001b[0m\u001b[0;34m:\u001b[0m\u001b[0;34m\u001b[0m\u001b[0;34m\u001b[0m\u001b[0m\n\u001b[0;32m--> 167\u001b[0;31m                     \u001b[0;32mraise\u001b[0m \u001b[0mEmpty\u001b[0m\u001b[0;34m\u001b[0m\u001b[0;34m\u001b[0m\u001b[0m\n\u001b[0m\u001b[1;32m    168\u001b[0m             \u001b[0;32melif\u001b[0m \u001b[0mtimeout\u001b[0m \u001b[0;32mis\u001b[0m \u001b[0;32mNone\u001b[0m\u001b[0;34m:\u001b[0m\u001b[0;34m\u001b[0m\u001b[0;34m\u001b[0m\u001b[0m\n",
            "\u001b[0;31mEmpty\u001b[0m: ",
            "\nDuring handling of the above exception, another exception occurred:\n",
            "\u001b[0;31mValueError\u001b[0m                                Traceback (most recent call last)",
            "\u001b[0;32m<ipython-input-103-ad51cc9fabb2>\u001b[0m in \u001b[0;36m<module>\u001b[0;34m\u001b[0m\n\u001b[0;32m----> 1\u001b[0;31m \u001b[0mevaluate\u001b[0m\u001b[0;34m(\u001b[0m\u001b[0mNBSVM\u001b[0m\u001b[0;34m,\u001b[0m \u001b[0mtfidf_train\u001b[0m\u001b[0;34m,\u001b[0m \u001b[0mtfidf_test\u001b[0m\u001b[0;34m,\u001b[0m \u001b[0my_train\u001b[0m\u001b[0;34m,\u001b[0m \u001b[0my_test\u001b[0m\u001b[0;34m)\u001b[0m\u001b[0;34m\u001b[0m\u001b[0;34m\u001b[0m\u001b[0m\n\u001b[0m",
            "\u001b[0;32m<ipython-input-102-83f2c0e86434>\u001b[0m in \u001b[0;36mevaluate\u001b[0;34m(model, tfidf_train, tfidf_test, y_train, y_test, s, with_noisy_labels)\u001b[0m\n\u001b[1;32m      2\u001b[0m \u001b[0;34m\u001b[0m\u001b[0m\n\u001b[1;32m      3\u001b[0m     scores = cross_val_score(\n\u001b[0;32m----> 4\u001b[0;31m         \u001b[0mmodel\u001b[0m\u001b[0;34m,\u001b[0m \u001b[0mtfidf_train\u001b[0m\u001b[0;34m,\u001b[0m \u001b[0my_train\u001b[0m\u001b[0;34m,\u001b[0m \u001b[0mcv\u001b[0m\u001b[0;34m=\u001b[0m\u001b[0;36m5\u001b[0m\u001b[0;34m,\u001b[0m \u001b[0mscoring\u001b[0m\u001b[0;34m=\u001b[0m\u001b[0;34m\"f1_macro\"\u001b[0m\u001b[0;34m\u001b[0m\u001b[0;34m\u001b[0m\u001b[0m\n\u001b[0m\u001b[1;32m      5\u001b[0m     )\n\u001b[1;32m      6\u001b[0m     \u001b[0mprint\u001b[0m\u001b[0;34m(\u001b[0m\u001b[0;34mf\"Cross Validation Scores {scores}\"\u001b[0m\u001b[0;34m)\u001b[0m\u001b[0;34m\u001b[0m\u001b[0;34m\u001b[0m\u001b[0m\n",
            "\u001b[0;32m/usr/local/lib/python3.7/dist-packages/sklearn/model_selection/_validation.py\u001b[0m in \u001b[0;36mcross_val_score\u001b[0;34m(estimator, X, y, groups, scoring, cv, n_jobs, verbose, fit_params, pre_dispatch, error_score)\u001b[0m\n\u001b[1;32m    518\u001b[0m         \u001b[0mfit_params\u001b[0m\u001b[0;34m=\u001b[0m\u001b[0mfit_params\u001b[0m\u001b[0;34m,\u001b[0m\u001b[0;34m\u001b[0m\u001b[0;34m\u001b[0m\u001b[0m\n\u001b[1;32m    519\u001b[0m         \u001b[0mpre_dispatch\u001b[0m\u001b[0;34m=\u001b[0m\u001b[0mpre_dispatch\u001b[0m\u001b[0;34m,\u001b[0m\u001b[0;34m\u001b[0m\u001b[0;34m\u001b[0m\u001b[0m\n\u001b[0;32m--> 520\u001b[0;31m         \u001b[0merror_score\u001b[0m\u001b[0;34m=\u001b[0m\u001b[0merror_score\u001b[0m\u001b[0;34m,\u001b[0m\u001b[0;34m\u001b[0m\u001b[0;34m\u001b[0m\u001b[0m\n\u001b[0m\u001b[1;32m    521\u001b[0m     )\n\u001b[1;32m    522\u001b[0m     \u001b[0;32mreturn\u001b[0m \u001b[0mcv_results\u001b[0m\u001b[0;34m[\u001b[0m\u001b[0;34m\"test_score\"\u001b[0m\u001b[0;34m]\u001b[0m\u001b[0;34m\u001b[0m\u001b[0;34m\u001b[0m\u001b[0m\n",
            "\u001b[0;32m/usr/local/lib/python3.7/dist-packages/sklearn/model_selection/_validation.py\u001b[0m in \u001b[0;36mcross_validate\u001b[0;34m(estimator, X, y, groups, scoring, cv, n_jobs, verbose, fit_params, pre_dispatch, return_train_score, return_estimator, error_score)\u001b[0m\n\u001b[1;32m    281\u001b[0m             \u001b[0merror_score\u001b[0m\u001b[0;34m=\u001b[0m\u001b[0merror_score\u001b[0m\u001b[0;34m,\u001b[0m\u001b[0;34m\u001b[0m\u001b[0;34m\u001b[0m\u001b[0m\n\u001b[1;32m    282\u001b[0m         )\n\u001b[0;32m--> 283\u001b[0;31m         \u001b[0;32mfor\u001b[0m \u001b[0mtrain\u001b[0m\u001b[0;34m,\u001b[0m \u001b[0mtest\u001b[0m \u001b[0;32min\u001b[0m \u001b[0mcv\u001b[0m\u001b[0;34m.\u001b[0m\u001b[0msplit\u001b[0m\u001b[0;34m(\u001b[0m\u001b[0mX\u001b[0m\u001b[0;34m,\u001b[0m \u001b[0my\u001b[0m\u001b[0;34m,\u001b[0m \u001b[0mgroups\u001b[0m\u001b[0;34m)\u001b[0m\u001b[0;34m\u001b[0m\u001b[0;34m\u001b[0m\u001b[0m\n\u001b[0m\u001b[1;32m    284\u001b[0m     )\n\u001b[1;32m    285\u001b[0m \u001b[0;34m\u001b[0m\u001b[0m\n",
            "\u001b[0;32m/usr/local/lib/python3.7/dist-packages/joblib/parallel.py\u001b[0m in \u001b[0;36m__call__\u001b[0;34m(self, iterable)\u001b[0m\n\u001b[1;32m   1083\u001b[0m             \u001b[0;31m# remaining jobs.\u001b[0m\u001b[0;34m\u001b[0m\u001b[0;34m\u001b[0m\u001b[0;34m\u001b[0m\u001b[0m\n\u001b[1;32m   1084\u001b[0m             \u001b[0mself\u001b[0m\u001b[0;34m.\u001b[0m\u001b[0m_iterating\u001b[0m \u001b[0;34m=\u001b[0m \u001b[0;32mFalse\u001b[0m\u001b[0;34m\u001b[0m\u001b[0;34m\u001b[0m\u001b[0m\n\u001b[0;32m-> 1085\u001b[0;31m             \u001b[0;32mif\u001b[0m \u001b[0mself\u001b[0m\u001b[0;34m.\u001b[0m\u001b[0mdispatch_one_batch\u001b[0m\u001b[0;34m(\u001b[0m\u001b[0miterator\u001b[0m\u001b[0;34m)\u001b[0m\u001b[0;34m:\u001b[0m\u001b[0;34m\u001b[0m\u001b[0;34m\u001b[0m\u001b[0m\n\u001b[0m\u001b[1;32m   1086\u001b[0m                 \u001b[0mself\u001b[0m\u001b[0;34m.\u001b[0m\u001b[0m_iterating\u001b[0m \u001b[0;34m=\u001b[0m \u001b[0mself\u001b[0m\u001b[0;34m.\u001b[0m\u001b[0m_original_iterator\u001b[0m \u001b[0;32mis\u001b[0m \u001b[0;32mnot\u001b[0m \u001b[0;32mNone\u001b[0m\u001b[0;34m\u001b[0m\u001b[0;34m\u001b[0m\u001b[0m\n\u001b[1;32m   1087\u001b[0m \u001b[0;34m\u001b[0m\u001b[0m\n",
            "\u001b[0;32m/usr/local/lib/python3.7/dist-packages/joblib/parallel.py\u001b[0m in \u001b[0;36mdispatch_one_batch\u001b[0;34m(self, iterator)\u001b[0m\n\u001b[1;32m    871\u001b[0m                 \u001b[0mbig_batch_size\u001b[0m \u001b[0;34m=\u001b[0m \u001b[0mbatch_size\u001b[0m \u001b[0;34m*\u001b[0m \u001b[0mn_jobs\u001b[0m\u001b[0;34m\u001b[0m\u001b[0;34m\u001b[0m\u001b[0m\n\u001b[1;32m    872\u001b[0m \u001b[0;34m\u001b[0m\u001b[0m\n\u001b[0;32m--> 873\u001b[0;31m                 \u001b[0mislice\u001b[0m \u001b[0;34m=\u001b[0m \u001b[0mlist\u001b[0m\u001b[0;34m(\u001b[0m\u001b[0mitertools\u001b[0m\u001b[0;34m.\u001b[0m\u001b[0mislice\u001b[0m\u001b[0;34m(\u001b[0m\u001b[0miterator\u001b[0m\u001b[0;34m,\u001b[0m \u001b[0mbig_batch_size\u001b[0m\u001b[0;34m)\u001b[0m\u001b[0;34m)\u001b[0m\u001b[0;34m\u001b[0m\u001b[0;34m\u001b[0m\u001b[0m\n\u001b[0m\u001b[1;32m    874\u001b[0m                 \u001b[0;32mif\u001b[0m \u001b[0mlen\u001b[0m\u001b[0;34m(\u001b[0m\u001b[0mislice\u001b[0m\u001b[0;34m)\u001b[0m \u001b[0;34m==\u001b[0m \u001b[0;36m0\u001b[0m\u001b[0;34m:\u001b[0m\u001b[0;34m\u001b[0m\u001b[0;34m\u001b[0m\u001b[0m\n\u001b[1;32m    875\u001b[0m                     \u001b[0;32mreturn\u001b[0m \u001b[0;32mFalse\u001b[0m\u001b[0;34m\u001b[0m\u001b[0;34m\u001b[0m\u001b[0m\n",
            "\u001b[0;32m/usr/local/lib/python3.7/dist-packages/sklearn/model_selection/_validation.py\u001b[0m in \u001b[0;36m<genexpr>\u001b[0;34m(.0)\u001b[0m\n\u001b[1;32m    266\u001b[0m     \u001b[0mparallel\u001b[0m \u001b[0;34m=\u001b[0m \u001b[0mParallel\u001b[0m\u001b[0;34m(\u001b[0m\u001b[0mn_jobs\u001b[0m\u001b[0;34m=\u001b[0m\u001b[0mn_jobs\u001b[0m\u001b[0;34m,\u001b[0m \u001b[0mverbose\u001b[0m\u001b[0;34m=\u001b[0m\u001b[0mverbose\u001b[0m\u001b[0;34m,\u001b[0m \u001b[0mpre_dispatch\u001b[0m\u001b[0;34m=\u001b[0m\u001b[0mpre_dispatch\u001b[0m\u001b[0;34m)\u001b[0m\u001b[0;34m\u001b[0m\u001b[0;34m\u001b[0m\u001b[0m\n\u001b[1;32m    267\u001b[0m     results = parallel(\n\u001b[0;32m--> 268\u001b[0;31m         delayed(_fit_and_score)(\n\u001b[0m\u001b[1;32m    269\u001b[0m             \u001b[0mclone\u001b[0m\u001b[0;34m(\u001b[0m\u001b[0mestimator\u001b[0m\u001b[0;34m)\u001b[0m\u001b[0;34m,\u001b[0m\u001b[0;34m\u001b[0m\u001b[0;34m\u001b[0m\u001b[0m\n\u001b[1;32m    270\u001b[0m             \u001b[0mX\u001b[0m\u001b[0;34m,\u001b[0m\u001b[0;34m\u001b[0m\u001b[0;34m\u001b[0m\u001b[0m\n",
            "\u001b[0;32m/usr/local/lib/python3.7/dist-packages/sklearn/model_selection/_split.py\u001b[0m in \u001b[0;36msplit\u001b[0;34m(self, X, y, groups)\u001b[0m\n\u001b[1;32m    338\u001b[0m             )\n\u001b[1;32m    339\u001b[0m \u001b[0;34m\u001b[0m\u001b[0m\n\u001b[0;32m--> 340\u001b[0;31m         \u001b[0;32mfor\u001b[0m \u001b[0mtrain\u001b[0m\u001b[0;34m,\u001b[0m \u001b[0mtest\u001b[0m \u001b[0;32min\u001b[0m \u001b[0msuper\u001b[0m\u001b[0;34m(\u001b[0m\u001b[0;34m)\u001b[0m\u001b[0;34m.\u001b[0m\u001b[0msplit\u001b[0m\u001b[0;34m(\u001b[0m\u001b[0mX\u001b[0m\u001b[0;34m,\u001b[0m \u001b[0my\u001b[0m\u001b[0;34m,\u001b[0m \u001b[0mgroups\u001b[0m\u001b[0;34m)\u001b[0m\u001b[0;34m:\u001b[0m\u001b[0;34m\u001b[0m\u001b[0;34m\u001b[0m\u001b[0m\n\u001b[0m\u001b[1;32m    341\u001b[0m             \u001b[0;32myield\u001b[0m \u001b[0mtrain\u001b[0m\u001b[0;34m,\u001b[0m \u001b[0mtest\u001b[0m\u001b[0;34m\u001b[0m\u001b[0;34m\u001b[0m\u001b[0m\n\u001b[1;32m    342\u001b[0m \u001b[0;34m\u001b[0m\u001b[0m\n",
            "\u001b[0;32m/usr/local/lib/python3.7/dist-packages/sklearn/model_selection/_split.py\u001b[0m in \u001b[0;36msplit\u001b[0;34m(self, X, y, groups)\u001b[0m\n\u001b[1;32m     84\u001b[0m         \u001b[0mX\u001b[0m\u001b[0;34m,\u001b[0m \u001b[0my\u001b[0m\u001b[0;34m,\u001b[0m \u001b[0mgroups\u001b[0m \u001b[0;34m=\u001b[0m \u001b[0mindexable\u001b[0m\u001b[0;34m(\u001b[0m\u001b[0mX\u001b[0m\u001b[0;34m,\u001b[0m \u001b[0my\u001b[0m\u001b[0;34m,\u001b[0m \u001b[0mgroups\u001b[0m\u001b[0;34m)\u001b[0m\u001b[0;34m\u001b[0m\u001b[0;34m\u001b[0m\u001b[0m\n\u001b[1;32m     85\u001b[0m         \u001b[0mindices\u001b[0m \u001b[0;34m=\u001b[0m \u001b[0mnp\u001b[0m\u001b[0;34m.\u001b[0m\u001b[0marange\u001b[0m\u001b[0;34m(\u001b[0m\u001b[0m_num_samples\u001b[0m\u001b[0;34m(\u001b[0m\u001b[0mX\u001b[0m\u001b[0;34m)\u001b[0m\u001b[0;34m)\u001b[0m\u001b[0;34m\u001b[0m\u001b[0;34m\u001b[0m\u001b[0m\n\u001b[0;32m---> 86\u001b[0;31m         \u001b[0;32mfor\u001b[0m \u001b[0mtest_index\u001b[0m \u001b[0;32min\u001b[0m \u001b[0mself\u001b[0m\u001b[0;34m.\u001b[0m\u001b[0m_iter_test_masks\u001b[0m\u001b[0;34m(\u001b[0m\u001b[0mX\u001b[0m\u001b[0;34m,\u001b[0m \u001b[0my\u001b[0m\u001b[0;34m,\u001b[0m \u001b[0mgroups\u001b[0m\u001b[0;34m)\u001b[0m\u001b[0;34m:\u001b[0m\u001b[0;34m\u001b[0m\u001b[0;34m\u001b[0m\u001b[0m\n\u001b[0m\u001b[1;32m     87\u001b[0m             \u001b[0mtrain_index\u001b[0m \u001b[0;34m=\u001b[0m \u001b[0mindices\u001b[0m\u001b[0;34m[\u001b[0m\u001b[0mnp\u001b[0m\u001b[0;34m.\u001b[0m\u001b[0mlogical_not\u001b[0m\u001b[0;34m(\u001b[0m\u001b[0mtest_index\u001b[0m\u001b[0;34m)\u001b[0m\u001b[0;34m]\u001b[0m\u001b[0;34m\u001b[0m\u001b[0;34m\u001b[0m\u001b[0m\n\u001b[1;32m     88\u001b[0m             \u001b[0mtest_index\u001b[0m \u001b[0;34m=\u001b[0m \u001b[0mindices\u001b[0m\u001b[0;34m[\u001b[0m\u001b[0mtest_index\u001b[0m\u001b[0;34m]\u001b[0m\u001b[0;34m\u001b[0m\u001b[0;34m\u001b[0m\u001b[0m\n",
            "\u001b[0;32m/usr/local/lib/python3.7/dist-packages/sklearn/model_selection/_split.py\u001b[0m in \u001b[0;36m_iter_test_masks\u001b[0;34m(self, X, y, groups)\u001b[0m\n\u001b[1;32m    707\u001b[0m \u001b[0;34m\u001b[0m\u001b[0m\n\u001b[1;32m    708\u001b[0m     \u001b[0;32mdef\u001b[0m \u001b[0m_iter_test_masks\u001b[0m\u001b[0;34m(\u001b[0m\u001b[0mself\u001b[0m\u001b[0;34m,\u001b[0m \u001b[0mX\u001b[0m\u001b[0;34m,\u001b[0m \u001b[0my\u001b[0m\u001b[0;34m=\u001b[0m\u001b[0;32mNone\u001b[0m\u001b[0;34m,\u001b[0m \u001b[0mgroups\u001b[0m\u001b[0;34m=\u001b[0m\u001b[0;32mNone\u001b[0m\u001b[0;34m)\u001b[0m\u001b[0;34m:\u001b[0m\u001b[0;34m\u001b[0m\u001b[0;34m\u001b[0m\u001b[0m\n\u001b[0;32m--> 709\u001b[0;31m         \u001b[0mtest_folds\u001b[0m \u001b[0;34m=\u001b[0m \u001b[0mself\u001b[0m\u001b[0;34m.\u001b[0m\u001b[0m_make_test_folds\u001b[0m\u001b[0;34m(\u001b[0m\u001b[0mX\u001b[0m\u001b[0;34m,\u001b[0m \u001b[0my\u001b[0m\u001b[0;34m)\u001b[0m\u001b[0;34m\u001b[0m\u001b[0;34m\u001b[0m\u001b[0m\n\u001b[0m\u001b[1;32m    710\u001b[0m         \u001b[0;32mfor\u001b[0m \u001b[0mi\u001b[0m \u001b[0;32min\u001b[0m \u001b[0mrange\u001b[0m\u001b[0;34m(\u001b[0m\u001b[0mself\u001b[0m\u001b[0;34m.\u001b[0m\u001b[0mn_splits\u001b[0m\u001b[0;34m)\u001b[0m\u001b[0;34m:\u001b[0m\u001b[0;34m\u001b[0m\u001b[0;34m\u001b[0m\u001b[0m\n\u001b[1;32m    711\u001b[0m             \u001b[0;32myield\u001b[0m \u001b[0mtest_folds\u001b[0m \u001b[0;34m==\u001b[0m \u001b[0mi\u001b[0m\u001b[0;34m\u001b[0m\u001b[0;34m\u001b[0m\u001b[0m\n",
            "\u001b[0;32m/usr/local/lib/python3.7/dist-packages/sklearn/model_selection/_split.py\u001b[0m in \u001b[0;36m_make_test_folds\u001b[0;34m(self, X, y)\u001b[0m\n\u001b[1;32m    671\u001b[0m             raise ValueError(\n\u001b[1;32m    672\u001b[0m                 \u001b[0;34m\"n_splits=%d cannot be greater than the\"\u001b[0m\u001b[0;34m\u001b[0m\u001b[0;34m\u001b[0m\u001b[0m\n\u001b[0;32m--> 673\u001b[0;31m                 \u001b[0;34m\" number of members in each class.\"\u001b[0m \u001b[0;34m%\u001b[0m \u001b[0;34m(\u001b[0m\u001b[0mself\u001b[0m\u001b[0;34m.\u001b[0m\u001b[0mn_splits\u001b[0m\u001b[0;34m)\u001b[0m\u001b[0;34m\u001b[0m\u001b[0;34m\u001b[0m\u001b[0m\n\u001b[0m\u001b[1;32m    674\u001b[0m             )\n\u001b[1;32m    675\u001b[0m         \u001b[0;32mif\u001b[0m \u001b[0mself\u001b[0m\u001b[0;34m.\u001b[0m\u001b[0mn_splits\u001b[0m \u001b[0;34m>\u001b[0m \u001b[0mmin_groups\u001b[0m\u001b[0;34m:\u001b[0m\u001b[0;34m\u001b[0m\u001b[0;34m\u001b[0m\u001b[0m\n",
            "\u001b[0;31mValueError\u001b[0m: n_splits=5 cannot be greater than the number of members in each class."
          ]
        }
      ]
    },
    {
      "cell_type": "code",
      "source": [],
      "metadata": {
        "id": "Lwmg57t2SfVa"
      },
      "execution_count": null,
      "outputs": []
    },
    {
      "cell_type": "code",
      "source": [],
      "metadata": {
        "id": "_hlGMVHTSfTR"
      },
      "execution_count": null,
      "outputs": []
    },
    {
      "cell_type": "code",
      "source": [],
      "metadata": {
        "id": "vPCTZjALSfQl"
      },
      "execution_count": null,
      "outputs": []
    },
    {
      "cell_type": "code",
      "source": [],
      "metadata": {
        "id": "Yp_kNTIYSfO2"
      },
      "execution_count": null,
      "outputs": []
    },
    {
      "cell_type": "code",
      "source": [],
      "metadata": {
        "id": "3bNJ7vQfSfNH"
      },
      "execution_count": null,
      "outputs": []
    },
    {
      "cell_type": "code",
      "source": [],
      "metadata": {
        "id": "50ZLJzgTSfKK"
      },
      "execution_count": null,
      "outputs": []
    },
    {
      "cell_type": "code",
      "source": [],
      "metadata": {
        "id": "f8oltNKOSfId"
      },
      "execution_count": null,
      "outputs": []
    },
    {
      "cell_type": "code",
      "source": [],
      "metadata": {
        "id": "VCHOuK4rSfGe"
      },
      "execution_count": null,
      "outputs": []
    },
    {
      "cell_type": "code",
      "source": [],
      "metadata": {
        "id": "mTP6Mh9YSfD1"
      },
      "execution_count": null,
      "outputs": []
    },
    {
      "cell_type": "code",
      "source": [],
      "metadata": {
        "id": "6_p1e4FMSe9z"
      },
      "execution_count": null,
      "outputs": []
    },
    {
      "cell_type": "code",
      "source": [],
      "metadata": {
        "id": "6G9xSyIdSe6t"
      },
      "execution_count": null,
      "outputs": []
    }
  ]
}