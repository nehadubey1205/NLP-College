{
  "nbformat": 4,
  "nbformat_minor": 0,
  "metadata": {
    "colab": {
      "provenance": [],
      "collapsed_sections": [],
      "mount_file_id": "1FE2zW4tmG6NmMsZ_7-L4WnbGUP5CGLS_",
      "authorship_tag": "ABX9TyPu+fzP9zlky+b2hF12cCNX",
      "include_colab_link": true
    },
    "kernelspec": {
      "name": "python3",
      "display_name": "Python 3"
    },
    "language_info": {
      "name": "python"
    }
  },
  "cells": [
    {
      "cell_type": "markdown",
      "metadata": {
        "id": "view-in-github",
        "colab_type": "text"
      },
      "source": [
        "<a href=\"https://colab.research.google.com/github/nehadubey1205/NLP-college/blob/main/ResearchPaper_SentEmoNehaDubey_016.ipynb\" target=\"_parent\"><img src=\"https://colab.research.google.com/assets/colab-badge.svg\" alt=\"Open In Colab\"/></a>"
      ]
    },
    {
      "cell_type": "markdown",
      "source": [
        "Assignment-1"
      ],
      "metadata": {
        "id": "UzP_oVJThua9"
      }
    },
    {
      "cell_type": "code",
      "source": [
        "import pandas as pd\n",
        "import numpy as np\n",
        "from google.colab import drive\n",
        "import matplotlib.pyplot as plt"
      ],
      "metadata": {
        "id": "4EFq_h5DWXaX"
      },
      "execution_count": 217,
      "outputs": []
    },
    {
      "cell_type": "code",
      "source": [
        "drive.mount(\"/content/drive/\", force_remount=True)"
      ],
      "metadata": {
        "colab": {
          "base_uri": "https://localhost:8080/"
        },
        "id": "iP28rATUWa2W",
        "outputId": "304dfc6d-3534-40cf-a240-b57563da115e"
      },
      "execution_count": null,
      "outputs": [
        {
          "output_type": "stream",
          "name": "stdout",
          "text": [
            "Mounted at /content/drive/\n"
          ]
        }
      ]
    },
    {
      "cell_type": "code",
      "source": [
        "data= pd.read_csv(r'/content/drive/MyDrive/Bully_Sent_Emo_IEEEIC_6084.csv')\n",
        "data.head(10)"
      ],
      "metadata": {
        "colab": {
          "base_uri": "https://localhost:8080/",
          "height": 363
        },
        "id": "J-r0QBzhWlyu",
        "outputId": "9fefac24-97bd-4779-d3c3-85ccd635e313"
      },
      "execution_count": 218,
      "outputs": [
        {
          "output_type": "execute_result",
          "data": {
            "text/plain": [
              "                                              Tweets  \\\n",
              "0      Teri maa ki chut me Shivsena ka lund gaya kya   \n",
              "1  Han muje pata hai teri maa ka ke gufa me jati thi   \n",
              "2  Tum kaha se aa gye bhai tumlog toh saree pehen...   \n",
              "3  Koi moti🙊kisi ki besti😁 baisn ka or channey ki...   \n",
              "4     Rahul kanwal aaj nanga hoke road per nachega 😂   \n",
              "5  @riteshrajwada Good morning Raj bhaiya apka di...   \n",
              "6  Tera baap bi paltu kutta Hoga Teri maa ka agar...   \n",
              "7       Kya be tihari fan \\nHar baar gandu ki har...   \n",
              "8  @apeidiotstuff Hi deer\\n\\nYara tum ko shaadi p...   \n",
              "9  @iffii_khan1 @HoorainPervaiz @RehamKhan1 Randi...   \n",
              "\n",
              "                                    Processed_Tweets  Bully_Label  \\\n",
              "0      Teri maa ki chut me Shivsena ka lund gaya kya            1   \n",
              "1  Han muje pata hai teri maa ka ke gufa me jati thi            1   \n",
              "2  Tum kaha se aa gye bhai tumlog toh saree pehen...            0   \n",
              "3  Koi motikisi ki besti baisn ka or channey ki d...            1   \n",
              "4       Rahul kanwal aaj nanga hoke road per nachega            1   \n",
              "5  Good morning Raj bhaiya apka din behad khubsur...            0   \n",
              "6  Tera baap bi paltu kutta Hoga Teri maa ka agar...            1   \n",
              "7  Kya be tihari fan Har baar gandu ki harah aa j...            1   \n",
              "8  Hi deerYara tum ko shaadi py dekha thaBuht khu...            0   \n",
              "9  Randi k bachy is thran 1947 mai tu chi thi nim...            1   \n",
              "\n",
              "  Sentiment_label Emotion_label  \n",
              "0        Negative         Anger  \n",
              "1        Negative        Others  \n",
              "2         Neutral        Others  \n",
              "3        Negative       Disgust  \n",
              "4        Negative       Disgust  \n",
              "5        Positive     Happiness  \n",
              "6        Negative        Others  \n",
              "7        Negative       Disgust  \n",
              "8        Positive     Happiness  \n",
              "9        Negative       Disgust  "
            ],
            "text/html": [
              "\n",
              "  <div id=\"df-abcb1ea7-192c-4155-a20c-cf1e833a4dc2\">\n",
              "    <div class=\"colab-df-container\">\n",
              "      <div>\n",
              "<style scoped>\n",
              "    .dataframe tbody tr th:only-of-type {\n",
              "        vertical-align: middle;\n",
              "    }\n",
              "\n",
              "    .dataframe tbody tr th {\n",
              "        vertical-align: top;\n",
              "    }\n",
              "\n",
              "    .dataframe thead th {\n",
              "        text-align: right;\n",
              "    }\n",
              "</style>\n",
              "<table border=\"1\" class=\"dataframe\">\n",
              "  <thead>\n",
              "    <tr style=\"text-align: right;\">\n",
              "      <th></th>\n",
              "      <th>Tweets</th>\n",
              "      <th>Processed_Tweets</th>\n",
              "      <th>Bully_Label</th>\n",
              "      <th>Sentiment_label</th>\n",
              "      <th>Emotion_label</th>\n",
              "    </tr>\n",
              "  </thead>\n",
              "  <tbody>\n",
              "    <tr>\n",
              "      <th>0</th>\n",
              "      <td>Teri maa ki chut me Shivsena ka lund gaya kya</td>\n",
              "      <td>Teri maa ki chut me Shivsena ka lund gaya kya</td>\n",
              "      <td>1</td>\n",
              "      <td>Negative</td>\n",
              "      <td>Anger</td>\n",
              "    </tr>\n",
              "    <tr>\n",
              "      <th>1</th>\n",
              "      <td>Han muje pata hai teri maa ka ke gufa me jati thi</td>\n",
              "      <td>Han muje pata hai teri maa ka ke gufa me jati thi</td>\n",
              "      <td>1</td>\n",
              "      <td>Negative</td>\n",
              "      <td>Others</td>\n",
              "    </tr>\n",
              "    <tr>\n",
              "      <th>2</th>\n",
              "      <td>Tum kaha se aa gye bhai tumlog toh saree pehen...</td>\n",
              "      <td>Tum kaha se aa gye bhai tumlog toh saree pehen...</td>\n",
              "      <td>0</td>\n",
              "      <td>Neutral</td>\n",
              "      <td>Others</td>\n",
              "    </tr>\n",
              "    <tr>\n",
              "      <th>3</th>\n",
              "      <td>Koi moti🙊kisi ki besti😁 baisn ka or channey ki...</td>\n",
              "      <td>Koi motikisi ki besti baisn ka or channey ki d...</td>\n",
              "      <td>1</td>\n",
              "      <td>Negative</td>\n",
              "      <td>Disgust</td>\n",
              "    </tr>\n",
              "    <tr>\n",
              "      <th>4</th>\n",
              "      <td>Rahul kanwal aaj nanga hoke road per nachega 😂</td>\n",
              "      <td>Rahul kanwal aaj nanga hoke road per nachega</td>\n",
              "      <td>1</td>\n",
              "      <td>Negative</td>\n",
              "      <td>Disgust</td>\n",
              "    </tr>\n",
              "    <tr>\n",
              "      <th>5</th>\n",
              "      <td>@riteshrajwada Good morning Raj bhaiya apka di...</td>\n",
              "      <td>Good morning Raj bhaiya apka din behad khubsur...</td>\n",
              "      <td>0</td>\n",
              "      <td>Positive</td>\n",
              "      <td>Happiness</td>\n",
              "    </tr>\n",
              "    <tr>\n",
              "      <th>6</th>\n",
              "      <td>Tera baap bi paltu kutta Hoga Teri maa ka agar...</td>\n",
              "      <td>Tera baap bi paltu kutta Hoga Teri maa ka agar...</td>\n",
              "      <td>1</td>\n",
              "      <td>Negative</td>\n",
              "      <td>Others</td>\n",
              "    </tr>\n",
              "    <tr>\n",
              "      <th>7</th>\n",
              "      <td>Kya be tihari fan \\nHar baar gandu ki har...</td>\n",
              "      <td>Kya be tihari fan Har baar gandu ki harah aa j...</td>\n",
              "      <td>1</td>\n",
              "      <td>Negative</td>\n",
              "      <td>Disgust</td>\n",
              "    </tr>\n",
              "    <tr>\n",
              "      <th>8</th>\n",
              "      <td>@apeidiotstuff Hi deer\\n\\nYara tum ko shaadi p...</td>\n",
              "      <td>Hi deerYara tum ko shaadi py dekha thaBuht khu...</td>\n",
              "      <td>0</td>\n",
              "      <td>Positive</td>\n",
              "      <td>Happiness</td>\n",
              "    </tr>\n",
              "    <tr>\n",
              "      <th>9</th>\n",
              "      <td>@iffii_khan1 @HoorainPervaiz @RehamKhan1 Randi...</td>\n",
              "      <td>Randi k bachy is thran 1947 mai tu chi thi nim...</td>\n",
              "      <td>1</td>\n",
              "      <td>Negative</td>\n",
              "      <td>Disgust</td>\n",
              "    </tr>\n",
              "  </tbody>\n",
              "</table>\n",
              "</div>\n",
              "      <button class=\"colab-df-convert\" onclick=\"convertToInteractive('df-abcb1ea7-192c-4155-a20c-cf1e833a4dc2')\"\n",
              "              title=\"Convert this dataframe to an interactive table.\"\n",
              "              style=\"display:none;\">\n",
              "        \n",
              "  <svg xmlns=\"http://www.w3.org/2000/svg\" height=\"24px\"viewBox=\"0 0 24 24\"\n",
              "       width=\"24px\">\n",
              "    <path d=\"M0 0h24v24H0V0z\" fill=\"none\"/>\n",
              "    <path d=\"M18.56 5.44l.94 2.06.94-2.06 2.06-.94-2.06-.94-.94-2.06-.94 2.06-2.06.94zm-11 1L8.5 8.5l.94-2.06 2.06-.94-2.06-.94L8.5 2.5l-.94 2.06-2.06.94zm10 10l.94 2.06.94-2.06 2.06-.94-2.06-.94-.94-2.06-.94 2.06-2.06.94z\"/><path d=\"M17.41 7.96l-1.37-1.37c-.4-.4-.92-.59-1.43-.59-.52 0-1.04.2-1.43.59L10.3 9.45l-7.72 7.72c-.78.78-.78 2.05 0 2.83L4 21.41c.39.39.9.59 1.41.59.51 0 1.02-.2 1.41-.59l7.78-7.78 2.81-2.81c.8-.78.8-2.07 0-2.86zM5.41 20L4 18.59l7.72-7.72 1.47 1.35L5.41 20z\"/>\n",
              "  </svg>\n",
              "      </button>\n",
              "      \n",
              "  <style>\n",
              "    .colab-df-container {\n",
              "      display:flex;\n",
              "      flex-wrap:wrap;\n",
              "      gap: 12px;\n",
              "    }\n",
              "\n",
              "    .colab-df-convert {\n",
              "      background-color: #E8F0FE;\n",
              "      border: none;\n",
              "      border-radius: 50%;\n",
              "      cursor: pointer;\n",
              "      display: none;\n",
              "      fill: #1967D2;\n",
              "      height: 32px;\n",
              "      padding: 0 0 0 0;\n",
              "      width: 32px;\n",
              "    }\n",
              "\n",
              "    .colab-df-convert:hover {\n",
              "      background-color: #E2EBFA;\n",
              "      box-shadow: 0px 1px 2px rgba(60, 64, 67, 0.3), 0px 1px 3px 1px rgba(60, 64, 67, 0.15);\n",
              "      fill: #174EA6;\n",
              "    }\n",
              "\n",
              "    [theme=dark] .colab-df-convert {\n",
              "      background-color: #3B4455;\n",
              "      fill: #D2E3FC;\n",
              "    }\n",
              "\n",
              "    [theme=dark] .colab-df-convert:hover {\n",
              "      background-color: #434B5C;\n",
              "      box-shadow: 0px 1px 3px 1px rgba(0, 0, 0, 0.15);\n",
              "      filter: drop-shadow(0px 1px 2px rgba(0, 0, 0, 0.3));\n",
              "      fill: #FFFFFF;\n",
              "    }\n",
              "  </style>\n",
              "\n",
              "      <script>\n",
              "        const buttonEl =\n",
              "          document.querySelector('#df-abcb1ea7-192c-4155-a20c-cf1e833a4dc2 button.colab-df-convert');\n",
              "        buttonEl.style.display =\n",
              "          google.colab.kernel.accessAllowed ? 'block' : 'none';\n",
              "\n",
              "        async function convertToInteractive(key) {\n",
              "          const element = document.querySelector('#df-abcb1ea7-192c-4155-a20c-cf1e833a4dc2');\n",
              "          const dataTable =\n",
              "            await google.colab.kernel.invokeFunction('convertToInteractive',\n",
              "                                                     [key], {});\n",
              "          if (!dataTable) return;\n",
              "\n",
              "          const docLinkHtml = 'Like what you see? Visit the ' +\n",
              "            '<a target=\"_blank\" href=https://colab.research.google.com/notebooks/data_table.ipynb>data table notebook</a>'\n",
              "            + ' to learn more about interactive tables.';\n",
              "          element.innerHTML = '';\n",
              "          dataTable['output_type'] = 'display_data';\n",
              "          await google.colab.output.renderOutput(dataTable, element);\n",
              "          const docLink = document.createElement('div');\n",
              "          docLink.innerHTML = docLinkHtml;\n",
              "          element.appendChild(docLink);\n",
              "        }\n",
              "      </script>\n",
              "    </div>\n",
              "  </div>\n",
              "  "
            ]
          },
          "metadata": {},
          "execution_count": 218
        }
      ]
    },
    {
      "cell_type": "code",
      "source": [
        "data = data.apply(lambda x: x.astype(str).str.lower())"
      ],
      "metadata": {
        "id": "FpHL0WLjqLRN"
      },
      "execution_count": 219,
      "outputs": []
    },
    {
      "cell_type": "code",
      "source": [
        "data.head(2)"
      ],
      "metadata": {
        "colab": {
          "base_uri": "https://localhost:8080/",
          "height": 112
        },
        "id": "1INe-kOyqNO3",
        "outputId": "03ebff82-4c36-4d54-c563-cd25e8188525"
      },
      "execution_count": 220,
      "outputs": [
        {
          "output_type": "execute_result",
          "data": {
            "text/plain": [
              "                                              Tweets  \\\n",
              "0      teri maa ki chut me shivsena ka lund gaya kya   \n",
              "1  han muje pata hai teri maa ka ke gufa me jati thi   \n",
              "\n",
              "                                    Processed_Tweets Bully_Label  \\\n",
              "0      teri maa ki chut me shivsena ka lund gaya kya           1   \n",
              "1  han muje pata hai teri maa ka ke gufa me jati thi           1   \n",
              "\n",
              "  Sentiment_label Emotion_label  \n",
              "0        negative         anger  \n",
              "1        negative        others  "
            ],
            "text/html": [
              "\n",
              "  <div id=\"df-6d640f95-35ee-41c2-8025-bb5a8f02334c\">\n",
              "    <div class=\"colab-df-container\">\n",
              "      <div>\n",
              "<style scoped>\n",
              "    .dataframe tbody tr th:only-of-type {\n",
              "        vertical-align: middle;\n",
              "    }\n",
              "\n",
              "    .dataframe tbody tr th {\n",
              "        vertical-align: top;\n",
              "    }\n",
              "\n",
              "    .dataframe thead th {\n",
              "        text-align: right;\n",
              "    }\n",
              "</style>\n",
              "<table border=\"1\" class=\"dataframe\">\n",
              "  <thead>\n",
              "    <tr style=\"text-align: right;\">\n",
              "      <th></th>\n",
              "      <th>Tweets</th>\n",
              "      <th>Processed_Tweets</th>\n",
              "      <th>Bully_Label</th>\n",
              "      <th>Sentiment_label</th>\n",
              "      <th>Emotion_label</th>\n",
              "    </tr>\n",
              "  </thead>\n",
              "  <tbody>\n",
              "    <tr>\n",
              "      <th>0</th>\n",
              "      <td>teri maa ki chut me shivsena ka lund gaya kya</td>\n",
              "      <td>teri maa ki chut me shivsena ka lund gaya kya</td>\n",
              "      <td>1</td>\n",
              "      <td>negative</td>\n",
              "      <td>anger</td>\n",
              "    </tr>\n",
              "    <tr>\n",
              "      <th>1</th>\n",
              "      <td>han muje pata hai teri maa ka ke gufa me jati thi</td>\n",
              "      <td>han muje pata hai teri maa ka ke gufa me jati thi</td>\n",
              "      <td>1</td>\n",
              "      <td>negative</td>\n",
              "      <td>others</td>\n",
              "    </tr>\n",
              "  </tbody>\n",
              "</table>\n",
              "</div>\n",
              "      <button class=\"colab-df-convert\" onclick=\"convertToInteractive('df-6d640f95-35ee-41c2-8025-bb5a8f02334c')\"\n",
              "              title=\"Convert this dataframe to an interactive table.\"\n",
              "              style=\"display:none;\">\n",
              "        \n",
              "  <svg xmlns=\"http://www.w3.org/2000/svg\" height=\"24px\"viewBox=\"0 0 24 24\"\n",
              "       width=\"24px\">\n",
              "    <path d=\"M0 0h24v24H0V0z\" fill=\"none\"/>\n",
              "    <path d=\"M18.56 5.44l.94 2.06.94-2.06 2.06-.94-2.06-.94-.94-2.06-.94 2.06-2.06.94zm-11 1L8.5 8.5l.94-2.06 2.06-.94-2.06-.94L8.5 2.5l-.94 2.06-2.06.94zm10 10l.94 2.06.94-2.06 2.06-.94-2.06-.94-.94-2.06-.94 2.06-2.06.94z\"/><path d=\"M17.41 7.96l-1.37-1.37c-.4-.4-.92-.59-1.43-.59-.52 0-1.04.2-1.43.59L10.3 9.45l-7.72 7.72c-.78.78-.78 2.05 0 2.83L4 21.41c.39.39.9.59 1.41.59.51 0 1.02-.2 1.41-.59l7.78-7.78 2.81-2.81c.8-.78.8-2.07 0-2.86zM5.41 20L4 18.59l7.72-7.72 1.47 1.35L5.41 20z\"/>\n",
              "  </svg>\n",
              "      </button>\n",
              "      \n",
              "  <style>\n",
              "    .colab-df-container {\n",
              "      display:flex;\n",
              "      flex-wrap:wrap;\n",
              "      gap: 12px;\n",
              "    }\n",
              "\n",
              "    .colab-df-convert {\n",
              "      background-color: #E8F0FE;\n",
              "      border: none;\n",
              "      border-radius: 50%;\n",
              "      cursor: pointer;\n",
              "      display: none;\n",
              "      fill: #1967D2;\n",
              "      height: 32px;\n",
              "      padding: 0 0 0 0;\n",
              "      width: 32px;\n",
              "    }\n",
              "\n",
              "    .colab-df-convert:hover {\n",
              "      background-color: #E2EBFA;\n",
              "      box-shadow: 0px 1px 2px rgba(60, 64, 67, 0.3), 0px 1px 3px 1px rgba(60, 64, 67, 0.15);\n",
              "      fill: #174EA6;\n",
              "    }\n",
              "\n",
              "    [theme=dark] .colab-df-convert {\n",
              "      background-color: #3B4455;\n",
              "      fill: #D2E3FC;\n",
              "    }\n",
              "\n",
              "    [theme=dark] .colab-df-convert:hover {\n",
              "      background-color: #434B5C;\n",
              "      box-shadow: 0px 1px 3px 1px rgba(0, 0, 0, 0.15);\n",
              "      filter: drop-shadow(0px 1px 2px rgba(0, 0, 0, 0.3));\n",
              "      fill: #FFFFFF;\n",
              "    }\n",
              "  </style>\n",
              "\n",
              "      <script>\n",
              "        const buttonEl =\n",
              "          document.querySelector('#df-6d640f95-35ee-41c2-8025-bb5a8f02334c button.colab-df-convert');\n",
              "        buttonEl.style.display =\n",
              "          google.colab.kernel.accessAllowed ? 'block' : 'none';\n",
              "\n",
              "        async function convertToInteractive(key) {\n",
              "          const element = document.querySelector('#df-6d640f95-35ee-41c2-8025-bb5a8f02334c');\n",
              "          const dataTable =\n",
              "            await google.colab.kernel.invokeFunction('convertToInteractive',\n",
              "                                                     [key], {});\n",
              "          if (!dataTable) return;\n",
              "\n",
              "          const docLinkHtml = 'Like what you see? Visit the ' +\n",
              "            '<a target=\"_blank\" href=https://colab.research.google.com/notebooks/data_table.ipynb>data table notebook</a>'\n",
              "            + ' to learn more about interactive tables.';\n",
              "          element.innerHTML = '';\n",
              "          dataTable['output_type'] = 'display_data';\n",
              "          await google.colab.output.renderOutput(dataTable, element);\n",
              "          const docLink = document.createElement('div');\n",
              "          docLink.innerHTML = docLinkHtml;\n",
              "          element.appendChild(docLink);\n",
              "        }\n",
              "      </script>\n",
              "    </div>\n",
              "  </div>\n",
              "  "
            ]
          },
          "metadata": {},
          "execution_count": 220
        }
      ]
    },
    {
      "cell_type": "code",
      "source": [
        "data['Sentiment_label'].value_counts()"
      ],
      "metadata": {
        "colab": {
          "base_uri": "https://localhost:8080/"
        },
        "id": "tzazDkZFo5cW",
        "outputId": "07ff11af-e465-47b5-e84b-2dbc0790fbbf"
      },
      "execution_count": 221,
      "outputs": [
        {
          "output_type": "execute_result",
          "data": {
            "text/plain": [
              "negative    3227\n",
              "positive    1530\n",
              "neutral     1327\n",
              "Name: Sentiment_label, dtype: int64"
            ]
          },
          "metadata": {},
          "execution_count": 221
        }
      ]
    },
    {
      "cell_type": "code",
      "source": [
        "data['Bully_Label'].value_counts()# positive and neutral =0 , negative =1"
      ],
      "metadata": {
        "colab": {
          "base_uri": "https://localhost:8080/"
        },
        "id": "x-oTGvuVpI6l",
        "outputId": "619ac2db-7f00-4f6e-b49b-7259cc70df77"
      },
      "execution_count": 222,
      "outputs": [
        {
          "output_type": "execute_result",
          "data": {
            "text/plain": [
              "1    3050\n",
              "0    3034\n",
              "Name: Bully_Label, dtype: int64"
            ]
          },
          "metadata": {},
          "execution_count": 222
        }
      ]
    },
    {
      "cell_type": "code",
      "source": [
        "data.info()"
      ],
      "metadata": {
        "colab": {
          "base_uri": "https://localhost:8080/"
        },
        "id": "xBsIHPRGjbW-",
        "outputId": "951415a3-24fa-4aa5-f8e7-66fb609ed06e"
      },
      "execution_count": 223,
      "outputs": [
        {
          "output_type": "stream",
          "name": "stdout",
          "text": [
            "<class 'pandas.core.frame.DataFrame'>\n",
            "RangeIndex: 6084 entries, 0 to 6083\n",
            "Data columns (total 5 columns):\n",
            " #   Column            Non-Null Count  Dtype \n",
            "---  ------            --------------  ----- \n",
            " 0   Tweets            6084 non-null   object\n",
            " 1   Processed_Tweets  6084 non-null   object\n",
            " 2   Bully_Label       6084 non-null   object\n",
            " 3   Sentiment_label   6084 non-null   object\n",
            " 4   Emotion_label     6084 non-null   object\n",
            "dtypes: object(5)\n",
            "memory usage: 237.8+ KB\n"
          ]
        }
      ]
    },
    {
      "cell_type": "code",
      "source": [
        "data.isnull().sum()"
      ],
      "metadata": {
        "colab": {
          "base_uri": "https://localhost:8080/"
        },
        "id": "fptv8a_rjhwP",
        "outputId": "01c47b52-4f20-438d-df8b-2b4926c4e6b3"
      },
      "execution_count": 97,
      "outputs": [
        {
          "output_type": "execute_result",
          "data": {
            "text/plain": [
              "Tweets              0\n",
              "Processed_Tweets    0\n",
              "Bully_Label         0\n",
              "Sentiment_label     0\n",
              "Emotion_label       0\n",
              "dtype: int64"
            ]
          },
          "metadata": {},
          "execution_count": 97
        }
      ]
    },
    {
      "cell_type": "markdown",
      "source": [
        "Question-2"
      ],
      "metadata": {
        "id": "lu3hwgdVKxaf"
      }
    },
    {
      "cell_type": "code",
      "source": [
        "data.shape"
      ],
      "metadata": {
        "colab": {
          "base_uri": "https://localhost:8080/"
        },
        "id": "0AM72FA7tUsu",
        "outputId": "f6ee931f-ce30-4600-8934-a1c968948b77"
      },
      "execution_count": 98,
      "outputs": [
        {
          "output_type": "execute_result",
          "data": {
            "text/plain": [
              "(6084, 5)"
            ]
          },
          "metadata": {},
          "execution_count": 98
        }
      ]
    },
    {
      "cell_type": "code",
      "source": [],
      "metadata": {
        "id": "AGKzikYKIDSk"
      },
      "execution_count": null,
      "outputs": []
    },
    {
      "cell_type": "code",
      "source": [
        "#data = data(np.random.rand(10, 4), columns=['Bully_Label',\t'Sentiment_label','Emotion_label'])\n",
        "df = pd.DataFrame(data, columns=['Bully_Label',\t'Sentiment_label','Emotion_label'])\n",
        "#df.plot(x=\"Emotion_label\", y=['Bully_Label'], kind=\"bar\", figsize=(9, 8))\n",
        "#[1261]: df2.plot(kind='bar');\n",
        "\n",
        "\n",
        "df['Sentiment_label'].value_counts().plot(kind='bar')"
      ],
      "metadata": {
        "colab": {
          "base_uri": "https://localhost:8080/",
          "height": 316
        },
        "id": "COwXNk36E9rt",
        "outputId": "d91557b0-f0d2-48ac-d336-6ccb1ebd4a9c"
      },
      "execution_count": 224,
      "outputs": [
        {
          "output_type": "execute_result",
          "data": {
            "text/plain": [
              "<matplotlib.axes._subplots.AxesSubplot at 0x7fa93f05c610>"
            ]
          },
          "metadata": {},
          "execution_count": 224
        },
        {
          "output_type": "display_data",
          "data": {
            "text/plain": [
              "<Figure size 432x288 with 1 Axes>"
            ],
            "image/png": "[encoded data removed]"
          },
          "metadata": {
            "needs_background": "light"
          }
        }
      ]
    },
    {
      "cell_type": "code",
      "source": [
        "df['Emotion_label'].value_counts().plot(kind='bar')"
      ],
      "metadata": {
        "colab": {
          "base_uri": "https://localhost:8080/",
          "height": 323
        },
        "id": "E3_xKhTWHtPe",
        "outputId": "88c6ef8c-9415-4e63-d996-d93fe5711b4a"
      },
      "execution_count": 100,
      "outputs": [
        {
          "output_type": "execute_result",
          "data": {
            "text/plain": [
              "<matplotlib.axes._subplots.AxesSubplot at 0x7fa94288b3d0>"
            ]
          },
          "metadata": {},
          "execution_count": 100
        },
        {
          "output_type": "display_data",
          "data": {
            "text/plain": [
              "<Figure size 432x288 with 1 Axes>"
            ],
            "image/png": "[encoded data removed]"
          },
          "metadata": {
            "needs_background": "light"
          }
        }
      ]
    },
    {
      "cell_type": "code",
      "source": [
        "df['Bully_Label'].value_counts().plot(kind='bar')"
      ],
      "metadata": {
        "colab": {
          "base_uri": "https://localhost:8080/",
          "height": 279
        },
        "id": "HJMoRTefHzHy",
        "outputId": "86228938-484f-405f-f107-dcf33379fc20"
      },
      "execution_count": 102,
      "outputs": [
        {
          "output_type": "execute_result",
          "data": {
            "text/plain": [
              "<matplotlib.axes._subplots.AxesSubplot at 0x7fa940c86b50>"
            ]
          },
          "metadata": {},
          "execution_count": 102
        },
        {
          "output_type": "display_data",
          "data": {
            "text/plain": [
              "<Figure size 432x288 with 1 Axes>"
            ],
            "image/png": "[encoded data removed]"
          },
          "metadata": {
            "needs_background": "light"
          }
        }
      ]
    },
    {
      "cell_type": "code",
      "source": [
        "df['Emotion_label'].value_counts().head(10).plot.pie()\n",
        "\n",
        "# Unsquish the pie.\n",
        "import matplotlib.pyplot as plt\n",
        "plt.gca().set_aspect('equal')"
      ],
      "metadata": {
        "colab": {
          "base_uri": "https://localhost:8080/",
          "height": 248
        },
        "id": "3Xc33UYLIMZL",
        "outputId": "2c4ff50d-3d10-4b76-9318-397b9a88f9b6"
      },
      "execution_count": 103,
      "outputs": [
        {
          "output_type": "display_data",
          "data": {
            "text/plain": [
              "<Figure size 432x288 with 1 Axes>"
            ],
            "image/png": "[encoded data removed]"
          },
          "metadata": {}
        }
      ]
    },
    {
      "cell_type": "code",
      "source": [
        "df['Sentiment_label'].value_counts().head(10).plot.pie()\n",
        "\n",
        "plt.gca().set_aspect('equal')"
      ],
      "metadata": {
        "colab": {
          "base_uri": "https://localhost:8080/",
          "height": 248
        },
        "id": "vxNKzR1YJ5_u",
        "outputId": "4735389c-aadc-4ee6-b511-68bcee1fc9d6"
      },
      "execution_count": 104,
      "outputs": [
        {
          "output_type": "display_data",
          "data": {
            "text/plain": [
              "<Figure size 432x288 with 1 Axes>"
            ],
            "image/png": "[encoded data removed]"
          },
          "metadata": {}
        }
      ]
    },
    {
      "cell_type": "code",
      "source": [
        "from collections import Counter "
      ],
      "metadata": {
        "id": "8MPGBkmYN7H3"
      },
      "execution_count": 13,
      "outputs": []
    },
    {
      "cell_type": "markdown",
      "source": [
        "Q-3, word count"
      ],
      "metadata": {
        "id": "DamFxi4bmduU"
      }
    },
    {
      "cell_type": "code",
      "source": [
        "df['Emotion_label'].value_counts()"
      ],
      "metadata": {
        "colab": {
          "base_uri": "https://localhost:8080/"
        },
        "id": "yMz6UJTBmfET",
        "outputId": "48cb29fd-88ed-4d4f-f8ee-47e524241d86"
      },
      "execution_count": 105,
      "outputs": [
        {
          "output_type": "execute_result",
          "data": {
            "text/plain": [
              "others       1735\n",
              "disgust      1678\n",
              "happiness    1367\n",
              "anger         900\n",
              "sadness       254\n",
              "surprise      114\n",
              "fear           36\n",
              "Name: Emotion_label, dtype: int64"
            ]
          },
          "metadata": {},
          "execution_count": 105
        }
      ]
    },
    {
      "cell_type": "markdown",
      "source": [
        "Question-4\n",
        "''Preprocessing: Create a new column ‘preprocessed_text’ ''"
      ],
      "metadata": {
        "id": "GmCUj3aUmlRg"
      }
    },
    {
      "cell_type": "code",
      "source": [
        "from google.colab import files"
      ],
      "metadata": {
        "id": "X3pF3fo8yav-"
      },
      "execution_count": null,
      "outputs": []
    },
    {
      "cell_type": "code",
      "source": [
        "import nltk\n",
        "nltk.download('stopwords')\n",
        "from nltk.corpus import stopwords\n",
        "stop = set(stopwords.words('hinglish'))"
      ],
      "metadata": {
        "colab": {
          "base_uri": "https://localhost:8080/"
        },
        "id": "nbGpIxk4IEjS",
        "outputId": "85a08bef-91a4-4eb5-f803-f47c67d8d5b6"
      },
      "execution_count": 225,
      "outputs": [
        {
          "output_type": "stream",
          "name": "stderr",
          "text": [
            "[nltk_data] Downloading package stopwords to /root/nltk_data...\n",
            "[nltk_data]   Package stopwords is already up-to-date!\n"
          ]
        }
      ]
    },
    {
      "cell_type": "code",
      "source": [
        "print(stop)"
      ],
      "metadata": {
        "colab": {
          "base_uri": "https://localhost:8080/"
        },
        "id": "itGEYW60ItTx",
        "outputId": "f0b11e09-98a9-471e-e533-a26ca5eb9d81"
      },
      "execution_count": 226,
      "outputs": [
        {
          "output_type": "stream",
          "name": "stdout",
          "text": [
            "{'mjhe', \"hadn't\", 'rha', \"aren't\", 'through', 'kari', 'novel', \"weren't\", 'ask', 'ought', 'likely', 'meri', 'phla', 'someone', \"wouldn't\", 'looks', 'nd', 'on', 'should', 'si', 'havent', 'that', 'think', 'also', 'let', 'downwards', 'true', 'perhaps', \"i'll\", 'teen', 'kahin', 'becoming', 'kinhe', 'thinking', 'ab', 'thoda', 'whether', 'mat', 'one', 'here', 'maano', 'raha', 'ourselves', 'wali', 'krna', 've', 'kara', 'almost', 'sang', 'anyways', \"it'll\", 'liye', 'de', 'karen', 'avum', 'banae', 'q', 'forth', 'gayi', 'kinka', \"there's\", 'am', 'apan', 'bolo', 'karega', 'tjhe', 'upon', 'waala', 'who', 'onto', \"she's\", 'jiske', 'aisa', 'later', 'obviously', 'kahan', 'up', 'her', 'his', 'hui', 'kiski', 'hamare', 'par', 'vale', 'karun', 'waise', 'unlikely', 'used', 'for', 'ityadi', 'mana', 'aapne', 'hopefully', 'kaunsa', 'apni', 'gives', 'wouldn', 'well', 'vahin', 'bani', 'maani', 'cannot', 'hotaa', 'sent', 'everyone', 'while', 'kisi', 'unki', 'kafi', 'thereupon', 'jiska', 'arent', 'keeps', 'other', 'did', 'kaisi', 'vahaan', 'ka', 'jidhar', 'see', 'humne', 'unka', 'iski', 'mean', 'several', 'kis', 'know', \"who's\", \"haven't\", 'ap', 'saara', 'which', 'bohot', 'so', 'following', 'are', 'soon', 'uss', 'sup', 'provides', 'jo', 'mainly', 'whereby', 'thanks', 'nine', 'gets', 'jin', 'phle', 'sometimes', 'yah', 'or', 'people', 'into', 'until', 'now', 'hogi', 'que', 'boli', 'inho', 'itni', 'theek', 'hm', 'mujhe', 'karna', 'logon', 'neither', 'allow', 'yeh', 'exactly', 'edu', 'less', 'dega', 'teesri', 'idk', \"isn't\", 'mere', 'ltd', 'becomes', 'kon', 'mostly', 'thing', 'wasn', 'tends', 'beforehand', 'tumhara', 'vaise', 'sabse', 'third', 'hota', 'upar', 'yahi', 'le', 'hither', 'too', 'umm', 'yehi', 'kuchch', 'under', 'actually', 'saw', 'get', 'magar', 'towards', 'unn', 'theres', 'himself', 'hua', 'anyone', \"they've\", 'followed', 'tried', 'useful', 'whose', 'never', 'denge', 'aside', 'gotten', 'aaya', 'neednt', 'karte', 'thru', 'inka', 'dekho', 'kyunki', 'goes', 'uske', 'dungi', 'seeing', 'nevertheless', 'during', 'jahaan', 'dede', 'vaisa', 'because', 'shouldnt', 'like', 'pata', 'han', 'chhaiye', 'mane', 'such', 'dwara', 'yes', 'iskaa', 'try', 'next', 'hone', 'banaye', 'karunga', 'however', 'kiya', 'thought', 'shant', 'fir', 'toward', 'soch', 'last', \"we're\", 'something', 'trying', 'o', 'aise', 'abhi', 'yeah', 't', \"couldn't\", 'after', 'hu', 'iska', 'name', 'rakho', 'sara', 'placed', 'karne', 'lunga', 'saare', 'behind', 'hai', 'some', 'honi', 'abbey', 'four', 'unse', 'didn', 'tumhare', 'maan', 'else', 'nobody', 'naa', 'beyond', 'together', 'few', 'same', 'bro', 'jaisa', 'took', 'jinke', \"that'll\", 'even', \"they'd\", 'hadnt', 'jinki', 'thik', 'phli', 'bole', 'unke', 'its', 'bolta', 'tell', 'vahi', 'howbeit', 'inke', \"he's\", 'kiye', 'pehle', 'none', 'th', 'apna', 'aap', 'vali', 'us', 'eight', 'toh', 'liya', 'whoever', \"hasn't\", \"it's\", 'vaale', 'jiss', 'take', 'degi', 'everywhere', 'jis', 'allows', 'near', 'mano', 'went', \"here's\", 'yadi', 'just', 'may', 'sakta', 'bolte', 'a', 'least', 'but', 'greetings', 'jinho', 'karenge', 'lekin', 'every', \"we'll\", 'wouldnt', 'baad', 'bc', 'kar', 'yahin', 'afterwards', 'ghar', 'hoga', 'hasn', 'in', 'kul', 'sahi', 'thence', 'kyun', 'these', 'wo', 'kitne', 'done', 'has', 'itno', \"shan't\", 'lol', 'banaya', 'poori', 'jinhone', 'all', 'each', \"i'd\", 'mustnt', 'two', 'truly', 'him', 'kept', 'hasnt', 'with', 'keh', 'ya', \"wasn't\", 'quite', 'only', 'achcha', 'aaye', 'various', 'tha', 'jyada', 'aya', 'how', 'arre', 'wohi', 'rhaa', 'outside', 'hmm', 'aisi', 'inward', 'their', 'dusra', 'kaun', 'ityaadi', 'unko', 'kahte', 'tujhe', 'doosra', 'besides', 'tum', 'have', 'kab', 'rakha', 'dvara', 'se', 'kinn', 'taken', 'kinki', 'hadd', 'bata', 'ja', 'inhi', 'haven', 'jahan', 'thereby', 'um', 'kyaa', 'usne', 'what', 'karu', 'appear', 'over', 'baar', 'where', 'enough', 'inki', 'kitno', 'kch', 'kino', 'somewhat', 'bht', \"we've\", 'isn', 'cause', 'dont', 'll', 'pura', 'shouldn', 'banai', 'serious', 'alag', 'didnt', 'diye', 'saath', 'couldn', 'banayi', 'd', 'karegi', 'looking', 'necessary', 'kahi', 'at', 'follows', 'anyway', 'hain', 'itna', 'jiski', 'and', 'jitna', 'bheetar', 'jinn', 'tere', 'knows', 'wagerah', 'li', 'noone', 'bande', \"you're\", 'around', 'karni', 'everybody', 'across', 'dekhe', 'tune', 'bas', 'better', 'diyo', 'kahaa', 'kam', 'oh', 'said', 'thank', 'aadi', 'hereby', 'myself', 'accha', 'those', 'neeche', 'jitne', 'viz', 'use', 'dhang', 'insofar', 'yahan', 'therefore', 'teeno', 'log', 'this', 'wont', 'hers', 'right', 'along', 'bhi', 'most', 'wherein', 'of', 'say', 'humein', 'whereafter', 'lately', 'although', 'rakhe', 'why', 'kinko', 'vo', 'kahaan', 'except', 'must', 'ok', 'sakte', 'hamara', 'vaali', 'jisse', 'rakhen', 'doesnt', 'com', 'm', 'apart', 'chahiye', 'jise', 'regardless', 'among', 'dekhi', 'nai', 'somewhere', 'unless', 'whereas', 'hoyenge', 'tries', 'jata', 'since', 'iss', \"shouldn't\", 'ek', 'naah', 'between', 'certain', 'hi', 'k', 'we', 'hence', 'andar', 'got', 'shan', 'karta', 'keep', 'rakhi', 'aaj', 'acha', 'yaha', 'accordingly', 'eg', 'chal', 'jabh', \"c'mon\", \"let's\", 'wasnt', 'needn', 'aye', 'against', 'jitni', 'jayega', 'does', 'kine', 'rather', 'do', 'jinhi', 're', 'tarah', 'first', 'pe', \"we'd\", 'ever', 'saktaa', 'thanx', 'wants', 'very', 'beside', 'kiske', 'seriously', 'unhi', 'further', 'them', 'saying', \"should've\", 'became', 'your', 'mein', 'sab', 'chaiye', 'seen', 'diya', 'ours', 'di', 'help', 'inasmuch', 'ise', 'waali', 'bola', 'haan', 'kyu', 'kyuki', 'whereupon', 'three', 'lest', 'issi', 'really', 'y', 'honaa', 'ne', 'bandi', 'the', 'off', 'mil', 'main', 'kuchh', 'mightnt', 'jaa', 'lagta', 'as', 'before', 'sure', 'kinke', 'not', 'anywhere', 'wahi', 'maybe', 'above', 'regarding', 'yahaan', 'within', 'more', 'mustn', 'gaye', 'ho', \"won't\", 'bhai', 'still', 'kisliye', 'might', 'somehow', \"where's\", 'others', 'isme', 'it', 'selves', 'non', 'batao', \"that's\", 'aata', \"don't\", 'somebody', 'kin', 'without', 'yourself', 'yup', 'hereupon', 'able', 'going', 'krne', 'btw', 'hello', 'teesre', 'apnaa', 'herself', 'thodi', 'seven', 'yourselves', 'imo', 'sub', 'etc', 'sakti', 'always', 'kaha', 'wahin', 'unkaa', 'down', 'bol', 'ke', 'jinhe', 'liked', 'jaha', 'again', 'normally', 'hum', \"can't\", 'dvaara', 'good', 'she', 'dijiye', 'inhe', 'kinho', 'won', 'want', 'from', 'tu', 'doesn', 'certainly', 'kaise', 'karungi', 'five', 'lekar', 'okay', 'given', 'hue', 'aati', 'own', 'overall', 'yours', 'vala', 'asking', \"didn't\", 'banda', 'once', 'sensible', 'than', 'hoti', 'yet', \"you've\", 'kisko', 'ko', 'kise', 'nearly', 'dekh', 'hardly', 'aur', 'nothing', 'whole', 'dono', 'often', 'couldnt', 'regards', 'throughout', 'hun', 'nahin', 'inner', 'vahan', 'vaala', 'lagti', 'i', 'nhi', 'poora', 'be', 'jyaada', 'weren', 'known', 'ex', 'six', 'themselves', 'bad', 'jinka', 'mai', 'waha', 'banao', 'tab', 'tabh', 'khud', 'been', 'inn', 'being', 'huye', 'wherever', 'therein', 'look', 'using', 'isse', 'via', 'there', 'kull', 'seeming', 'no', 'fifth', 'best', 'whenever', 'nowhere', 'willing', 'he', 'unho', 'they', 'whence', 'usse', 'kitni', 'pehli', 'you', 'furthermore', 'abbe', 'theirs', 'huyi', 'everything', \"it'd\", 'ki', 'second', \"they'll\", 'will', 'go', 'hona', 'kya', 'nahi', \"mightn't\", 'thi', 'ie', 'anything', 'diyaa', 'little', 'chalega', 'dude', 'doing', 'koi', 'inc', 'usi', 'unhe', 'ussi', 'bhitar', 'hadn', 'any', 'far', 'iske', 'kehte', 'hamari', 'nope', 'thats', 'already', 'hoyengi', 'ri', 'according', 'twice', 'either', 'hoge', 'clearly', 'can', 'were', \"doesn't\", 'alone', 'kaafi', 'then', 'tumhari', 'aint', 'hereafter', 'to', 'tera', 'karke', 'seemed', 'wagairah', 'about', 'abe', 'lagte', 'though', 'bana', 'woh', 'namely', 'many', 'kayi', 'rehte', 'seem', 'could', 'had', 'kare', 'thereafter', 'below', 'maine', 'un', 'uses', 'maana', 'needs', 'itne', 'usually', 'thorough', \"needn't\", 'vaisi', 'isi', 's', 'isnt', 'when', 'itself', 'dusre', 'kiska', 'mera', 'wahan', 'mightn', 'gone', 'isne', 'wala', 'moreover', 'na', 'please', 'having', 'both', 'dekha', 'kisne', 'me', 'pehla', 'waale', 'wahaan', \"they're\", 'thus', 'unto', 'need', 'mani', 'nor', 'wagaira', 'ye', 'dunga', 'karo', 'kal', 'if', 'by', 'rhi', 'sabhi', 'was', 'agar', 'getting', 'amongst', 'came', 'shall', 'wale', 'example', 'isski', \"what's\", 'kuch', 'teesra', 'bahut', 'new', 'seems', 'rahi', 'karti', \"ain't\", 'become', \"i'm\", 'causes', 'jaisi', 'kitna', 'old', 'rahe', 'self', 'kaisa', 'herein', 'rahaa', 'way', \"mustn't\", 'out', 'another', 'konsa', 'anyhow', 'jab', 'kabhi', 'bolti', 'comes', 'is', 'apne', 'rakh', 'reasonably', 'rhe', 'uska', 'per', 'says', 'whom', \"you'd\", 'brief', 'bilkul', 'inse', 'inkaa', 'werent', 'otherwise', 'ones', 'tho', 'koyi', 'ain', 'maane', 'plus', 'unhone', 'come', 'hote', 'merely', 'my', 'meanwhile', 'waisa', 'dusri', 'huh', 'jaise', 'happens', 'our', 'much', 'hongi', 'sa', 'puri', 'aren', 'tak', 'cant', 'whatever', \"you'll\", 'elsewhere', 'sath', 'an', 'would', 'hamne', 'anybody', 'waisi', 'sometime', 'honge', 'thoroughly', 'teri', 'bane', 'lo', 'jisme', \"i've\", 'gaya', 'secondly', 'doosre', 'har', 'dwaara'}\n"
          ]
        }
      ]
    },
    {
      "cell_type": "code",
      "source": [
        "data['tweet_stopwords'] = data['Tweets'].apply(lambda x: ' '.join([word for word in x.split() if word not in (stop)]))"
      ],
      "metadata": {
        "id": "KlsN1J3vAU5B"
      },
      "execution_count": 227,
      "outputs": []
    },
    {
      "cell_type": "code",
      "source": [
        "data.head()"
      ],
      "metadata": {
        "colab": {
          "base_uri": "https://localhost:8080/",
          "height": 337
        },
        "id": "yiR5nsOxo7IU",
        "outputId": "be7c73b3-25a5-4136-beb5-d60ea1310679"
      },
      "execution_count": 228,
      "outputs": [
        {
          "output_type": "execute_result",
          "data": {
            "text/plain": [
              "                                              Tweets  \\\n",
              "0      teri maa ki chut me shivsena ka lund gaya kya   \n",
              "1  han muje pata hai teri maa ka ke gufa me jati thi   \n",
              "2  tum kaha se aa gye bhai tumlog toh saree pehen...   \n",
              "3  koi moti🙊kisi ki besti😁 baisn ka or channey ki...   \n",
              "4     rahul kanwal aaj nanga hoke road per nachega 😂   \n",
              "\n",
              "                                    Processed_Tweets Bully_Label  \\\n",
              "0      teri maa ki chut me shivsena ka lund gaya kya           1   \n",
              "1  han muje pata hai teri maa ka ke gufa me jati thi           1   \n",
              "2  tum kaha se aa gye bhai tumlog toh saree pehen...           0   \n",
              "3  koi motikisi ki besti baisn ka or channey ki d...           1   \n",
              "4       rahul kanwal aaj nanga hoke road per nachega           1   \n",
              "\n",
              "  Sentiment_label Emotion_label  \\\n",
              "0        negative         anger   \n",
              "1        negative        others   \n",
              "2         neutral        others   \n",
              "3        negative       disgust   \n",
              "4        negative       disgust   \n",
              "\n",
              "                                     tweet_stopwords  \n",
              "0                             maa chut shivsena lund  \n",
              "1                                 muje maa gufa jati  \n",
              "2  aa gye tumlog saree pehen chup baithe aahe cho...  \n",
              "3  moti🙊kisi besti😁 baisn channey dal halwa kha t...  \n",
              "4             rahul kanwal nanga hoke road nachega 😂  "
            ],
            "text/html": [
              "\n",
              "  <div id=\"df-69d777ac-f189-47c9-b5a3-9743f2569f24\">\n",
              "    <div class=\"colab-df-container\">\n",
              "      <div>\n",
              "<style scoped>\n",
              "    .dataframe tbody tr th:only-of-type {\n",
              "        vertical-align: middle;\n",
              "    }\n",
              "\n",
              "    .dataframe tbody tr th {\n",
              "        vertical-align: top;\n",
              "    }\n",
              "\n",
              "    .dataframe thead th {\n",
              "        text-align: right;\n",
              "    }\n",
              "</style>\n",
              "<table border=\"1\" class=\"dataframe\">\n",
              "  <thead>\n",
              "    <tr style=\"text-align: right;\">\n",
              "      <th></th>\n",
              "      <th>Tweets</th>\n",
              "      <th>Processed_Tweets</th>\n",
              "      <th>Bully_Label</th>\n",
              "      <th>Sentiment_label</th>\n",
              "      <th>Emotion_label</th>\n",
              "      <th>tweet_stopwords</th>\n",
              "    </tr>\n",
              "  </thead>\n",
              "  <tbody>\n",
              "    <tr>\n",
              "      <th>0</th>\n",
              "      <td>teri maa ki chut me shivsena ka lund gaya kya</td>\n",
              "      <td>teri maa ki chut me shivsena ka lund gaya kya</td>\n",
              "      <td>1</td>\n",
              "      <td>negative</td>\n",
              "      <td>anger</td>\n",
              "      <td>maa chut shivsena lund</td>\n",
              "    </tr>\n",
              "    <tr>\n",
              "      <th>1</th>\n",
              "      <td>han muje pata hai teri maa ka ke gufa me jati thi</td>\n",
              "      <td>han muje pata hai teri maa ka ke gufa me jati thi</td>\n",
              "      <td>1</td>\n",
              "      <td>negative</td>\n",
              "      <td>others</td>\n",
              "      <td>muje maa gufa jati</td>\n",
              "    </tr>\n",
              "    <tr>\n",
              "      <th>2</th>\n",
              "      <td>tum kaha se aa gye bhai tumlog toh saree pehen...</td>\n",
              "      <td>tum kaha se aa gye bhai tumlog toh saree pehen...</td>\n",
              "      <td>0</td>\n",
              "      <td>neutral</td>\n",
              "      <td>others</td>\n",
              "      <td>aa gye tumlog saree pehen chup baithe aahe cho...</td>\n",
              "    </tr>\n",
              "    <tr>\n",
              "      <th>3</th>\n",
              "      <td>koi moti🙊kisi ki besti😁 baisn ka or channey ki...</td>\n",
              "      <td>koi motikisi ki besti baisn ka or channey ki d...</td>\n",
              "      <td>1</td>\n",
              "      <td>negative</td>\n",
              "      <td>disgust</td>\n",
              "      <td>moti🙊kisi besti😁 baisn channey dal halwa kha t...</td>\n",
              "    </tr>\n",
              "    <tr>\n",
              "      <th>4</th>\n",
              "      <td>rahul kanwal aaj nanga hoke road per nachega 😂</td>\n",
              "      <td>rahul kanwal aaj nanga hoke road per nachega</td>\n",
              "      <td>1</td>\n",
              "      <td>negative</td>\n",
              "      <td>disgust</td>\n",
              "      <td>rahul kanwal nanga hoke road nachega 😂</td>\n",
              "    </tr>\n",
              "  </tbody>\n",
              "</table>\n",
              "</div>\n",
              "      <button class=\"colab-df-convert\" onclick=\"convertToInteractive('df-69d777ac-f189-47c9-b5a3-9743f2569f24')\"\n",
              "              title=\"Convert this dataframe to an interactive table.\"\n",
              "              style=\"display:none;\">\n",
              "        \n",
              "  <svg xmlns=\"http://www.w3.org/2000/svg\" height=\"24px\"viewBox=\"0 0 24 24\"\n",
              "       width=\"24px\">\n",
              "    <path d=\"M0 0h24v24H0V0z\" fill=\"none\"/>\n",
              "    <path d=\"M18.56 5.44l.94 2.06.94-2.06 2.06-.94-2.06-.94-.94-2.06-.94 2.06-2.06.94zm-11 1L8.5 8.5l.94-2.06 2.06-.94-2.06-.94L8.5 2.5l-.94 2.06-2.06.94zm10 10l.94 2.06.94-2.06 2.06-.94-2.06-.94-.94-2.06-.94 2.06-2.06.94z\"/><path d=\"M17.41 7.96l-1.37-1.37c-.4-.4-.92-.59-1.43-.59-.52 0-1.04.2-1.43.59L10.3 9.45l-7.72 7.72c-.78.78-.78 2.05 0 2.83L4 21.41c.39.39.9.59 1.41.59.51 0 1.02-.2 1.41-.59l7.78-7.78 2.81-2.81c.8-.78.8-2.07 0-2.86zM5.41 20L4 18.59l7.72-7.72 1.47 1.35L5.41 20z\"/>\n",
              "  </svg>\n",
              "      </button>\n",
              "      \n",
              "  <style>\n",
              "    .colab-df-container {\n",
              "      display:flex;\n",
              "      flex-wrap:wrap;\n",
              "      gap: 12px;\n",
              "    }\n",
              "\n",
              "    .colab-df-convert {\n",
              "      background-color: #E8F0FE;\n",
              "      border: none;\n",
              "      border-radius: 50%;\n",
              "      cursor: pointer;\n",
              "      display: none;\n",
              "      fill: #1967D2;\n",
              "      height: 32px;\n",
              "      padding: 0 0 0 0;\n",
              "      width: 32px;\n",
              "    }\n",
              "\n",
              "    .colab-df-convert:hover {\n",
              "      background-color: #E2EBFA;\n",
              "      box-shadow: 0px 1px 2px rgba(60, 64, 67, 0.3), 0px 1px 3px 1px rgba(60, 64, 67, 0.15);\n",
              "      fill: #174EA6;\n",
              "    }\n",
              "\n",
              "    [theme=dark] .colab-df-convert {\n",
              "      background-color: #3B4455;\n",
              "      fill: #D2E3FC;\n",
              "    }\n",
              "\n",
              "    [theme=dark] .colab-df-convert:hover {\n",
              "      background-color: #434B5C;\n",
              "      box-shadow: 0px 1px 3px 1px rgba(0, 0, 0, 0.15);\n",
              "      filter: drop-shadow(0px 1px 2px rgba(0, 0, 0, 0.3));\n",
              "      fill: #FFFFFF;\n",
              "    }\n",
              "  </style>\n",
              "\n",
              "      <script>\n",
              "        const buttonEl =\n",
              "          document.querySelector('#df-69d777ac-f189-47c9-b5a3-9743f2569f24 button.colab-df-convert');\n",
              "        buttonEl.style.display =\n",
              "          google.colab.kernel.accessAllowed ? 'block' : 'none';\n",
              "\n",
              "        async function convertToInteractive(key) {\n",
              "          const element = document.querySelector('#df-69d777ac-f189-47c9-b5a3-9743f2569f24');\n",
              "          const dataTable =\n",
              "            await google.colab.kernel.invokeFunction('convertToInteractive',\n",
              "                                                     [key], {});\n",
              "          if (!dataTable) return;\n",
              "\n",
              "          const docLinkHtml = 'Like what you see? Visit the ' +\n",
              "            '<a target=\"_blank\" href=https://colab.research.google.com/notebooks/data_table.ipynb>data table notebook</a>'\n",
              "            + ' to learn more about interactive tables.';\n",
              "          element.innerHTML = '';\n",
              "          dataTable['output_type'] = 'display_data';\n",
              "          await google.colab.output.renderOutput(dataTable, element);\n",
              "          const docLink = document.createElement('div');\n",
              "          docLink.innerHTML = docLinkHtml;\n",
              "          element.appendChild(docLink);\n",
              "        }\n",
              "      </script>\n",
              "    </div>\n",
              "  </div>\n",
              "  "
            ]
          },
          "metadata": {},
          "execution_count": 228
        }
      ]
    },
    {
      "cell_type": "code",
      "source": [
        "#data['Stop_words']=data['Processed_Tweets'].apply(lambda x: len(set(x.split())& stopwrd))"
      ],
      "metadata": {
        "id": "QJvWGojRJCw_"
      },
      "execution_count": null,
      "outputs": []
    },
    {
      "cell_type": "code",
      "source": [
        "from nltk.stem import WordNetLemmatizer\n",
        "from nltk import tokenize\n",
        "from sklearn.feature_extraction.text import TfidfVectorizer\n",
        "import re"
      ],
      "metadata": {
        "id": "3scTl-2VRUaq"
      },
      "execution_count": 229,
      "outputs": []
    },
    {
      "cell_type": "code",
      "source": [
        "import nltk\n",
        "nltk.download('wordnet')"
      ],
      "metadata": {
        "colab": {
          "base_uri": "https://localhost:8080/"
        },
        "id": "Nv7yOr4bSVWd",
        "outputId": "e2064178-3e51-46c0-cf98-d53b04207ea2"
      },
      "execution_count": 230,
      "outputs": [
        {
          "output_type": "stream",
          "name": "stderr",
          "text": [
            "[nltk_data] Downloading package wordnet to /root/nltk_data...\n",
            "[nltk_data]   Package wordnet is already up-to-date!\n"
          ]
        },
        {
          "output_type": "execute_result",
          "data": {
            "text/plain": [
              "True"
            ]
          },
          "metadata": {},
          "execution_count": 230
        }
      ]
    },
    {
      "cell_type": "code",
      "source": [
        "import nltk\n",
        "\n",
        "nltk.download('popular')"
      ],
      "metadata": {
        "colab": {
          "base_uri": "https://localhost:8080/"
        },
        "id": "KzfKV5POTdcz",
        "outputId": "ee39e49f-2836-40c9-af36-e71de23fb74f"
      },
      "execution_count": 231,
      "outputs": [
        {
          "output_type": "stream",
          "name": "stderr",
          "text": [
            "[nltk_data] Downloading collection 'popular'\n",
            "[nltk_data]    | \n",
            "[nltk_data]    | Downloading package cmudict to /root/nltk_data...\n",
            "[nltk_data]    |   Package cmudict is already up-to-date!\n",
            "[nltk_data]    | Downloading package gazetteers to /root/nltk_data...\n",
            "[nltk_data]    |   Package gazetteers is already up-to-date!\n",
            "[nltk_data]    | Downloading package genesis to /root/nltk_data...\n",
            "[nltk_data]    |   Package genesis is already up-to-date!\n",
            "[nltk_data]    | Downloading package gutenberg to /root/nltk_data...\n",
            "[nltk_data]    |   Package gutenberg is already up-to-date!\n",
            "[nltk_data]    | Downloading package inaugural to /root/nltk_data...\n",
            "[nltk_data]    |   Package inaugural is already up-to-date!\n",
            "[nltk_data]    | Downloading package movie_reviews to\n",
            "[nltk_data]    |     /root/nltk_data...\n",
            "[nltk_data]    |   Package movie_reviews is already up-to-date!\n",
            "[nltk_data]    | Downloading package names to /root/nltk_data...\n",
            "[nltk_data]    |   Package names is already up-to-date!\n",
            "[nltk_data]    | Downloading package shakespeare to /root/nltk_data...\n",
            "[nltk_data]    |   Package shakespeare is already up-to-date!\n",
            "[nltk_data]    | Downloading package stopwords to /root/nltk_data...\n",
            "[nltk_data]    |   Package stopwords is already up-to-date!\n",
            "[nltk_data]    | Downloading package treebank to /root/nltk_data...\n",
            "[nltk_data]    |   Package treebank is already up-to-date!\n",
            "[nltk_data]    | Downloading package twitter_samples to\n",
            "[nltk_data]    |     /root/nltk_data...\n",
            "[nltk_data]    |   Package twitter_samples is already up-to-date!\n",
            "[nltk_data]    | Downloading package omw to /root/nltk_data...\n",
            "[nltk_data]    |   Package omw is already up-to-date!\n",
            "[nltk_data]    | Downloading package omw-1.4 to /root/nltk_data...\n",
            "[nltk_data]    |   Package omw-1.4 is already up-to-date!\n",
            "[nltk_data]    | Downloading package wordnet to /root/nltk_data...\n",
            "[nltk_data]    |   Package wordnet is already up-to-date!\n",
            "[nltk_data]    | Downloading package wordnet2021 to /root/nltk_data...\n",
            "[nltk_data]    |   Package wordnet2021 is already up-to-date!\n",
            "[nltk_data]    | Downloading package wordnet31 to /root/nltk_data...\n",
            "[nltk_data]    |   Package wordnet31 is already up-to-date!\n",
            "[nltk_data]    | Downloading package wordnet_ic to /root/nltk_data...\n",
            "[nltk_data]    |   Package wordnet_ic is already up-to-date!\n",
            "[nltk_data]    | Downloading package words to /root/nltk_data...\n",
            "[nltk_data]    |   Package words is already up-to-date!\n",
            "[nltk_data]    | Downloading package maxent_ne_chunker to\n",
            "[nltk_data]    |     /root/nltk_data...\n",
            "[nltk_data]    |   Package maxent_ne_chunker is already up-to-date!\n",
            "[nltk_data]    | Downloading package punkt to /root/nltk_data...\n",
            "[nltk_data]    |   Package punkt is already up-to-date!\n",
            "[nltk_data]    | Downloading package snowball_data to\n",
            "[nltk_data]    |     /root/nltk_data...\n",
            "[nltk_data]    |   Package snowball_data is already up-to-date!\n",
            "[nltk_data]    | Downloading package averaged_perceptron_tagger to\n",
            "[nltk_data]    |     /root/nltk_data...\n",
            "[nltk_data]    |   Package averaged_perceptron_tagger is already up-\n",
            "[nltk_data]    |       to-date!\n",
            "[nltk_data]    | \n",
            "[nltk_data]  Done downloading collection popular\n"
          ]
        },
        {
          "output_type": "execute_result",
          "data": {
            "text/plain": [
              "True"
            ]
          },
          "metadata": {},
          "execution_count": 231
        }
      ]
    },
    {
      "cell_type": "code",
      "source": [
        "data['After_lemma'] = [''.join([WordNetLemmatizer().lemmatize(re.sub('[^A-Za-z]',' ',text)) for text in lis]) for lis in data['tweet_stopwords']]\n",
        "#test['text_lem'] = [''.join([WordNetLemmatizer().lemmatize(re.sub('[^A-Za-z]',' ',text)) for text in lis]) for lis in test['tweet']]"
      ],
      "metadata": {
        "id": "vJlt4NtaRbSN"
      },
      "execution_count": 232,
      "outputs": []
    },
    {
      "cell_type": "code",
      "source": [
        "data.tail(3)\n",
        "# devnagiri word not showing after lemma(6083 row)"
      ],
      "metadata": {
        "colab": {
          "base_uri": "https://localhost:8080/",
          "height": 240
        },
        "id": "ppzAd2VRTlk2",
        "outputId": "057b6f61-46b1-4392-d438-f69ddcc4be1c"
      },
      "execution_count": 114,
      "outputs": [
        {
          "output_type": "execute_result",
          "data": {
            "text/plain": [
              "                                                 Tweets  \\\n",
              "6081  khatna pe to bol diya ek baat bata upar wala t...   \n",
              "6082  chal be bhadwe sanghi.. teri maa ki choot me g...   \n",
              "6083  इश्क़ में थे जब,\\nवादा हमारा,\\nदावा भी हमारा,\\...   \n",
              "\n",
              "                                       Processed_Tweets Bully_Label  \\\n",
              "6081  khatna pe to bol diya ek baat bata upar wala t...           1   \n",
              "6082  chal be bhadwe sanghi teri maa ki choot me gho...           1   \n",
              "6083  इश्क़ में थे जबवादा हमारादावा भी हमाराधोखा उनक...           0   \n",
              "\n",
              "     Sentiment_label Emotion_label  \\\n",
              "6081        negative        others   \n",
              "6082        negative       disgust   \n",
              "6083         neutral       sadness   \n",
              "\n",
              "                                        tweet_stopwords  \\\n",
              "6081    khatna baat nanga paida nanga rahta kapda pehn…   \n",
              "6082  bhadwe sanghi.. maa choot ghode la lund. zinda...   \n",
              "6083  इश्क़ में थे जब, वादा हमारा, दावा भी हमारा, धो...   \n",
              "\n",
              "                                            After_lemma  \n",
              "6081    khatna baat nanga paida nanga rahta kapda pehn   \n",
              "6082  bhadwe sanghi   maa choot ghode la lund  zinda...  \n",
              "6083                                                ...  "
            ],
            "text/html": [
              "\n",
              "  <div id=\"df-f2493fda-ed30-43f0-bc40-91786ed168f9\">\n",
              "    <div class=\"colab-df-container\">\n",
              "      <div>\n",
              "<style scoped>\n",
              "    .dataframe tbody tr th:only-of-type {\n",
              "        vertical-align: middle;\n",
              "    }\n",
              "\n",
              "    .dataframe tbody tr th {\n",
              "        vertical-align: top;\n",
              "    }\n",
              "\n",
              "    .dataframe thead th {\n",
              "        text-align: right;\n",
              "    }\n",
              "</style>\n",
              "<table border=\"1\" class=\"dataframe\">\n",
              "  <thead>\n",
              "    <tr style=\"text-align: right;\">\n",
              "      <th></th>\n",
              "      <th>Tweets</th>\n",
              "      <th>Processed_Tweets</th>\n",
              "      <th>Bully_Label</th>\n",
              "      <th>Sentiment_label</th>\n",
              "      <th>Emotion_label</th>\n",
              "      <th>tweet_stopwords</th>\n",
              "      <th>After_lemma</th>\n",
              "    </tr>\n",
              "  </thead>\n",
              "  <tbody>\n",
              "    <tr>\n",
              "      <th>6081</th>\n",
              "      <td>khatna pe to bol diya ek baat bata upar wala t...</td>\n",
              "      <td>khatna pe to bol diya ek baat bata upar wala t...</td>\n",
              "      <td>1</td>\n",
              "      <td>negative</td>\n",
              "      <td>others</td>\n",
              "      <td>khatna baat nanga paida nanga rahta kapda pehn…</td>\n",
              "      <td>khatna baat nanga paida nanga rahta kapda pehn</td>\n",
              "    </tr>\n",
              "    <tr>\n",
              "      <th>6082</th>\n",
              "      <td>chal be bhadwe sanghi.. teri maa ki choot me g...</td>\n",
              "      <td>chal be bhadwe sanghi teri maa ki choot me gho...</td>\n",
              "      <td>1</td>\n",
              "      <td>negative</td>\n",
              "      <td>disgust</td>\n",
              "      <td>bhadwe sanghi.. maa choot ghode la lund. zinda...</td>\n",
              "      <td>bhadwe sanghi   maa choot ghode la lund  zinda...</td>\n",
              "    </tr>\n",
              "    <tr>\n",
              "      <th>6083</th>\n",
              "      <td>इश्क़ में थे जब,\\nवादा हमारा,\\nदावा भी हमारा,\\...</td>\n",
              "      <td>इश्क़ में थे जबवादा हमारादावा भी हमाराधोखा उनक...</td>\n",
              "      <td>0</td>\n",
              "      <td>neutral</td>\n",
              "      <td>sadness</td>\n",
              "      <td>इश्क़ में थे जब, वादा हमारा, दावा भी हमारा, धो...</td>\n",
              "      <td>...</td>\n",
              "    </tr>\n",
              "  </tbody>\n",
              "</table>\n",
              "</div>\n",
              "      <button class=\"colab-df-convert\" onclick=\"convertToInteractive('df-f2493fda-ed30-43f0-bc40-91786ed168f9')\"\n",
              "              title=\"Convert this dataframe to an interactive table.\"\n",
              "              style=\"display:none;\">\n",
              "        \n",
              "  <svg xmlns=\"http://www.w3.org/2000/svg\" height=\"24px\"viewBox=\"0 0 24 24\"\n",
              "       width=\"24px\">\n",
              "    <path d=\"M0 0h24v24H0V0z\" fill=\"none\"/>\n",
              "    <path d=\"M18.56 5.44l.94 2.06.94-2.06 2.06-.94-2.06-.94-.94-2.06-.94 2.06-2.06.94zm-11 1L8.5 8.5l.94-2.06 2.06-.94-2.06-.94L8.5 2.5l-.94 2.06-2.06.94zm10 10l.94 2.06.94-2.06 2.06-.94-2.06-.94-.94-2.06-.94 2.06-2.06.94z\"/><path d=\"M17.41 7.96l-1.37-1.37c-.4-.4-.92-.59-1.43-.59-.52 0-1.04.2-1.43.59L10.3 9.45l-7.72 7.72c-.78.78-.78 2.05 0 2.83L4 21.41c.39.39.9.59 1.41.59.51 0 1.02-.2 1.41-.59l7.78-7.78 2.81-2.81c.8-.78.8-2.07 0-2.86zM5.41 20L4 18.59l7.72-7.72 1.47 1.35L5.41 20z\"/>\n",
              "  </svg>\n",
              "      </button>\n",
              "      \n",
              "  <style>\n",
              "    .colab-df-container {\n",
              "      display:flex;\n",
              "      flex-wrap:wrap;\n",
              "      gap: 12px;\n",
              "    }\n",
              "\n",
              "    .colab-df-convert {\n",
              "      background-color: #E8F0FE;\n",
              "      border: none;\n",
              "      border-radius: 50%;\n",
              "      cursor: pointer;\n",
              "      display: none;\n",
              "      fill: #1967D2;\n",
              "      height: 32px;\n",
              "      padding: 0 0 0 0;\n",
              "      width: 32px;\n",
              "    }\n",
              "\n",
              "    .colab-df-convert:hover {\n",
              "      background-color: #E2EBFA;\n",
              "      box-shadow: 0px 1px 2px rgba(60, 64, 67, 0.3), 0px 1px 3px 1px rgba(60, 64, 67, 0.15);\n",
              "      fill: #174EA6;\n",
              "    }\n",
              "\n",
              "    [theme=dark] .colab-df-convert {\n",
              "      background-color: #3B4455;\n",
              "      fill: #D2E3FC;\n",
              "    }\n",
              "\n",
              "    [theme=dark] .colab-df-convert:hover {\n",
              "      background-color: #434B5C;\n",
              "      box-shadow: 0px 1px 3px 1px rgba(0, 0, 0, 0.15);\n",
              "      filter: drop-shadow(0px 1px 2px rgba(0, 0, 0, 0.3));\n",
              "      fill: #FFFFFF;\n",
              "    }\n",
              "  </style>\n",
              "\n",
              "      <script>\n",
              "        const buttonEl =\n",
              "          document.querySelector('#df-f2493fda-ed30-43f0-bc40-91786ed168f9 button.colab-df-convert');\n",
              "        buttonEl.style.display =\n",
              "          google.colab.kernel.accessAllowed ? 'block' : 'none';\n",
              "\n",
              "        async function convertToInteractive(key) {\n",
              "          const element = document.querySelector('#df-f2493fda-ed30-43f0-bc40-91786ed168f9');\n",
              "          const dataTable =\n",
              "            await google.colab.kernel.invokeFunction('convertToInteractive',\n",
              "                                                     [key], {});\n",
              "          if (!dataTable) return;\n",
              "\n",
              "          const docLinkHtml = 'Like what you see? Visit the ' +\n",
              "            '<a target=\"_blank\" href=https://colab.research.google.com/notebooks/data_table.ipynb>data table notebook</a>'\n",
              "            + ' to learn more about interactive tables.';\n",
              "          element.innerHTML = '';\n",
              "          dataTable['output_type'] = 'display_data';\n",
              "          await google.colab.output.renderOutput(dataTable, element);\n",
              "          const docLink = document.createElement('div');\n",
              "          docLink.innerHTML = docLinkHtml;\n",
              "          element.appendChild(docLink);\n",
              "        }\n",
              "      </script>\n",
              "    </div>\n",
              "  </div>\n",
              "  "
            ]
          },
          "metadata": {},
          "execution_count": 114
        }
      ]
    },
    {
      "cell_type": "code",
      "source": [
        "#ab = data['After_lemma']\n",
        "#print(ab.loc[[6083]])"
      ],
      "metadata": {
        "colab": {
          "base_uri": "https://localhost:8080/"
        },
        "id": "KxXsRlb-WlPO",
        "outputId": "9c77315e-9507-4557-a66a-ab486838cbf8"
      },
      "execution_count": 30,
      "outputs": [
        {
          "output_type": "stream",
          "name": "stdout",
          "text": [
            "6083                                                  ...\n",
            "Name: After_lemma, dtype: object\n"
          ]
        }
      ]
    },
    {
      "cell_type": "code",
      "source": [
        "#data.drop(6083)# this is the only row which is different, so I am dropping this"
      ],
      "metadata": {
        "id": "PGtaiZCgOJ4Z"
      },
      "execution_count": null,
      "outputs": []
    },
    {
      "cell_type": "code",
      "source": [],
      "metadata": {
        "id": "vFUrA5y3YZZh"
      },
      "execution_count": 67,
      "outputs": []
    },
    {
      "cell_type": "code",
      "source": [
        "from nltk.stem import PorterStemmer\n",
        "from nltk.tokenize import sent_tokenize, word_tokenize\n",
        "import nltk\n",
        "nltk.download('punkt')\n",
        "\n",
        "ps = PorterStemmer()"
      ],
      "metadata": {
        "id": "xbXX2u_YTlZk",
        "colab": {
          "base_uri": "https://localhost:8080/"
        },
        "outputId": "00ee5938-7774-4113-a6ac-8c1710f3a6ad"
      },
      "execution_count": 189,
      "outputs": [
        {
          "output_type": "stream",
          "name": "stderr",
          "text": [
            "[nltk_data] Downloading package punkt to /root/nltk_data...\n",
            "[nltk_data]   Package punkt is already up-to-date!\n"
          ]
        }
      ]
    },
    {
      "cell_type": "code",
      "source": [
        "#pip install inltk"
      ],
      "metadata": {
        "id": "nAqDUmRwc1Ap"
      },
      "execution_count": null,
      "outputs": []
    },
    {
      "cell_type": "code",
      "source": [
        "#from inltk.inltk import setup\n",
        "#setup('hi')"
      ],
      "metadata": {
        "id": "6oEI006tdLzM"
      },
      "execution_count": null,
      "outputs": []
    },
    {
      "cell_type": "code",
      "source": [
        "#setup('hi')"
      ],
      "metadata": {
        "id": "NMe4dA3NdlPt"
      },
      "execution_count": null,
      "outputs": []
    },
    {
      "cell_type": "code",
      "source": [
        "#5. POS Tagging \n",
        "\n",
        "from collections import Counter\n",
        "import nltk\n",
        "nltk.download('averaged_perceptron_tagger')"
      ],
      "metadata": {
        "id": "8H7sKxZCX7Lq",
        "colab": {
          "base_uri": "https://localhost:8080/"
        },
        "outputId": "db2285f5-4caf-4fd3-d8e6-ed04a68d391d"
      },
      "execution_count": 190,
      "outputs": [
        {
          "output_type": "stream",
          "name": "stderr",
          "text": [
            "[nltk_data] Downloading package averaged_perceptron_tagger to\n",
            "[nltk_data]     /root/nltk_data...\n",
            "[nltk_data]   Package averaged_perceptron_tagger is already up-to-\n",
            "[nltk_data]       date!\n"
          ]
        },
        {
          "output_type": "execute_result",
          "data": {
            "text/plain": [
              "True"
            ]
          },
          "metadata": {},
          "execution_count": 190
        }
      ]
    },
    {
      "cell_type": "code",
      "source": [
        "data.head(2)"
      ],
      "metadata": {
        "colab": {
          "base_uri": "https://localhost:8080/",
          "height": 191
        },
        "id": "pMQk7nUqJsrg",
        "outputId": "f448deab-4358-4736-f9fe-c61f7ea4b353"
      },
      "execution_count": 233,
      "outputs": [
        {
          "output_type": "execute_result",
          "data": {
            "text/plain": [
              "                                              Tweets  \\\n",
              "0      teri maa ki chut me shivsena ka lund gaya kya   \n",
              "1  han muje pata hai teri maa ka ke gufa me jati thi   \n",
              "\n",
              "                                    Processed_Tweets Bully_Label  \\\n",
              "0      teri maa ki chut me shivsena ka lund gaya kya           1   \n",
              "1  han muje pata hai teri maa ka ke gufa me jati thi           1   \n",
              "\n",
              "  Sentiment_label Emotion_label         tweet_stopwords  \\\n",
              "0        negative         anger  maa chut shivsena lund   \n",
              "1        negative        others      muje maa gufa jati   \n",
              "\n",
              "              After_lemma  \n",
              "0  maa chut shivsena lund  \n",
              "1      muje maa gufa jati  "
            ],
            "text/html": [
              "\n",
              "  <div id=\"df-88a4fc6e-3fa9-460f-a9fc-4e90091622f7\">\n",
              "    <div class=\"colab-df-container\">\n",
              "      <div>\n",
              "<style scoped>\n",
              "    .dataframe tbody tr th:only-of-type {\n",
              "        vertical-align: middle;\n",
              "    }\n",
              "\n",
              "    .dataframe tbody tr th {\n",
              "        vertical-align: top;\n",
              "    }\n",
              "\n",
              "    .dataframe thead th {\n",
              "        text-align: right;\n",
              "    }\n",
              "</style>\n",
              "<table border=\"1\" class=\"dataframe\">\n",
              "  <thead>\n",
              "    <tr style=\"text-align: right;\">\n",
              "      <th></th>\n",
              "      <th>Tweets</th>\n",
              "      <th>Processed_Tweets</th>\n",
              "      <th>Bully_Label</th>\n",
              "      <th>Sentiment_label</th>\n",
              "      <th>Emotion_label</th>\n",
              "      <th>tweet_stopwords</th>\n",
              "      <th>After_lemma</th>\n",
              "    </tr>\n",
              "  </thead>\n",
              "  <tbody>\n",
              "    <tr>\n",
              "      <th>0</th>\n",
              "      <td>teri maa ki chut me shivsena ka lund gaya kya</td>\n",
              "      <td>teri maa ki chut me shivsena ka lund gaya kya</td>\n",
              "      <td>1</td>\n",
              "      <td>negative</td>\n",
              "      <td>anger</td>\n",
              "      <td>maa chut shivsena lund</td>\n",
              "      <td>maa chut shivsena lund</td>\n",
              "    </tr>\n",
              "    <tr>\n",
              "      <th>1</th>\n",
              "      <td>han muje pata hai teri maa ka ke gufa me jati thi</td>\n",
              "      <td>han muje pata hai teri maa ka ke gufa me jati thi</td>\n",
              "      <td>1</td>\n",
              "      <td>negative</td>\n",
              "      <td>others</td>\n",
              "      <td>muje maa gufa jati</td>\n",
              "      <td>muje maa gufa jati</td>\n",
              "    </tr>\n",
              "  </tbody>\n",
              "</table>\n",
              "</div>\n",
              "      <button class=\"colab-df-convert\" onclick=\"convertToInteractive('df-88a4fc6e-3fa9-460f-a9fc-4e90091622f7')\"\n",
              "              title=\"Convert this dataframe to an interactive table.\"\n",
              "              style=\"display:none;\">\n",
              "        \n",
              "  <svg xmlns=\"http://www.w3.org/2000/svg\" height=\"24px\"viewBox=\"0 0 24 24\"\n",
              "       width=\"24px\">\n",
              "    <path d=\"M0 0h24v24H0V0z\" fill=\"none\"/>\n",
              "    <path d=\"M18.56 5.44l.94 2.06.94-2.06 2.06-.94-2.06-.94-.94-2.06-.94 2.06-2.06.94zm-11 1L8.5 8.5l.94-2.06 2.06-.94-2.06-.94L8.5 2.5l-.94 2.06-2.06.94zm10 10l.94 2.06.94-2.06 2.06-.94-2.06-.94-.94-2.06-.94 2.06-2.06.94z\"/><path d=\"M17.41 7.96l-1.37-1.37c-.4-.4-.92-.59-1.43-.59-.52 0-1.04.2-1.43.59L10.3 9.45l-7.72 7.72c-.78.78-.78 2.05 0 2.83L4 21.41c.39.39.9.59 1.41.59.51 0 1.02-.2 1.41-.59l7.78-7.78 2.81-2.81c.8-.78.8-2.07 0-2.86zM5.41 20L4 18.59l7.72-7.72 1.47 1.35L5.41 20z\"/>\n",
              "  </svg>\n",
              "      </button>\n",
              "      \n",
              "  <style>\n",
              "    .colab-df-container {\n",
              "      display:flex;\n",
              "      flex-wrap:wrap;\n",
              "      gap: 12px;\n",
              "    }\n",
              "\n",
              "    .colab-df-convert {\n",
              "      background-color: #E8F0FE;\n",
              "      border: none;\n",
              "      border-radius: 50%;\n",
              "      cursor: pointer;\n",
              "      display: none;\n",
              "      fill: #1967D2;\n",
              "      height: 32px;\n",
              "      padding: 0 0 0 0;\n",
              "      width: 32px;\n",
              "    }\n",
              "\n",
              "    .colab-df-convert:hover {\n",
              "      background-color: #E2EBFA;\n",
              "      box-shadow: 0px 1px 2px rgba(60, 64, 67, 0.3), 0px 1px 3px 1px rgba(60, 64, 67, 0.15);\n",
              "      fill: #174EA6;\n",
              "    }\n",
              "\n",
              "    [theme=dark] .colab-df-convert {\n",
              "      background-color: #3B4455;\n",
              "      fill: #D2E3FC;\n",
              "    }\n",
              "\n",
              "    [theme=dark] .colab-df-convert:hover {\n",
              "      background-color: #434B5C;\n",
              "      box-shadow: 0px 1px 3px 1px rgba(0, 0, 0, 0.15);\n",
              "      filter: drop-shadow(0px 1px 2px rgba(0, 0, 0, 0.3));\n",
              "      fill: #FFFFFF;\n",
              "    }\n",
              "  </style>\n",
              "\n",
              "      <script>\n",
              "        const buttonEl =\n",
              "          document.querySelector('#df-88a4fc6e-3fa9-460f-a9fc-4e90091622f7 button.colab-df-convert');\n",
              "        buttonEl.style.display =\n",
              "          google.colab.kernel.accessAllowed ? 'block' : 'none';\n",
              "\n",
              "        async function convertToInteractive(key) {\n",
              "          const element = document.querySelector('#df-88a4fc6e-3fa9-460f-a9fc-4e90091622f7');\n",
              "          const dataTable =\n",
              "            await google.colab.kernel.invokeFunction('convertToInteractive',\n",
              "                                                     [key], {});\n",
              "          if (!dataTable) return;\n",
              "\n",
              "          const docLinkHtml = 'Like what you see? Visit the ' +\n",
              "            '<a target=\"_blank\" href=https://colab.research.google.com/notebooks/data_table.ipynb>data table notebook</a>'\n",
              "            + ' to learn more about interactive tables.';\n",
              "          element.innerHTML = '';\n",
              "          dataTable['output_type'] = 'display_data';\n",
              "          await google.colab.output.renderOutput(dataTable, element);\n",
              "          const docLink = document.createElement('div');\n",
              "          docLink.innerHTML = docLinkHtml;\n",
              "          element.appendChild(docLink);\n",
              "        }\n",
              "      </script>\n",
              "    </div>\n",
              "  </div>\n",
              "  "
            ]
          },
          "metadata": {},
          "execution_count": 233
        }
      ]
    },
    {
      "cell_type": "markdown",
      "source": [
        "Save this processed data as CSV file for  further use # question 7"
      ],
      "metadata": {
        "id": "xkJ_y5e8K9oX"
      }
    },
    {
      "cell_type": "code",
      "source": [
        "data.to_csv('/content/drive/My Drive/Colab Notebooks/NLP Assignment/Bully_csv_file.csv')"
      ],
      "metadata": {
        "id": "B_jOVkXRJqPo"
      },
      "execution_count": 235,
      "outputs": []
    },
    {
      "cell_type": "markdown",
      "source": [
        "# Question -6 **Find length of text, punctuation, stop word**"
      ],
      "metadata": {
        "id": "qiTmSG86lBDh"
      }
    },
    {
      "cell_type": "code",
      "source": [
        "data['Processed_Tweets_len']  = data['Processed_Tweets'].str.len()\n",
        "data.head(3)\n",
        "# length of the text"
      ],
      "metadata": {
        "colab": {
          "base_uri": "https://localhost:8080/",
          "height": 292
        },
        "id": "GvUssGivk_6K",
        "outputId": "f81a6c77-e735-4e02-f7a8-df62f17c8582"
      },
      "execution_count": 236,
      "outputs": [
        {
          "output_type": "execute_result",
          "data": {
            "text/plain": [
              "                                              Tweets  \\\n",
              "0      teri maa ki chut me shivsena ka lund gaya kya   \n",
              "1  han muje pata hai teri maa ka ke gufa me jati thi   \n",
              "2  tum kaha se aa gye bhai tumlog toh saree pehen...   \n",
              "\n",
              "                                    Processed_Tweets Bully_Label  \\\n",
              "0      teri maa ki chut me shivsena ka lund gaya kya           1   \n",
              "1  han muje pata hai teri maa ka ke gufa me jati thi           1   \n",
              "2  tum kaha se aa gye bhai tumlog toh saree pehen...           0   \n",
              "\n",
              "  Sentiment_label Emotion_label  \\\n",
              "0        negative         anger   \n",
              "1        negative        others   \n",
              "2         neutral        others   \n",
              "\n",
              "                                     tweet_stopwords  \\\n",
              "0                             maa chut shivsena lund   \n",
              "1                                 muje maa gufa jati   \n",
              "2  aa gye tumlog saree pehen chup baithe aahe cho...   \n",
              "\n",
              "                                         After_lemma  Processed_Tweets_len  \n",
              "0                             maa chut shivsena lund                    45  \n",
              "1                                 muje maa gufa jati                    49  \n",
              "2  aa gye tumlog saree pehen chup baithe aahe cho...                   100  "
            ],
            "text/html": [
              "\n",
              "  <div id=\"df-8830c6b2-b7c7-4948-abaf-ce679fa9a443\">\n",
              "    <div class=\"colab-df-container\">\n",
              "      <div>\n",
              "<style scoped>\n",
              "    .dataframe tbody tr th:only-of-type {\n",
              "        vertical-align: middle;\n",
              "    }\n",
              "\n",
              "    .dataframe tbody tr th {\n",
              "        vertical-align: top;\n",
              "    }\n",
              "\n",
              "    .dataframe thead th {\n",
              "        text-align: right;\n",
              "    }\n",
              "</style>\n",
              "<table border=\"1\" class=\"dataframe\">\n",
              "  <thead>\n",
              "    <tr style=\"text-align: right;\">\n",
              "      <th></th>\n",
              "      <th>Tweets</th>\n",
              "      <th>Processed_Tweets</th>\n",
              "      <th>Bully_Label</th>\n",
              "      <th>Sentiment_label</th>\n",
              "      <th>Emotion_label</th>\n",
              "      <th>tweet_stopwords</th>\n",
              "      <th>After_lemma</th>\n",
              "      <th>Processed_Tweets_len</th>\n",
              "    </tr>\n",
              "  </thead>\n",
              "  <tbody>\n",
              "    <tr>\n",
              "      <th>0</th>\n",
              "      <td>teri maa ki chut me shivsena ka lund gaya kya</td>\n",
              "      <td>teri maa ki chut me shivsena ka lund gaya kya</td>\n",
              "      <td>1</td>\n",
              "      <td>negative</td>\n",
              "      <td>anger</td>\n",
              "      <td>maa chut shivsena lund</td>\n",
              "      <td>maa chut shivsena lund</td>\n",
              "      <td>45</td>\n",
              "    </tr>\n",
              "    <tr>\n",
              "      <th>1</th>\n",
              "      <td>han muje pata hai teri maa ka ke gufa me jati thi</td>\n",
              "      <td>han muje pata hai teri maa ka ke gufa me jati thi</td>\n",
              "      <td>1</td>\n",
              "      <td>negative</td>\n",
              "      <td>others</td>\n",
              "      <td>muje maa gufa jati</td>\n",
              "      <td>muje maa gufa jati</td>\n",
              "      <td>49</td>\n",
              "    </tr>\n",
              "    <tr>\n",
              "      <th>2</th>\n",
              "      <td>tum kaha se aa gye bhai tumlog toh saree pehen...</td>\n",
              "      <td>tum kaha se aa gye bhai tumlog toh saree pehen...</td>\n",
              "      <td>0</td>\n",
              "      <td>neutral</td>\n",
              "      <td>others</td>\n",
              "      <td>aa gye tumlog saree pehen chup baithe aahe cho...</td>\n",
              "      <td>aa gye tumlog saree pehen chup baithe aahe cho...</td>\n",
              "      <td>100</td>\n",
              "    </tr>\n",
              "  </tbody>\n",
              "</table>\n",
              "</div>\n",
              "      <button class=\"colab-df-convert\" onclick=\"convertToInteractive('df-8830c6b2-b7c7-4948-abaf-ce679fa9a443')\"\n",
              "              title=\"Convert this dataframe to an interactive table.\"\n",
              "              style=\"display:none;\">\n",
              "        \n",
              "  <svg xmlns=\"http://www.w3.org/2000/svg\" height=\"24px\"viewBox=\"0 0 24 24\"\n",
              "       width=\"24px\">\n",
              "    <path d=\"M0 0h24v24H0V0z\" fill=\"none\"/>\n",
              "    <path d=\"M18.56 5.44l.94 2.06.94-2.06 2.06-.94-2.06-.94-.94-2.06-.94 2.06-2.06.94zm-11 1L8.5 8.5l.94-2.06 2.06-.94-2.06-.94L8.5 2.5l-.94 2.06-2.06.94zm10 10l.94 2.06.94-2.06 2.06-.94-2.06-.94-.94-2.06-.94 2.06-2.06.94z\"/><path d=\"M17.41 7.96l-1.37-1.37c-.4-.4-.92-.59-1.43-.59-.52 0-1.04.2-1.43.59L10.3 9.45l-7.72 7.72c-.78.78-.78 2.05 0 2.83L4 21.41c.39.39.9.59 1.41.59.51 0 1.02-.2 1.41-.59l7.78-7.78 2.81-2.81c.8-.78.8-2.07 0-2.86zM5.41 20L4 18.59l7.72-7.72 1.47 1.35L5.41 20z\"/>\n",
              "  </svg>\n",
              "      </button>\n",
              "      \n",
              "  <style>\n",
              "    .colab-df-container {\n",
              "      display:flex;\n",
              "      flex-wrap:wrap;\n",
              "      gap: 12px;\n",
              "    }\n",
              "\n",
              "    .colab-df-convert {\n",
              "      background-color: #E8F0FE;\n",
              "      border: none;\n",
              "      border-radius: 50%;\n",
              "      cursor: pointer;\n",
              "      display: none;\n",
              "      fill: #1967D2;\n",
              "      height: 32px;\n",
              "      padding: 0 0 0 0;\n",
              "      width: 32px;\n",
              "    }\n",
              "\n",
              "    .colab-df-convert:hover {\n",
              "      background-color: #E2EBFA;\n",
              "      box-shadow: 0px 1px 2px rgba(60, 64, 67, 0.3), 0px 1px 3px 1px rgba(60, 64, 67, 0.15);\n",
              "      fill: #174EA6;\n",
              "    }\n",
              "\n",
              "    [theme=dark] .colab-df-convert {\n",
              "      background-color: #3B4455;\n",
              "      fill: #D2E3FC;\n",
              "    }\n",
              "\n",
              "    [theme=dark] .colab-df-convert:hover {\n",
              "      background-color: #434B5C;\n",
              "      box-shadow: 0px 1px 3px 1px rgba(0, 0, 0, 0.15);\n",
              "      filter: drop-shadow(0px 1px 2px rgba(0, 0, 0, 0.3));\n",
              "      fill: #FFFFFF;\n",
              "    }\n",
              "  </style>\n",
              "\n",
              "      <script>\n",
              "        const buttonEl =\n",
              "          document.querySelector('#df-8830c6b2-b7c7-4948-abaf-ce679fa9a443 button.colab-df-convert');\n",
              "        buttonEl.style.display =\n",
              "          google.colab.kernel.accessAllowed ? 'block' : 'none';\n",
              "\n",
              "        async function convertToInteractive(key) {\n",
              "          const element = document.querySelector('#df-8830c6b2-b7c7-4948-abaf-ce679fa9a443');\n",
              "          const dataTable =\n",
              "            await google.colab.kernel.invokeFunction('convertToInteractive',\n",
              "                                                     [key], {});\n",
              "          if (!dataTable) return;\n",
              "\n",
              "          const docLinkHtml = 'Like what you see? Visit the ' +\n",
              "            '<a target=\"_blank\" href=https://colab.research.google.com/notebooks/data_table.ipynb>data table notebook</a>'\n",
              "            + ' to learn more about interactive tables.';\n",
              "          element.innerHTML = '';\n",
              "          dataTable['output_type'] = 'display_data';\n",
              "          await google.colab.output.renderOutput(dataTable, element);\n",
              "          const docLink = document.createElement('div');\n",
              "          docLink.innerHTML = docLinkHtml;\n",
              "          element.appendChild(docLink);\n",
              "        }\n",
              "      </script>\n",
              "    </div>\n",
              "  </div>\n",
              "  "
            ]
          },
          "metadata": {},
          "execution_count": 236
        }
      ]
    },
    {
      "cell_type": "code",
      "source": [
        "data['tweet_stopwords_len']  = data['tweet_stopwords'].str.len()\n",
        "data.head(4)\n",
        "# length of stop word"
      ],
      "metadata": {
        "colab": {
          "base_uri": "https://localhost:8080/",
          "height": 531
        },
        "id": "bI86IJN73mmZ",
        "outputId": "a2211e2c-036d-458e-d69a-21e248e21d73"
      },
      "execution_count": 237,
      "outputs": [
        {
          "output_type": "execute_result",
          "data": {
            "text/plain": [
              "                                              Tweets  \\\n",
              "0      teri maa ki chut me shivsena ka lund gaya kya   \n",
              "1  han muje pata hai teri maa ka ke gufa me jati thi   \n",
              "2  tum kaha se aa gye bhai tumlog toh saree pehen...   \n",
              "3  koi moti🙊kisi ki besti😁 baisn ka or channey ki...   \n",
              "\n",
              "                                    Processed_Tweets Bully_Label  \\\n",
              "0      teri maa ki chut me shivsena ka lund gaya kya           1   \n",
              "1  han muje pata hai teri maa ka ke gufa me jati thi           1   \n",
              "2  tum kaha se aa gye bhai tumlog toh saree pehen...           0   \n",
              "3  koi motikisi ki besti baisn ka or channey ki d...           1   \n",
              "\n",
              "  Sentiment_label Emotion_label  \\\n",
              "0        negative         anger   \n",
              "1        negative        others   \n",
              "2         neutral        others   \n",
              "3        negative       disgust   \n",
              "\n",
              "                                     tweet_stopwords  \\\n",
              "0                             maa chut shivsena lund   \n",
              "1                                 muje maa gufa jati   \n",
              "2  aa gye tumlog saree pehen chup baithe aahe cho...   \n",
              "3  moti🙊kisi besti😁 baisn channey dal halwa kha t...   \n",
              "\n",
              "                                         After_lemma  Processed_Tweets_len  \\\n",
              "0                             maa chut shivsena lund                    45   \n",
              "1                                 muje maa gufa jati                    49   \n",
              "2  aa gye tumlog saree pehen chup baithe aahe cho...                   100   \n",
              "3  moti kisi besti  baisn channey dal halwa kha t...                   192   \n",
              "\n",
              "   tweet_stopwords_len  \n",
              "0                   22  \n",
              "1                   18  \n",
              "2                   80  \n",
              "3                  237  "
            ],
            "text/html": [
              "\n",
              "  <div id=\"df-1423e9c2-e438-442e-a4e3-707d7bc1d29a\">\n",
              "    <div class=\"colab-df-container\">\n",
              "      <div>\n",
              "<style scoped>\n",
              "    .dataframe tbody tr th:only-of-type {\n",
              "        vertical-align: middle;\n",
              "    }\n",
              "\n",
              "    .dataframe tbody tr th {\n",
              "        vertical-align: top;\n",
              "    }\n",
              "\n",
              "    .dataframe thead th {\n",
              "        text-align: right;\n",
              "    }\n",
              "</style>\n",
              "<table border=\"1\" class=\"dataframe\">\n",
              "  <thead>\n",
              "    <tr style=\"text-align: right;\">\n",
              "      <th></th>\n",
              "      <th>Tweets</th>\n",
              "      <th>Processed_Tweets</th>\n",
              "      <th>Bully_Label</th>\n",
              "      <th>Sentiment_label</th>\n",
              "      <th>Emotion_label</th>\n",
              "      <th>tweet_stopwords</th>\n",
              "      <th>After_lemma</th>\n",
              "      <th>Processed_Tweets_len</th>\n",
              "      <th>tweet_stopwords_len</th>\n",
              "    </tr>\n",
              "  </thead>\n",
              "  <tbody>\n",
              "    <tr>\n",
              "      <th>0</th>\n",
              "      <td>teri maa ki chut me shivsena ka lund gaya kya</td>\n",
              "      <td>teri maa ki chut me shivsena ka lund gaya kya</td>\n",
              "      <td>1</td>\n",
              "      <td>negative</td>\n",
              "      <td>anger</td>\n",
              "      <td>maa chut shivsena lund</td>\n",
              "      <td>maa chut shivsena lund</td>\n",
              "      <td>45</td>\n",
              "      <td>22</td>\n",
              "    </tr>\n",
              "    <tr>\n",
              "      <th>1</th>\n",
              "      <td>han muje pata hai teri maa ka ke gufa me jati thi</td>\n",
              "      <td>han muje pata hai teri maa ka ke gufa me jati thi</td>\n",
              "      <td>1</td>\n",
              "      <td>negative</td>\n",
              "      <td>others</td>\n",
              "      <td>muje maa gufa jati</td>\n",
              "      <td>muje maa gufa jati</td>\n",
              "      <td>49</td>\n",
              "      <td>18</td>\n",
              "    </tr>\n",
              "    <tr>\n",
              "      <th>2</th>\n",
              "      <td>tum kaha se aa gye bhai tumlog toh saree pehen...</td>\n",
              "      <td>tum kaha se aa gye bhai tumlog toh saree pehen...</td>\n",
              "      <td>0</td>\n",
              "      <td>neutral</td>\n",
              "      <td>others</td>\n",
              "      <td>aa gye tumlog saree pehen chup baithe aahe cho...</td>\n",
              "      <td>aa gye tumlog saree pehen chup baithe aahe cho...</td>\n",
              "      <td>100</td>\n",
              "      <td>80</td>\n",
              "    </tr>\n",
              "    <tr>\n",
              "      <th>3</th>\n",
              "      <td>koi moti🙊kisi ki besti😁 baisn ka or channey ki...</td>\n",
              "      <td>koi motikisi ki besti baisn ka or channey ki d...</td>\n",
              "      <td>1</td>\n",
              "      <td>negative</td>\n",
              "      <td>disgust</td>\n",
              "      <td>moti🙊kisi besti😁 baisn channey dal halwa kha t...</td>\n",
              "      <td>moti kisi besti  baisn channey dal halwa kha t...</td>\n",
              "      <td>192</td>\n",
              "      <td>237</td>\n",
              "    </tr>\n",
              "  </tbody>\n",
              "</table>\n",
              "</div>\n",
              "      <button class=\"colab-df-convert\" onclick=\"convertToInteractive('df-1423e9c2-e438-442e-a4e3-707d7bc1d29a')\"\n",
              "              title=\"Convert this dataframe to an interactive table.\"\n",
              "              style=\"display:none;\">\n",
              "        \n",
              "  <svg xmlns=\"http://www.w3.org/2000/svg\" height=\"24px\"viewBox=\"0 0 24 24\"\n",
              "       width=\"24px\">\n",
              "    <path d=\"M0 0h24v24H0V0z\" fill=\"none\"/>\n",
              "    <path d=\"M18.56 5.44l.94 2.06.94-2.06 2.06-.94-2.06-.94-.94-2.06-.94 2.06-2.06.94zm-11 1L8.5 8.5l.94-2.06 2.06-.94-2.06-.94L8.5 2.5l-.94 2.06-2.06.94zm10 10l.94 2.06.94-2.06 2.06-.94-2.06-.94-.94-2.06-.94 2.06-2.06.94z\"/><path d=\"M17.41 7.96l-1.37-1.37c-.4-.4-.92-.59-1.43-.59-.52 0-1.04.2-1.43.59L10.3 9.45l-7.72 7.72c-.78.78-.78 2.05 0 2.83L4 21.41c.39.39.9.59 1.41.59.51 0 1.02-.2 1.41-.59l7.78-7.78 2.81-2.81c.8-.78.8-2.07 0-2.86zM5.41 20L4 18.59l7.72-7.72 1.47 1.35L5.41 20z\"/>\n",
              "  </svg>\n",
              "      </button>\n",
              "      \n",
              "  <style>\n",
              "    .colab-df-container {\n",
              "      display:flex;\n",
              "      flex-wrap:wrap;\n",
              "      gap: 12px;\n",
              "    }\n",
              "\n",
              "    .colab-df-convert {\n",
              "      background-color: #E8F0FE;\n",
              "      border: none;\n",
              "      border-radius: 50%;\n",
              "      cursor: pointer;\n",
              "      display: none;\n",
              "      fill: #1967D2;\n",
              "      height: 32px;\n",
              "      padding: 0 0 0 0;\n",
              "      width: 32px;\n",
              "    }\n",
              "\n",
              "    .colab-df-convert:hover {\n",
              "      background-color: #E2EBFA;\n",
              "      box-shadow: 0px 1px 2px rgba(60, 64, 67, 0.3), 0px 1px 3px 1px rgba(60, 64, 67, 0.15);\n",
              "      fill: #174EA6;\n",
              "    }\n",
              "\n",
              "    [theme=dark] .colab-df-convert {\n",
              "      background-color: #3B4455;\n",
              "      fill: #D2E3FC;\n",
              "    }\n",
              "\n",
              "    [theme=dark] .colab-df-convert:hover {\n",
              "      background-color: #434B5C;\n",
              "      box-shadow: 0px 1px 3px 1px rgba(0, 0, 0, 0.15);\n",
              "      filter: drop-shadow(0px 1px 2px rgba(0, 0, 0, 0.3));\n",
              "      fill: #FFFFFF;\n",
              "    }\n",
              "  </style>\n",
              "\n",
              "      <script>\n",
              "        const buttonEl =\n",
              "          document.querySelector('#df-1423e9c2-e438-442e-a4e3-707d7bc1d29a button.colab-df-convert');\n",
              "        buttonEl.style.display =\n",
              "          google.colab.kernel.accessAllowed ? 'block' : 'none';\n",
              "\n",
              "        async function convertToInteractive(key) {\n",
              "          const element = document.querySelector('#df-1423e9c2-e438-442e-a4e3-707d7bc1d29a');\n",
              "          const dataTable =\n",
              "            await google.colab.kernel.invokeFunction('convertToInteractive',\n",
              "                                                     [key], {});\n",
              "          if (!dataTable) return;\n",
              "\n",
              "          const docLinkHtml = 'Like what you see? Visit the ' +\n",
              "            '<a target=\"_blank\" href=https://colab.research.google.com/notebooks/data_table.ipynb>data table notebook</a>'\n",
              "            + ' to learn more about interactive tables.';\n",
              "          element.innerHTML = '';\n",
              "          dataTable['output_type'] = 'display_data';\n",
              "          await google.colab.output.renderOutput(dataTable, element);\n",
              "          const docLink = document.createElement('div');\n",
              "          docLink.innerHTML = docLinkHtml;\n",
              "          element.appendChild(docLink);\n",
              "        }\n",
              "      </script>\n",
              "    </div>\n",
              "  </div>\n",
              "  "
            ]
          },
          "metadata": {},
          "execution_count": 237
        }
      ]
    },
    {
      "cell_type": "code",
      "source": [
        "#This would remove all characters except alphabets and digits.\n",
        "\n",
        "#data['Punctuation'] = data['After_lemma'].apply(lambda x: re.sub('[^A-Za-z0-9]', ' ', x))"
      ],
      "metadata": {
        "id": "CWj3VJ43JBfM"
      },
      "execution_count": null,
      "outputs": []
    },
    {
      "cell_type": "code",
      "source": [
        "def check_find_punctuations(text):\n",
        "    \n",
        "    # regular expression containing\n",
        "    # all punctuation\n",
        "    result = re.findall(r'[!\"\\$%&\\'()*+,\\-.\\/:;=#@?\\[\\\\\\]^_`{|}~]*', \n",
        "                        text)\n",
        "      \n",
        "    # form a string\n",
        "    string = \"\".join(result)\n",
        "      \n",
        "    # list of strings return\n",
        "    return list(string)\n",
        "    \n",
        "# creating new column name\n",
        "# as a punctuation_used and \n",
        "# applying user defined function\n",
        "# on each rows of Comments column\n",
        "data['punct_'] = data['After_lemma'].apply(\n",
        "                         lambda x : check_find_punctuations(x)\n",
        "                         )\n",
        "  \n",
        "# show the Dataframe\n",
        "data.head()"
      ],
      "metadata": {
        "colab": {
          "base_uri": "https://localhost:8080/",
          "height": 826
        },
        "id": "emElHjnLSRZz",
        "outputId": "045b5034-5a80-49ec-a23a-eb61cccce81b"
      },
      "execution_count": 238,
      "outputs": [
        {
          "output_type": "execute_result",
          "data": {
            "text/plain": [
              "                                              Tweets  \\\n",
              "0      teri maa ki chut me shivsena ka lund gaya kya   \n",
              "1  han muje pata hai teri maa ka ke gufa me jati thi   \n",
              "2  tum kaha se aa gye bhai tumlog toh saree pehen...   \n",
              "3  koi moti🙊kisi ki besti😁 baisn ka or channey ki...   \n",
              "4     rahul kanwal aaj nanga hoke road per nachega 😂   \n",
              "\n",
              "                                    Processed_Tweets Bully_Label  \\\n",
              "0      teri maa ki chut me shivsena ka lund gaya kya           1   \n",
              "1  han muje pata hai teri maa ka ke gufa me jati thi           1   \n",
              "2  tum kaha se aa gye bhai tumlog toh saree pehen...           0   \n",
              "3  koi motikisi ki besti baisn ka or channey ki d...           1   \n",
              "4       rahul kanwal aaj nanga hoke road per nachega           1   \n",
              "\n",
              "  Sentiment_label Emotion_label  \\\n",
              "0        negative         anger   \n",
              "1        negative        others   \n",
              "2         neutral        others   \n",
              "3        negative       disgust   \n",
              "4        negative       disgust   \n",
              "\n",
              "                                     tweet_stopwords  \\\n",
              "0                             maa chut shivsena lund   \n",
              "1                                 muje maa gufa jati   \n",
              "2  aa gye tumlog saree pehen chup baithe aahe cho...   \n",
              "3  moti🙊kisi besti😁 baisn channey dal halwa kha t...   \n",
              "4             rahul kanwal nanga hoke road nachega 😂   \n",
              "\n",
              "                                         After_lemma  Processed_Tweets_len  \\\n",
              "0                             maa chut shivsena lund                    45   \n",
              "1                                 muje maa gufa jati                    49   \n",
              "2  aa gye tumlog saree pehen chup baithe aahe cho...                   100   \n",
              "3  moti kisi besti  baisn channey dal halwa kha t...                   192   \n",
              "4             rahul kanwal nanga hoke road nachega                      44   \n",
              "\n",
              "   tweet_stopwords_len punct_  \n",
              "0                   22     []  \n",
              "1                   18     []  \n",
              "2                   80     []  \n",
              "3                  237     []  \n",
              "4                   38     []  "
            ],
            "text/html": [
              "\n",
              "  <div id=\"df-b0f14a24-1f47-4744-ae52-5e1188f99e46\">\n",
              "    <div class=\"colab-df-container\">\n",
              "      <div>\n",
              "<style scoped>\n",
              "    .dataframe tbody tr th:only-of-type {\n",
              "        vertical-align: middle;\n",
              "    }\n",
              "\n",
              "    .dataframe tbody tr th {\n",
              "        vertical-align: top;\n",
              "    }\n",
              "\n",
              "    .dataframe thead th {\n",
              "        text-align: right;\n",
              "    }\n",
              "</style>\n",
              "<table border=\"1\" class=\"dataframe\">\n",
              "  <thead>\n",
              "    <tr style=\"text-align: right;\">\n",
              "      <th></th>\n",
              "      <th>Tweets</th>\n",
              "      <th>Processed_Tweets</th>\n",
              "      <th>Bully_Label</th>\n",
              "      <th>Sentiment_label</th>\n",
              "      <th>Emotion_label</th>\n",
              "      <th>tweet_stopwords</th>\n",
              "      <th>After_lemma</th>\n",
              "      <th>Processed_Tweets_len</th>\n",
              "      <th>tweet_stopwords_len</th>\n",
              "      <th>punct_</th>\n",
              "    </tr>\n",
              "  </thead>\n",
              "  <tbody>\n",
              "    <tr>\n",
              "      <th>0</th>\n",
              "      <td>teri maa ki chut me shivsena ka lund gaya kya</td>\n",
              "      <td>teri maa ki chut me shivsena ka lund gaya kya</td>\n",
              "      <td>1</td>\n",
              "      <td>negative</td>\n",
              "      <td>anger</td>\n",
              "      <td>maa chut shivsena lund</td>\n",
              "      <td>maa chut shivsena lund</td>\n",
              "      <td>45</td>\n",
              "      <td>22</td>\n",
              "      <td>[]</td>\n",
              "    </tr>\n",
              "    <tr>\n",
              "      <th>1</th>\n",
              "      <td>han muje pata hai teri maa ka ke gufa me jati thi</td>\n",
              "      <td>han muje pata hai teri maa ka ke gufa me jati thi</td>\n",
              "      <td>1</td>\n",
              "      <td>negative</td>\n",
              "      <td>others</td>\n",
              "      <td>muje maa gufa jati</td>\n",
              "      <td>muje maa gufa jati</td>\n",
              "      <td>49</td>\n",
              "      <td>18</td>\n",
              "      <td>[]</td>\n",
              "    </tr>\n",
              "    <tr>\n",
              "      <th>2</th>\n",
              "      <td>tum kaha se aa gye bhai tumlog toh saree pehen...</td>\n",
              "      <td>tum kaha se aa gye bhai tumlog toh saree pehen...</td>\n",
              "      <td>0</td>\n",
              "      <td>neutral</td>\n",
              "      <td>others</td>\n",
              "      <td>aa gye tumlog saree pehen chup baithe aahe cho...</td>\n",
              "      <td>aa gye tumlog saree pehen chup baithe aahe cho...</td>\n",
              "      <td>100</td>\n",
              "      <td>80</td>\n",
              "      <td>[]</td>\n",
              "    </tr>\n",
              "    <tr>\n",
              "      <th>3</th>\n",
              "      <td>koi moti🙊kisi ki besti😁 baisn ka or channey ki...</td>\n",
              "      <td>koi motikisi ki besti baisn ka or channey ki d...</td>\n",
              "      <td>1</td>\n",
              "      <td>negative</td>\n",
              "      <td>disgust</td>\n",
              "      <td>moti🙊kisi besti😁 baisn channey dal halwa kha t...</td>\n",
              "      <td>moti kisi besti  baisn channey dal halwa kha t...</td>\n",
              "      <td>192</td>\n",
              "      <td>237</td>\n",
              "      <td>[]</td>\n",
              "    </tr>\n",
              "    <tr>\n",
              "      <th>4</th>\n",
              "      <td>rahul kanwal aaj nanga hoke road per nachega 😂</td>\n",
              "      <td>rahul kanwal aaj nanga hoke road per nachega</td>\n",
              "      <td>1</td>\n",
              "      <td>negative</td>\n",
              "      <td>disgust</td>\n",
              "      <td>rahul kanwal nanga hoke road nachega 😂</td>\n",
              "      <td>rahul kanwal nanga hoke road nachega</td>\n",
              "      <td>44</td>\n",
              "      <td>38</td>\n",
              "      <td>[]</td>\n",
              "    </tr>\n",
              "  </tbody>\n",
              "</table>\n",
              "</div>\n",
              "      <button class=\"colab-df-convert\" onclick=\"convertToInteractive('df-b0f14a24-1f47-4744-ae52-5e1188f99e46')\"\n",
              "              title=\"Convert this dataframe to an interactive table.\"\n",
              "              style=\"display:none;\">\n",
              "        \n",
              "  <svg xmlns=\"http://www.w3.org/2000/svg\" height=\"24px\"viewBox=\"0 0 24 24\"\n",
              "       width=\"24px\">\n",
              "    <path d=\"M0 0h24v24H0V0z\" fill=\"none\"/>\n",
              "    <path d=\"M18.56 5.44l.94 2.06.94-2.06 2.06-.94-2.06-.94-.94-2.06-.94 2.06-2.06.94zm-11 1L8.5 8.5l.94-2.06 2.06-.94-2.06-.94L8.5 2.5l-.94 2.06-2.06.94zm10 10l.94 2.06.94-2.06 2.06-.94-2.06-.94-.94-2.06-.94 2.06-2.06.94z\"/><path d=\"M17.41 7.96l-1.37-1.37c-.4-.4-.92-.59-1.43-.59-.52 0-1.04.2-1.43.59L10.3 9.45l-7.72 7.72c-.78.78-.78 2.05 0 2.83L4 21.41c.39.39.9.59 1.41.59.51 0 1.02-.2 1.41-.59l7.78-7.78 2.81-2.81c.8-.78.8-2.07 0-2.86zM5.41 20L4 18.59l7.72-7.72 1.47 1.35L5.41 20z\"/>\n",
              "  </svg>\n",
              "      </button>\n",
              "      \n",
              "  <style>\n",
              "    .colab-df-container {\n",
              "      display:flex;\n",
              "      flex-wrap:wrap;\n",
              "      gap: 12px;\n",
              "    }\n",
              "\n",
              "    .colab-df-convert {\n",
              "      background-color: #E8F0FE;\n",
              "      border: none;\n",
              "      border-radius: 50%;\n",
              "      cursor: pointer;\n",
              "      display: none;\n",
              "      fill: #1967D2;\n",
              "      height: 32px;\n",
              "      padding: 0 0 0 0;\n",
              "      width: 32px;\n",
              "    }\n",
              "\n",
              "    .colab-df-convert:hover {\n",
              "      background-color: #E2EBFA;\n",
              "      box-shadow: 0px 1px 2px rgba(60, 64, 67, 0.3), 0px 1px 3px 1px rgba(60, 64, 67, 0.15);\n",
              "      fill: #174EA6;\n",
              "    }\n",
              "\n",
              "    [theme=dark] .colab-df-convert {\n",
              "      background-color: #3B4455;\n",
              "      fill: #D2E3FC;\n",
              "    }\n",
              "\n",
              "    [theme=dark] .colab-df-convert:hover {\n",
              "      background-color: #434B5C;\n",
              "      box-shadow: 0px 1px 3px 1px rgba(0, 0, 0, 0.15);\n",
              "      filter: drop-shadow(0px 1px 2px rgba(0, 0, 0, 0.3));\n",
              "      fill: #FFFFFF;\n",
              "    }\n",
              "  </style>\n",
              "\n",
              "      <script>\n",
              "        const buttonEl =\n",
              "          document.querySelector('#df-b0f14a24-1f47-4744-ae52-5e1188f99e46 button.colab-df-convert');\n",
              "        buttonEl.style.display =\n",
              "          google.colab.kernel.accessAllowed ? 'block' : 'none';\n",
              "\n",
              "        async function convertToInteractive(key) {\n",
              "          const element = document.querySelector('#df-b0f14a24-1f47-4744-ae52-5e1188f99e46');\n",
              "          const dataTable =\n",
              "            await google.colab.kernel.invokeFunction('convertToInteractive',\n",
              "                                                     [key], {});\n",
              "          if (!dataTable) return;\n",
              "\n",
              "          const docLinkHtml = 'Like what you see? Visit the ' +\n",
              "            '<a target=\"_blank\" href=https://colab.research.google.com/notebooks/data_table.ipynb>data table notebook</a>'\n",
              "            + ' to learn more about interactive tables.';\n",
              "          element.innerHTML = '';\n",
              "          dataTable['output_type'] = 'display_data';\n",
              "          await google.colab.output.renderOutput(dataTable, element);\n",
              "          const docLink = document.createElement('div');\n",
              "          docLink.innerHTML = docLinkHtml;\n",
              "          element.appendChild(docLink);\n",
              "        }\n",
              "      </script>\n",
              "    </div>\n",
              "  </div>\n",
              "  "
            ]
          },
          "metadata": {},
          "execution_count": 238
        }
      ]
    },
    {
      "cell_type": "code",
      "source": [
        "data[\"mentions\"]=data[\"After_lemma\"].str.count(\"@\")\n",
        "data.head(2)"
      ],
      "metadata": {
        "colab": {
          "base_uri": "https://localhost:8080/",
          "height": 384
        },
        "id": "9iBvYZtePkOx",
        "outputId": "0a3b3608-c30d-450f-9b52-92b0c5eb7c00"
      },
      "execution_count": 239,
      "outputs": [
        {
          "output_type": "execute_result",
          "data": {
            "text/plain": [
              "                                              Tweets  \\\n",
              "0      teri maa ki chut me shivsena ka lund gaya kya   \n",
              "1  han muje pata hai teri maa ka ke gufa me jati thi   \n",
              "\n",
              "                                    Processed_Tweets Bully_Label  \\\n",
              "0      teri maa ki chut me shivsena ka lund gaya kya           1   \n",
              "1  han muje pata hai teri maa ka ke gufa me jati thi           1   \n",
              "\n",
              "  Sentiment_label Emotion_label         tweet_stopwords  \\\n",
              "0        negative         anger  maa chut shivsena lund   \n",
              "1        negative        others      muje maa gufa jati   \n",
              "\n",
              "              After_lemma  Processed_Tweets_len  tweet_stopwords_len punct_  \\\n",
              "0  maa chut shivsena lund                    45                   22     []   \n",
              "1      muje maa gufa jati                    49                   18     []   \n",
              "\n",
              "   mentions  \n",
              "0         0  \n",
              "1         0  "
            ],
            "text/html": [
              "\n",
              "  <div id=\"df-8b3c782a-988d-46fc-adac-10f1a832388d\">\n",
              "    <div class=\"colab-df-container\">\n",
              "      <div>\n",
              "<style scoped>\n",
              "    .dataframe tbody tr th:only-of-type {\n",
              "        vertical-align: middle;\n",
              "    }\n",
              "\n",
              "    .dataframe tbody tr th {\n",
              "        vertical-align: top;\n",
              "    }\n",
              "\n",
              "    .dataframe thead th {\n",
              "        text-align: right;\n",
              "    }\n",
              "</style>\n",
              "<table border=\"1\" class=\"dataframe\">\n",
              "  <thead>\n",
              "    <tr style=\"text-align: right;\">\n",
              "      <th></th>\n",
              "      <th>Tweets</th>\n",
              "      <th>Processed_Tweets</th>\n",
              "      <th>Bully_Label</th>\n",
              "      <th>Sentiment_label</th>\n",
              "      <th>Emotion_label</th>\n",
              "      <th>tweet_stopwords</th>\n",
              "      <th>After_lemma</th>\n",
              "      <th>Processed_Tweets_len</th>\n",
              "      <th>tweet_stopwords_len</th>\n",
              "      <th>punct_</th>\n",
              "      <th>mentions</th>\n",
              "    </tr>\n",
              "  </thead>\n",
              "  <tbody>\n",
              "    <tr>\n",
              "      <th>0</th>\n",
              "      <td>teri maa ki chut me shivsena ka lund gaya kya</td>\n",
              "      <td>teri maa ki chut me shivsena ka lund gaya kya</td>\n",
              "      <td>1</td>\n",
              "      <td>negative</td>\n",
              "      <td>anger</td>\n",
              "      <td>maa chut shivsena lund</td>\n",
              "      <td>maa chut shivsena lund</td>\n",
              "      <td>45</td>\n",
              "      <td>22</td>\n",
              "      <td>[]</td>\n",
              "      <td>0</td>\n",
              "    </tr>\n",
              "    <tr>\n",
              "      <th>1</th>\n",
              "      <td>han muje pata hai teri maa ka ke gufa me jati thi</td>\n",
              "      <td>han muje pata hai teri maa ka ke gufa me jati thi</td>\n",
              "      <td>1</td>\n",
              "      <td>negative</td>\n",
              "      <td>others</td>\n",
              "      <td>muje maa gufa jati</td>\n",
              "      <td>muje maa gufa jati</td>\n",
              "      <td>49</td>\n",
              "      <td>18</td>\n",
              "      <td>[]</td>\n",
              "      <td>0</td>\n",
              "    </tr>\n",
              "  </tbody>\n",
              "</table>\n",
              "</div>\n",
              "      <button class=\"colab-df-convert\" onclick=\"convertToInteractive('df-8b3c782a-988d-46fc-adac-10f1a832388d')\"\n",
              "              title=\"Convert this dataframe to an interactive table.\"\n",
              "              style=\"display:none;\">\n",
              "        \n",
              "  <svg xmlns=\"http://www.w3.org/2000/svg\" height=\"24px\"viewBox=\"0 0 24 24\"\n",
              "       width=\"24px\">\n",
              "    <path d=\"M0 0h24v24H0V0z\" fill=\"none\"/>\n",
              "    <path d=\"M18.56 5.44l.94 2.06.94-2.06 2.06-.94-2.06-.94-.94-2.06-.94 2.06-2.06.94zm-11 1L8.5 8.5l.94-2.06 2.06-.94-2.06-.94L8.5 2.5l-.94 2.06-2.06.94zm10 10l.94 2.06.94-2.06 2.06-.94-2.06-.94-.94-2.06-.94 2.06-2.06.94z\"/><path d=\"M17.41 7.96l-1.37-1.37c-.4-.4-.92-.59-1.43-.59-.52 0-1.04.2-1.43.59L10.3 9.45l-7.72 7.72c-.78.78-.78 2.05 0 2.83L4 21.41c.39.39.9.59 1.41.59.51 0 1.02-.2 1.41-.59l7.78-7.78 2.81-2.81c.8-.78.8-2.07 0-2.86zM5.41 20L4 18.59l7.72-7.72 1.47 1.35L5.41 20z\"/>\n",
              "  </svg>\n",
              "      </button>\n",
              "      \n",
              "  <style>\n",
              "    .colab-df-container {\n",
              "      display:flex;\n",
              "      flex-wrap:wrap;\n",
              "      gap: 12px;\n",
              "    }\n",
              "\n",
              "    .colab-df-convert {\n",
              "      background-color: #E8F0FE;\n",
              "      border: none;\n",
              "      border-radius: 50%;\n",
              "      cursor: pointer;\n",
              "      display: none;\n",
              "      fill: #1967D2;\n",
              "      height: 32px;\n",
              "      padding: 0 0 0 0;\n",
              "      width: 32px;\n",
              "    }\n",
              "\n",
              "    .colab-df-convert:hover {\n",
              "      background-color: #E2EBFA;\n",
              "      box-shadow: 0px 1px 2px rgba(60, 64, 67, 0.3), 0px 1px 3px 1px rgba(60, 64, 67, 0.15);\n",
              "      fill: #174EA6;\n",
              "    }\n",
              "\n",
              "    [theme=dark] .colab-df-convert {\n",
              "      background-color: #3B4455;\n",
              "      fill: #D2E3FC;\n",
              "    }\n",
              "\n",
              "    [theme=dark] .colab-df-convert:hover {\n",
              "      background-color: #434B5C;\n",
              "      box-shadow: 0px 1px 3px 1px rgba(0, 0, 0, 0.15);\n",
              "      filter: drop-shadow(0px 1px 2px rgba(0, 0, 0, 0.3));\n",
              "      fill: #FFFFFF;\n",
              "    }\n",
              "  </style>\n",
              "\n",
              "      <script>\n",
              "        const buttonEl =\n",
              "          document.querySelector('#df-8b3c782a-988d-46fc-adac-10f1a832388d button.colab-df-convert');\n",
              "        buttonEl.style.display =\n",
              "          google.colab.kernel.accessAllowed ? 'block' : 'none';\n",
              "\n",
              "        async function convertToInteractive(key) {\n",
              "          const element = document.querySelector('#df-8b3c782a-988d-46fc-adac-10f1a832388d');\n",
              "          const dataTable =\n",
              "            await google.colab.kernel.invokeFunction('convertToInteractive',\n",
              "                                                     [key], {});\n",
              "          if (!dataTable) return;\n",
              "\n",
              "          const docLinkHtml = 'Like what you see? Visit the ' +\n",
              "            '<a target=\"_blank\" href=https://colab.research.google.com/notebooks/data_table.ipynb>data table notebook</a>'\n",
              "            + ' to learn more about interactive tables.';\n",
              "          element.innerHTML = '';\n",
              "          dataTable['output_type'] = 'display_data';\n",
              "          await google.colab.output.renderOutput(dataTable, element);\n",
              "          const docLink = document.createElement('div');\n",
              "          docLink.innerHTML = docLinkHtml;\n",
              "          element.appendChild(docLink);\n",
              "        }\n",
              "      </script>\n",
              "    </div>\n",
              "  </div>\n",
              "  "
            ]
          },
          "metadata": {},
          "execution_count": 239
        }
      ]
    },
    {
      "cell_type": "code",
      "source": [
        "data['punct']  = data['punct_'].str.len()\n",
        "data.head(4)"
      ],
      "metadata": {
        "colab": {
          "base_uri": "https://localhost:8080/",
          "height": 673
        },
        "id": "atvcYswiK7Wd",
        "outputId": "18df814b-844d-4f1f-c802-0f22ce0a5cbe"
      },
      "execution_count": 240,
      "outputs": [
        {
          "output_type": "execute_result",
          "data": {
            "text/plain": [
              "                                              Tweets  \\\n",
              "0      teri maa ki chut me shivsena ka lund gaya kya   \n",
              "1  han muje pata hai teri maa ka ke gufa me jati thi   \n",
              "2  tum kaha se aa gye bhai tumlog toh saree pehen...   \n",
              "3  koi moti🙊kisi ki besti😁 baisn ka or channey ki...   \n",
              "\n",
              "                                    Processed_Tweets Bully_Label  \\\n",
              "0      teri maa ki chut me shivsena ka lund gaya kya           1   \n",
              "1  han muje pata hai teri maa ka ke gufa me jati thi           1   \n",
              "2  tum kaha se aa gye bhai tumlog toh saree pehen...           0   \n",
              "3  koi motikisi ki besti baisn ka or channey ki d...           1   \n",
              "\n",
              "  Sentiment_label Emotion_label  \\\n",
              "0        negative         anger   \n",
              "1        negative        others   \n",
              "2         neutral        others   \n",
              "3        negative       disgust   \n",
              "\n",
              "                                     tweet_stopwords  \\\n",
              "0                             maa chut shivsena lund   \n",
              "1                                 muje maa gufa jati   \n",
              "2  aa gye tumlog saree pehen chup baithe aahe cho...   \n",
              "3  moti🙊kisi besti😁 baisn channey dal halwa kha t...   \n",
              "\n",
              "                                         After_lemma  Processed_Tweets_len  \\\n",
              "0                             maa chut shivsena lund                    45   \n",
              "1                                 muje maa gufa jati                    49   \n",
              "2  aa gye tumlog saree pehen chup baithe aahe cho...                   100   \n",
              "3  moti kisi besti  baisn channey dal halwa kha t...                   192   \n",
              "\n",
              "   tweet_stopwords_len punct_  mentions  punct  \n",
              "0                   22     []         0      0  \n",
              "1                   18     []         0      0  \n",
              "2                   80     []         0      0  \n",
              "3                  237     []         0      0  "
            ],
            "text/html": [
              "\n",
              "  <div id=\"df-d9b2e653-6353-472d-9992-41379ea752e4\">\n",
              "    <div class=\"colab-df-container\">\n",
              "      <div>\n",
              "<style scoped>\n",
              "    .dataframe tbody tr th:only-of-type {\n",
              "        vertical-align: middle;\n",
              "    }\n",
              "\n",
              "    .dataframe tbody tr th {\n",
              "        vertical-align: top;\n",
              "    }\n",
              "\n",
              "    .dataframe thead th {\n",
              "        text-align: right;\n",
              "    }\n",
              "</style>\n",
              "<table border=\"1\" class=\"dataframe\">\n",
              "  <thead>\n",
              "    <tr style=\"text-align: right;\">\n",
              "      <th></th>\n",
              "      <th>Tweets</th>\n",
              "      <th>Processed_Tweets</th>\n",
              "      <th>Bully_Label</th>\n",
              "      <th>Sentiment_label</th>\n",
              "      <th>Emotion_label</th>\n",
              "      <th>tweet_stopwords</th>\n",
              "      <th>After_lemma</th>\n",
              "      <th>Processed_Tweets_len</th>\n",
              "      <th>tweet_stopwords_len</th>\n",
              "      <th>punct_</th>\n",
              "      <th>mentions</th>\n",
              "      <th>punct</th>\n",
              "    </tr>\n",
              "  </thead>\n",
              "  <tbody>\n",
              "    <tr>\n",
              "      <th>0</th>\n",
              "      <td>teri maa ki chut me shivsena ka lund gaya kya</td>\n",
              "      <td>teri maa ki chut me shivsena ka lund gaya kya</td>\n",
              "      <td>1</td>\n",
              "      <td>negative</td>\n",
              "      <td>anger</td>\n",
              "      <td>maa chut shivsena lund</td>\n",
              "      <td>maa chut shivsena lund</td>\n",
              "      <td>45</td>\n",
              "      <td>22</td>\n",
              "      <td>[]</td>\n",
              "      <td>0</td>\n",
              "      <td>0</td>\n",
              "    </tr>\n",
              "    <tr>\n",
              "      <th>1</th>\n",
              "      <td>han muje pata hai teri maa ka ke gufa me jati thi</td>\n",
              "      <td>han muje pata hai teri maa ka ke gufa me jati thi</td>\n",
              "      <td>1</td>\n",
              "      <td>negative</td>\n",
              "      <td>others</td>\n",
              "      <td>muje maa gufa jati</td>\n",
              "      <td>muje maa gufa jati</td>\n",
              "      <td>49</td>\n",
              "      <td>18</td>\n",
              "      <td>[]</td>\n",
              "      <td>0</td>\n",
              "      <td>0</td>\n",
              "    </tr>\n",
              "    <tr>\n",
              "      <th>2</th>\n",
              "      <td>tum kaha se aa gye bhai tumlog toh saree pehen...</td>\n",
              "      <td>tum kaha se aa gye bhai tumlog toh saree pehen...</td>\n",
              "      <td>0</td>\n",
              "      <td>neutral</td>\n",
              "      <td>others</td>\n",
              "      <td>aa gye tumlog saree pehen chup baithe aahe cho...</td>\n",
              "      <td>aa gye tumlog saree pehen chup baithe aahe cho...</td>\n",
              "      <td>100</td>\n",
              "      <td>80</td>\n",
              "      <td>[]</td>\n",
              "      <td>0</td>\n",
              "      <td>0</td>\n",
              "    </tr>\n",
              "    <tr>\n",
              "      <th>3</th>\n",
              "      <td>koi moti🙊kisi ki besti😁 baisn ka or channey ki...</td>\n",
              "      <td>koi motikisi ki besti baisn ka or channey ki d...</td>\n",
              "      <td>1</td>\n",
              "      <td>negative</td>\n",
              "      <td>disgust</td>\n",
              "      <td>moti🙊kisi besti😁 baisn channey dal halwa kha t...</td>\n",
              "      <td>moti kisi besti  baisn channey dal halwa kha t...</td>\n",
              "      <td>192</td>\n",
              "      <td>237</td>\n",
              "      <td>[]</td>\n",
              "      <td>0</td>\n",
              "      <td>0</td>\n",
              "    </tr>\n",
              "  </tbody>\n",
              "</table>\n",
              "</div>\n",
              "      <button class=\"colab-df-convert\" onclick=\"convertToInteractive('df-d9b2e653-6353-472d-9992-41379ea752e4')\"\n",
              "              title=\"Convert this dataframe to an interactive table.\"\n",
              "              style=\"display:none;\">\n",
              "        \n",
              "  <svg xmlns=\"http://www.w3.org/2000/svg\" height=\"24px\"viewBox=\"0 0 24 24\"\n",
              "       width=\"24px\">\n",
              "    <path d=\"M0 0h24v24H0V0z\" fill=\"none\"/>\n",
              "    <path d=\"M18.56 5.44l.94 2.06.94-2.06 2.06-.94-2.06-.94-.94-2.06-.94 2.06-2.06.94zm-11 1L8.5 8.5l.94-2.06 2.06-.94-2.06-.94L8.5 2.5l-.94 2.06-2.06.94zm10 10l.94 2.06.94-2.06 2.06-.94-2.06-.94-.94-2.06-.94 2.06-2.06.94z\"/><path d=\"M17.41 7.96l-1.37-1.37c-.4-.4-.92-.59-1.43-.59-.52 0-1.04.2-1.43.59L10.3 9.45l-7.72 7.72c-.78.78-.78 2.05 0 2.83L4 21.41c.39.39.9.59 1.41.59.51 0 1.02-.2 1.41-.59l7.78-7.78 2.81-2.81c.8-.78.8-2.07 0-2.86zM5.41 20L4 18.59l7.72-7.72 1.47 1.35L5.41 20z\"/>\n",
              "  </svg>\n",
              "      </button>\n",
              "      \n",
              "  <style>\n",
              "    .colab-df-container {\n",
              "      display:flex;\n",
              "      flex-wrap:wrap;\n",
              "      gap: 12px;\n",
              "    }\n",
              "\n",
              "    .colab-df-convert {\n",
              "      background-color: #E8F0FE;\n",
              "      border: none;\n",
              "      border-radius: 50%;\n",
              "      cursor: pointer;\n",
              "      display: none;\n",
              "      fill: #1967D2;\n",
              "      height: 32px;\n",
              "      padding: 0 0 0 0;\n",
              "      width: 32px;\n",
              "    }\n",
              "\n",
              "    .colab-df-convert:hover {\n",
              "      background-color: #E2EBFA;\n",
              "      box-shadow: 0px 1px 2px rgba(60, 64, 67, 0.3), 0px 1px 3px 1px rgba(60, 64, 67, 0.15);\n",
              "      fill: #174EA6;\n",
              "    }\n",
              "\n",
              "    [theme=dark] .colab-df-convert {\n",
              "      background-color: #3B4455;\n",
              "      fill: #D2E3FC;\n",
              "    }\n",
              "\n",
              "    [theme=dark] .colab-df-convert:hover {\n",
              "      background-color: #434B5C;\n",
              "      box-shadow: 0px 1px 3px 1px rgba(0, 0, 0, 0.15);\n",
              "      filter: drop-shadow(0px 1px 2px rgba(0, 0, 0, 0.3));\n",
              "      fill: #FFFFFF;\n",
              "    }\n",
              "  </style>\n",
              "\n",
              "      <script>\n",
              "        const buttonEl =\n",
              "          document.querySelector('#df-d9b2e653-6353-472d-9992-41379ea752e4 button.colab-df-convert');\n",
              "        buttonEl.style.display =\n",
              "          google.colab.kernel.accessAllowed ? 'block' : 'none';\n",
              "\n",
              "        async function convertToInteractive(key) {\n",
              "          const element = document.querySelector('#df-d9b2e653-6353-472d-9992-41379ea752e4');\n",
              "          const dataTable =\n",
              "            await google.colab.kernel.invokeFunction('convertToInteractive',\n",
              "                                                     [key], {});\n",
              "          if (!dataTable) return;\n",
              "\n",
              "          const docLinkHtml = 'Like what you see? Visit the ' +\n",
              "            '<a target=\"_blank\" href=https://colab.research.google.com/notebooks/data_table.ipynb>data table notebook</a>'\n",
              "            + ' to learn more about interactive tables.';\n",
              "          element.innerHTML = '';\n",
              "          dataTable['output_type'] = 'display_data';\n",
              "          await google.colab.output.renderOutput(dataTable, element);\n",
              "          const docLink = document.createElement('div');\n",
              "          docLink.innerHTML = docLinkHtml;\n",
              "          element.appendChild(docLink);\n",
              "        }\n",
              "      </script>\n",
              "    </div>\n",
              "  </div>\n",
              "  "
            ]
          },
          "metadata": {},
          "execution_count": 240
        }
      ]
    },
    {
      "cell_type": "code",
      "source": [
        "''' data['punct'] = df['After_lemma'].str.replace(r'[!\"\\$%&\\'()*+,\\-.\\/:;=#@?\\[\\\\\\]^_`{|}~]*', '')\n",
        "print(data) '''"
      ],
      "metadata": {
        "colab": {
          "base_uri": "https://localhost:8080/",
          "height": 35
        },
        "id": "oo5nZsmpk_zZ",
        "outputId": "47fa700e-a43e-4f58-edc5-342ab49be175"
      },
      "execution_count": 128,
      "outputs": [
        {
          "output_type": "execute_result",
          "data": {
            "text/plain": [
              "' data[\\'punct\\'] = df[\\'After_lemma\\'].str.replace(r\\'[!\"\\\\$%&\\'()*+,\\\\-.\\\\/:;=#@?\\\\[\\\\\\\\]^_`{|}~]*\\', \\'\\')\\nprint(data) '"
            ],
            "application/vnd.google.colaboratory.intrinsic+json": {
              "type": "string"
            }
          },
          "metadata": {},
          "execution_count": 128
        }
      ]
    },
    {
      "cell_type": "markdown",
      "source": [
        "Find correlation"
      ],
      "metadata": {
        "id": "7N4V7HC3DgBZ"
      }
    },
    {
      "cell_type": "code",
      "source": [
        "import seaborn as sns"
      ],
      "metadata": {
        "id": "rDHvzASINQIZ"
      },
      "execution_count": 242,
      "outputs": []
    },
    {
      "cell_type": "code",
      "source": [
        "data.plot.scatter(x='Bully_Label', y='tweet_stopwords_len')\n",
        "plt.legend()\n",
        "plt.show()"
      ],
      "metadata": {
        "colab": {
          "base_uri": "https://localhost:8080/",
          "height": 297
        },
        "id": "lsbL2mQ2NOSO",
        "outputId": "1619baf0-9aef-4ada-9b61-45668fb32b08"
      },
      "execution_count": 243,
      "outputs": [
        {
          "output_type": "stream",
          "name": "stderr",
          "text": [
            "WARNING:matplotlib.legend:No handles with labels found to put in legend.\n"
          ]
        },
        {
          "output_type": "display_data",
          "data": {
            "text/plain": [
              "<Figure size 432x288 with 1 Axes>"
            ],
            "image/png": "[encoded data removed]"
          },
          "metadata": {
            "needs_background": "light"
          }
        }
      ]
    },
    {
      "cell_type": "code",
      "source": [
        "#import seaborn as sns\n",
        "#sns.scatterplot(x= data['tweet_stopwords_len'], y= data['Bully_Label'])\n",
        "#sns.scatterplot(x= data['Bully_Label'], y= data['tweet_stopwords_len'])"
      ],
      "metadata": {
        "colab": {
          "base_uri": "https://localhost:8080/",
          "height": 297
        },
        "id": "E_J8kbx_k_dr",
        "outputId": "490d3845-f523-4f60-8b4c-255c0813927b"
      },
      "execution_count": null,
      "outputs": [
        {
          "output_type": "execute_result",
          "data": {
            "text/plain": [
              "<matplotlib.axes._subplots.AxesSubplot at 0x7fc49a5de290>"
            ]
          },
          "metadata": {},
          "execution_count": 110
        },
        {
          "output_type": "display_data",
          "data": {
            "text/plain": [
              "<Figure size 432x288 with 1 Axes>"
            ],
            "image/png": "[encoded data removed]"
          },
          "metadata": {
            "needs_background": "light"
          }
        }
      ]
    },
    {
      "cell_type": "code",
      "source": [
        "sns.scatterplot(x= data['Bully_Label'], y= data['mentions'])"
      ],
      "metadata": {
        "colab": {
          "base_uri": "https://localhost:8080/",
          "height": 297
        },
        "id": "CllWZ1OaUO8m",
        "outputId": "82f90b9a-7d70-401a-d4ad-1beb5b045dc1"
      },
      "execution_count": 205,
      "outputs": [
        {
          "output_type": "execute_result",
          "data": {
            "text/plain": [
              "<matplotlib.axes._subplots.AxesSubplot at 0x7fa93fe485d0>"
            ]
          },
          "metadata": {},
          "execution_count": 205
        },
        {
          "output_type": "display_data",
          "data": {
            "text/plain": [
              "<Figure size 432x288 with 1 Axes>"
            ],
            "image/png": "[encoded data removed]"
          },
          "metadata": {
            "needs_background": "light"
          }
        }
      ]
    },
    {
      "cell_type": "code",
      "source": [
        "sns.scatterplot(x= data['Bully_Label'], y= data['punct'])"
      ],
      "metadata": {
        "colab": {
          "base_uri": "https://localhost:8080/",
          "height": 297
        },
        "id": "XveLvNChMOxg",
        "outputId": "30706b36-6fb5-443e-f519-18bbf012bb8d"
      },
      "execution_count": 206,
      "outputs": [
        {
          "output_type": "execute_result",
          "data": {
            "text/plain": [
              "<matplotlib.axes._subplots.AxesSubplot at 0x7fa93eae9510>"
            ]
          },
          "metadata": {},
          "execution_count": 206
        },
        {
          "output_type": "display_data",
          "data": {
            "text/plain": [
              "<Figure size 432x288 with 1 Axes>"
            ],
            "image/png": "[encoded data removed]"
          },
          "metadata": {
            "needs_background": "light"
          }
        }
      ]
    },
    {
      "cell_type": "code",
      "source": [
        "sns.scatterplot(x= data['Bully_Label'], y= data['Processed_Tweets_len'])"
      ],
      "metadata": {
        "colab": {
          "base_uri": "https://localhost:8080/",
          "height": 297
        },
        "id": "dUikhOyfMOdP",
        "outputId": "497d7b8f-3a8f-416d-ffde-cafdb008dbee"
      },
      "execution_count": 207,
      "outputs": [
        {
          "output_type": "execute_result",
          "data": {
            "text/plain": [
              "<matplotlib.axes._subplots.AxesSubplot at 0x7fa940bb5250>"
            ]
          },
          "metadata": {},
          "execution_count": 207
        },
        {
          "output_type": "display_data",
          "data": {
            "text/plain": [
              "<Figure size 432x288 with 1 Axes>"
            ],
            "image/png": "[encoded data removed]"
          },
          "metadata": {
            "needs_background": "light"
          }
        }
      ]
    },
    {
      "cell_type": "code",
      "source": [
        "# create word cloud\n",
        "from wordcloud import WordCloud"
      ],
      "metadata": {
        "id": "Vr87T6mhMnKi"
      },
      "execution_count": 244,
      "outputs": []
    },
    {
      "cell_type": "code",
      "source": [
        "#text = \" \".join(i for i in data.After_lemma)"
      ],
      "metadata": {
        "id": "QQsL54JxMnFK"
      },
      "execution_count": 209,
      "outputs": []
    },
    {
      "cell_type": "code",
      "source": [
        "wordcloud = WordCloud( background_color=\"pink\").generate(text)\n",
        "plt.figure( figsize=(15,10))\n",
        "plt.imshow(wordcloud, interpolation='bilinear')\n",
        "plt.axis(\"off\")\n",
        "plt.show()"
      ],
      "metadata": {
        "colab": {
          "base_uri": "https://localhost:8080/",
          "height": 449
        },
        "id": "qYMi5bVucv5r",
        "outputId": "1dd97777-0bf4-4cad-f8b6-4f1ba7c11b94"
      },
      "execution_count": 245,
      "outputs": [
        {
          "output_type": "display_data",
          "data": {
            "text/plain": [
              "<Figure size 1080x720 with 1 Axes>"
            ],
            "image/png": "[encoded data removed]"
          },
          "metadata": {
            "needs_background": "light"
          }
        }
      ]
    },
    {
      "cell_type": "code",
      "source": [],
      "metadata": {
        "id": "vN5Apmcig60T"
      },
      "execution_count": null,
      "outputs": []
    },
    {
      "cell_type": "markdown",
      "source": [
        "Question 7"
      ],
      "metadata": {
        "id": "n39rlRDLgTgV"
      }
    },
    {
      "cell_type": "markdown",
      "source": [
        "*performing on original data*"
      ],
      "metadata": {
        "id": "HLHuqSFmgwHL"
      }
    },
    {
      "cell_type": "markdown",
      "source": [
        "for original as P1"
      ],
      "metadata": {
        "id": "M3YIsBvW1UDm"
      }
    },
    {
      "cell_type": "markdown",
      "source": [
        "https://www.analyticsvidhya.com/blog/2021/03/language-detection-using-natural-language-processing/"
      ],
      "metadata": {
        "id": "sH0oIUjx38uD"
      }
    },
    {
      "cell_type": "markdown",
      "source": [
        "https://www.analyticsvidhya.com/blog/2022/07/sentiment-analysis-using-python/"
      ],
      "metadata": {
        "id": "l3DFMiJ2DHSp"
      }
    },
    {
      "cell_type": "code",
      "source": [
        "#Loading the Dataset\n",
        "#import pandas as pd\n",
        "#data = pd.read_csv('Finance_data.csv')\n",
        "data1 = pd.read_csv(r'/content/drive/MyDrive/Bully_Sent_Emo_IEEEIC_6084.csv')\n",
        "from sklearn.feature_extraction.text import CountVectorizer\n",
        "cv = CountVectorizer()\n",
        "P1 = cv.fit_transform(data1['Processed_Tweets'])\n",
        "P1.shape\n",
        "\n"
      ],
      "metadata": {
        "colab": {
          "base_uri": "https://localhost:8080/"
        },
        "id": "vddhDS6354C_",
        "outputId": "342beacf-d62f-481e-a9a3-2b8a24c17578"
      },
      "execution_count": 281,
      "outputs": [
        {
          "output_type": "execute_result",
          "data": {
            "text/plain": [
              "(6084, 21564)"
            ]
          },
          "metadata": {},
          "execution_count": 281
        }
      ]
    },
    {
      "cell_type": "code",
      "source": [
        "#from sklearn.model_selection import train_test_split\n",
        "#Splitting the data into trainig and testing\n",
        "from sklearn.model_selection import train_test_split\n",
        "X_train, X_test, Y_train, Y_test = train_test_split(P1, data1['Bully_Label'], test_size=0.2, random_state=5)"
      ],
      "metadata": {
        "id": "HoMlFuoM2Avi"
      },
      "execution_count": 282,
      "outputs": []
    },
    {
      "cell_type": "markdown",
      "source": [
        "Apply Naive Bays -> P1 + BOW"
      ],
      "metadata": {
        "id": "OjekuU0VD5sd"
      }
    },
    {
      "cell_type": "code",
      "source": [
        "from sklearn.naive_bayes import MultinomialNB\n",
        "MNB = MultinomialNB()\n",
        "MNB.fit(X_train, Y_train)\n",
        "#Caluclating the accuracy score of the model\n",
        "from sklearn import metrics\n",
        "predicted = MNB.predict(X_test)\n",
        "accuracy_score = metrics.accuracy_score(predicted, Y_test)\n",
        "print(\"Accuracuy Score: \",accuracy_score)"
      ],
      "metadata": {
        "colab": {
          "base_uri": "https://localhost:8080/"
        },
        "id": "u7E46JfWwpO3",
        "outputId": "47135a26-f108-4436-bf84-bca13c6b3650"
      },
      "execution_count": 283,
      "outputs": [
        {
          "output_type": "stream",
          "name": "stdout",
          "text": [
            "Accuracuy Score:  0.8134757600657354\n"
          ]
        }
      ]
    },
    {
      "cell_type": "markdown",
      "source": [
        "Consider processed data as P2 and apply BOW and Naive Bays"
      ],
      "metadata": {
        "id": "CenWzlbLERkn"
      }
    },
    {
      "cell_type": "code",
      "source": [
        "data2 = pd.read_csv(r'/content/drive/My Drive/Colab Notebooks/NLP Assignment/Bully_csv_file.csv')"
      ],
      "metadata": {
        "id": "FHuUei4kwpH6"
      },
      "execution_count": 284,
      "outputs": []
    },
    {
      "cell_type": "code",
      "source": [
        "data2.head()"
      ],
      "metadata": {
        "colab": {
          "base_uri": "https://localhost:8080/",
          "height": 441
        },
        "id": "DCMdwSndMpo_",
        "outputId": "3fc69ab9-dd67-4829-d2cb-4f4e7f52162f"
      },
      "execution_count": 285,
      "outputs": [
        {
          "output_type": "execute_result",
          "data": {
            "text/plain": [
              "   Unnamed: 0                                             Tweets  \\\n",
              "0           0      teri maa ki chut me shivsena ka lund gaya kya   \n",
              "1           1  han muje pata hai teri maa ka ke gufa me jati thi   \n",
              "2           2  tum kaha se aa gye bhai tumlog toh saree pehen...   \n",
              "3           3  koi moti🙊kisi ki besti😁 baisn ka or channey ki...   \n",
              "4           4     rahul kanwal aaj nanga hoke road per nachega 😂   \n",
              "\n",
              "                                    Processed_Tweets  Bully_Label  \\\n",
              "0      teri maa ki chut me shivsena ka lund gaya kya            1   \n",
              "1  han muje pata hai teri maa ka ke gufa me jati thi            1   \n",
              "2  tum kaha se aa gye bhai tumlog toh saree pehen...            0   \n",
              "3  koi motikisi ki besti baisn ka or channey ki d...            1   \n",
              "4       rahul kanwal aaj nanga hoke road per nachega            1   \n",
              "\n",
              "  Sentiment_label Emotion_label  \\\n",
              "0        negative         anger   \n",
              "1        negative        others   \n",
              "2         neutral        others   \n",
              "3        negative       disgust   \n",
              "4        negative       disgust   \n",
              "\n",
              "                                     tweet_stopwords  \\\n",
              "0                             maa chut shivsena lund   \n",
              "1                                 muje maa gufa jati   \n",
              "2  aa gye tumlog saree pehen chup baithe aahe cho...   \n",
              "3  moti🙊kisi besti😁 baisn channey dal halwa kha t...   \n",
              "4             rahul kanwal nanga hoke road nachega 😂   \n",
              "\n",
              "                                         After_lemma  \n",
              "0                             maa chut shivsena lund  \n",
              "1                                 muje maa gufa jati  \n",
              "2  aa gye tumlog saree pehen chup baithe aahe cho...  \n",
              "3  moti kisi besti  baisn channey dal halwa kha t...  \n",
              "4             rahul kanwal nanga hoke road nachega    "
            ],
            "text/html": [
              "\n",
              "  <div id=\"df-a13479de-d29d-414a-94fa-6cf0d672e30b\">\n",
              "    <div class=\"colab-df-container\">\n",
              "      <div>\n",
              "<style scoped>\n",
              "    .dataframe tbody tr th:only-of-type {\n",
              "        vertical-align: middle;\n",
              "    }\n",
              "\n",
              "    .dataframe tbody tr th {\n",
              "        vertical-align: top;\n",
              "    }\n",
              "\n",
              "    .dataframe thead th {\n",
              "        text-align: right;\n",
              "    }\n",
              "</style>\n",
              "<table border=\"1\" class=\"dataframe\">\n",
              "  <thead>\n",
              "    <tr style=\"text-align: right;\">\n",
              "      <th></th>\n",
              "      <th>Unnamed: 0</th>\n",
              "      <th>Tweets</th>\n",
              "      <th>Processed_Tweets</th>\n",
              "      <th>Bully_Label</th>\n",
              "      <th>Sentiment_label</th>\n",
              "      <th>Emotion_label</th>\n",
              "      <th>tweet_stopwords</th>\n",
              "      <th>After_lemma</th>\n",
              "    </tr>\n",
              "  </thead>\n",
              "  <tbody>\n",
              "    <tr>\n",
              "      <th>0</th>\n",
              "      <td>0</td>\n",
              "      <td>teri maa ki chut me shivsena ka lund gaya kya</td>\n",
              "      <td>teri maa ki chut me shivsena ka lund gaya kya</td>\n",
              "      <td>1</td>\n",
              "      <td>negative</td>\n",
              "      <td>anger</td>\n",
              "      <td>maa chut shivsena lund</td>\n",
              "      <td>maa chut shivsena lund</td>\n",
              "    </tr>\n",
              "    <tr>\n",
              "      <th>1</th>\n",
              "      <td>1</td>\n",
              "      <td>han muje pata hai teri maa ka ke gufa me jati thi</td>\n",
              "      <td>han muje pata hai teri maa ka ke gufa me jati thi</td>\n",
              "      <td>1</td>\n",
              "      <td>negative</td>\n",
              "      <td>others</td>\n",
              "      <td>muje maa gufa jati</td>\n",
              "      <td>muje maa gufa jati</td>\n",
              "    </tr>\n",
              "    <tr>\n",
              "      <th>2</th>\n",
              "      <td>2</td>\n",
              "      <td>tum kaha se aa gye bhai tumlog toh saree pehen...</td>\n",
              "      <td>tum kaha se aa gye bhai tumlog toh saree pehen...</td>\n",
              "      <td>0</td>\n",
              "      <td>neutral</td>\n",
              "      <td>others</td>\n",
              "      <td>aa gye tumlog saree pehen chup baithe aahe cho...</td>\n",
              "      <td>aa gye tumlog saree pehen chup baithe aahe cho...</td>\n",
              "    </tr>\n",
              "    <tr>\n",
              "      <th>3</th>\n",
              "      <td>3</td>\n",
              "      <td>koi moti🙊kisi ki besti😁 baisn ka or channey ki...</td>\n",
              "      <td>koi motikisi ki besti baisn ka or channey ki d...</td>\n",
              "      <td>1</td>\n",
              "      <td>negative</td>\n",
              "      <td>disgust</td>\n",
              "      <td>moti🙊kisi besti😁 baisn channey dal halwa kha t...</td>\n",
              "      <td>moti kisi besti  baisn channey dal halwa kha t...</td>\n",
              "    </tr>\n",
              "    <tr>\n",
              "      <th>4</th>\n",
              "      <td>4</td>\n",
              "      <td>rahul kanwal aaj nanga hoke road per nachega 😂</td>\n",
              "      <td>rahul kanwal aaj nanga hoke road per nachega</td>\n",
              "      <td>1</td>\n",
              "      <td>negative</td>\n",
              "      <td>disgust</td>\n",
              "      <td>rahul kanwal nanga hoke road nachega 😂</td>\n",
              "      <td>rahul kanwal nanga hoke road nachega</td>\n",
              "    </tr>\n",
              "  </tbody>\n",
              "</table>\n",
              "</div>\n",
              "      <button class=\"colab-df-convert\" onclick=\"convertToInteractive('df-a13479de-d29d-414a-94fa-6cf0d672e30b')\"\n",
              "              title=\"Convert this dataframe to an interactive table.\"\n",
              "              style=\"display:none;\">\n",
              "        \n",
              "  <svg xmlns=\"http://www.w3.org/2000/svg\" height=\"24px\"viewBox=\"0 0 24 24\"\n",
              "       width=\"24px\">\n",
              "    <path d=\"M0 0h24v24H0V0z\" fill=\"none\"/>\n",
              "    <path d=\"M18.56 5.44l.94 2.06.94-2.06 2.06-.94-2.06-.94-.94-2.06-.94 2.06-2.06.94zm-11 1L8.5 8.5l.94-2.06 2.06-.94-2.06-.94L8.5 2.5l-.94 2.06-2.06.94zm10 10l.94 2.06.94-2.06 2.06-.94-2.06-.94-.94-2.06-.94 2.06-2.06.94z\"/><path d=\"M17.41 7.96l-1.37-1.37c-.4-.4-.92-.59-1.43-.59-.52 0-1.04.2-1.43.59L10.3 9.45l-7.72 7.72c-.78.78-.78 2.05 0 2.83L4 21.41c.39.39.9.59 1.41.59.51 0 1.02-.2 1.41-.59l7.78-7.78 2.81-2.81c.8-.78.8-2.07 0-2.86zM5.41 20L4 18.59l7.72-7.72 1.47 1.35L5.41 20z\"/>\n",
              "  </svg>\n",
              "      </button>\n",
              "      \n",
              "  <style>\n",
              "    .colab-df-container {\n",
              "      display:flex;\n",
              "      flex-wrap:wrap;\n",
              "      gap: 12px;\n",
              "    }\n",
              "\n",
              "    .colab-df-convert {\n",
              "      background-color: #E8F0FE;\n",
              "      border: none;\n",
              "      border-radius: 50%;\n",
              "      cursor: pointer;\n",
              "      display: none;\n",
              "      fill: #1967D2;\n",
              "      height: 32px;\n",
              "      padding: 0 0 0 0;\n",
              "      width: 32px;\n",
              "    }\n",
              "\n",
              "    .colab-df-convert:hover {\n",
              "      background-color: #E2EBFA;\n",
              "      box-shadow: 0px 1px 2px rgba(60, 64, 67, 0.3), 0px 1px 3px 1px rgba(60, 64, 67, 0.15);\n",
              "      fill: #174EA6;\n",
              "    }\n",
              "\n",
              "    [theme=dark] .colab-df-convert {\n",
              "      background-color: #3B4455;\n",
              "      fill: #D2E3FC;\n",
              "    }\n",
              "\n",
              "    [theme=dark] .colab-df-convert:hover {\n",
              "      background-color: #434B5C;\n",
              "      box-shadow: 0px 1px 3px 1px rgba(0, 0, 0, 0.15);\n",
              "      filter: drop-shadow(0px 1px 2px rgba(0, 0, 0, 0.3));\n",
              "      fill: #FFFFFF;\n",
              "    }\n",
              "  </style>\n",
              "\n",
              "      <script>\n",
              "        const buttonEl =\n",
              "          document.querySelector('#df-a13479de-d29d-414a-94fa-6cf0d672e30b button.colab-df-convert');\n",
              "        buttonEl.style.display =\n",
              "          google.colab.kernel.accessAllowed ? 'block' : 'none';\n",
              "\n",
              "        async function convertToInteractive(key) {\n",
              "          const element = document.querySelector('#df-a13479de-d29d-414a-94fa-6cf0d672e30b');\n",
              "          const dataTable =\n",
              "            await google.colab.kernel.invokeFunction('convertToInteractive',\n",
              "                                                     [key], {});\n",
              "          if (!dataTable) return;\n",
              "\n",
              "          const docLinkHtml = 'Like what you see? Visit the ' +\n",
              "            '<a target=\"_blank\" href=https://colab.research.google.com/notebooks/data_table.ipynb>data table notebook</a>'\n",
              "            + ' to learn more about interactive tables.';\n",
              "          element.innerHTML = '';\n",
              "          dataTable['output_type'] = 'display_data';\n",
              "          await google.colab.output.renderOutput(dataTable, element);\n",
              "          const docLink = document.createElement('div');\n",
              "          docLink.innerHTML = docLinkHtml;\n",
              "          element.appendChild(docLink);\n",
              "        }\n",
              "      </script>\n",
              "    </div>\n",
              "  </div>\n",
              "  "
            ]
          },
          "metadata": {},
          "execution_count": 285
        }
      ]
    },
    {
      "cell_type": "code",
      "source": [
        "#BOW\n",
        "from sklearn.feature_extraction.text import CountVectorizer\n",
        "cv = CountVectorizer()\n",
        "P2 = cv.fit_transform(data2['After_lemma'])\n",
        "P2.shape"
      ],
      "metadata": {
        "colab": {
          "base_uri": "https://localhost:8080/"
        },
        "id": "_nq7_pFRwo8-",
        "outputId": "d0ac483e-5aab-407d-8864-49721880698d"
      },
      "execution_count": 286,
      "outputs": [
        {
          "output_type": "execute_result",
          "data": {
            "text/plain": [
              "(6084, 24231)"
            ]
          },
          "metadata": {},
          "execution_count": 286
        }
      ]
    },
    {
      "cell_type": "code",
      "source": [
        "#train Test split\n",
        "from sklearn.model_selection import train_test_split\n",
        "X_train, X_test, Y_train, Y_test = train_test_split(P2, data2['Bully_Label'], test_size=0.2, random_state=5)"
      ],
      "metadata": {
        "id": "MD96nF2nwo5K"
      },
      "execution_count": 287,
      "outputs": []
    },
    {
      "cell_type": "code",
      "source": [
        "#Naive Bayes\n",
        "from sklearn.naive_bayes import MultinomialNB\n",
        "MNB = MultinomialNB()\n",
        "MNB.fit(X_train, Y_train)\n",
        "#Caluclating the accuracy score of the model\n",
        "from sklearn import metrics\n",
        "predicted = MNB.predict(X_test)\n",
        "accuracy_score = metrics.accuracy_score(predicted, Y_test)\n",
        "print(\"Accuracuy Score: \",accuracy_score)"
      ],
      "metadata": {
        "colab": {
          "base_uri": "https://localhost:8080/"
        },
        "id": "X2XnSeWGwo2X",
        "outputId": "5f219372-6247-4d9a-deb9-f15bcbfc1d9e"
      },
      "execution_count": 288,
      "outputs": [
        {
          "output_type": "stream",
          "name": "stdout",
          "text": [
            "Accuracuy Score:  0.8208709942481512\n"
          ]
        }
      ]
    },
    {
      "cell_type": "markdown",
      "source": [
        "TFIDF +NAIVE BAYS"
      ],
      "metadata": {
        "id": "nAPzLr0NWIam"
      }
    },
    {
      "cell_type": "code",
      "source": [
        "# TFIDF\n",
        "#this is for P1( here i am considering as x)\n",
        "from sklearn.feature_extraction.text import TfidfVectorizer\n",
        "v = TfidfVectorizer()\n",
        "x = v.fit_transform(data1['Processed_Tweets'])"
      ],
      "metadata": {
        "id": "x3Yb0vZWwozp"
      },
      "execution_count": 289,
      "outputs": []
    },
    {
      "cell_type": "code",
      "source": [
        "#The output of fit_transform will be a sparse matrix, if you want to visualize it you can do\n",
        "x.toarray()"
      ],
      "metadata": {
        "colab": {
          "base_uri": "https://localhost:8080/"
        },
        "id": "HgntTW-Nwoqd",
        "outputId": "637b9ff1-4e84-404c-a61e-b20f65f43a3d"
      },
      "execution_count": 290,
      "outputs": [
        {
          "output_type": "execute_result",
          "data": {
            "text/plain": [
              "array([[0., 0., 0., ..., 0., 0., 0.],\n",
              "       [0., 0., 0., ..., 0., 0., 0.],\n",
              "       [0., 0., 0., ..., 0., 0., 0.],\n",
              "       ...,\n",
              "       [0., 0., 0., ..., 0., 0., 0.],\n",
              "       [0., 0., 0., ..., 0., 0., 0.],\n",
              "       [0., 0., 0., ..., 0., 0., 0.]])"
            ]
          },
          "metadata": {},
          "execution_count": 290
        }
      ]
    },
    {
      "cell_type": "code",
      "source": [
        "from sklearn.model_selection import train_test_split\n",
        "X_train, X_test, Y_train, Y_test = train_test_split(x, data1['Bully_Label'], test_size=0.2, random_state=5)"
      ],
      "metadata": {
        "id": "H_jq22qnU_tn"
      },
      "execution_count": 291,
      "outputs": []
    },
    {
      "cell_type": "code",
      "source": [
        "#Naive Bayes\n",
        "from sklearn.naive_bayes import MultinomialNB\n",
        "MNB = MultinomialNB()\n",
        "MNB.fit(X_train, Y_train)\n",
        "#Caluclating the accuracy score of the model\n",
        "from sklearn import metrics\n",
        "predicted = MNB.predict(X_test)\n",
        "accuracy_score = metrics.accuracy_score(predicted, Y_test)\n",
        "print(\"Accuracuy Score: \",accuracy_score)"
      ],
      "metadata": {
        "colab": {
          "base_uri": "https://localhost:8080/"
        },
        "id": "4ee8MG_dWSjR",
        "outputId": "3a4f8561-12bc-4425-a405-99ea7c9725a1"
      },
      "execution_count": 292,
      "outputs": [
        {
          "output_type": "stream",
          "name": "stdout",
          "text": [
            "Accuracuy Score:  0.8085456039441249\n"
          ]
        }
      ]
    },
    {
      "cell_type": "code",
      "source": [
        "# this is for P2 \n",
        "from sklearn.feature_extraction.text import TfidfVectorizer\n",
        "v = TfidfVectorizer()\n",
        "p2 = v.fit_transform(data2['After_lemma'])\n",
        "\n",
        "p2.toarray()"
      ],
      "metadata": {
        "colab": {
          "base_uri": "https://localhost:8080/"
        },
        "id": "oMhDJmQbWTsA",
        "outputId": "c1504f23-e013-4d79-9b70-9954d2234496"
      },
      "execution_count": 298,
      "outputs": [
        {
          "output_type": "execute_result",
          "data": {
            "text/plain": [
              "array([[0.        , 0.        , 0.        , ..., 0.        , 0.        ,\n",
              "        0.        ],\n",
              "       [0.        , 0.        , 0.        , ..., 0.        , 0.        ,\n",
              "        0.        ],\n",
              "       [0.18137393, 0.        , 0.        , ..., 0.        , 0.        ,\n",
              "        0.        ],\n",
              "       ...,\n",
              "       [0.        , 0.        , 0.        , ..., 0.        , 0.        ,\n",
              "        0.        ],\n",
              "       [0.        , 0.        , 0.        , ..., 0.        , 0.        ,\n",
              "        0.        ],\n",
              "       [0.        , 0.        , 0.        , ..., 0.        , 0.        ,\n",
              "        0.        ]])"
            ]
          },
          "metadata": {},
          "execution_count": 298
        }
      ]
    },
    {
      "cell_type": "code",
      "source": [
        "from sklearn.model_selection import train_test_split\n",
        "X_train, X_test, Y_train, Y_test = train_test_split(p2, data2['Bully_Label'], test_size=0.2, random_state=5)"
      ],
      "metadata": {
        "id": "cqIvottpWToi"
      },
      "execution_count": 299,
      "outputs": []
    },
    {
      "cell_type": "code",
      "source": [
        "#Naive Bayes\n",
        "from sklearn.naive_bayes import MultinomialNB\n",
        "MNB = MultinomialNB()\n",
        "MNB.fit(X_train, Y_train)\n",
        "#Caluclating the accuracy score of the model\n",
        "from sklearn import metrics\n",
        "predicted = MNB.predict(X_test)\n",
        "accuracy_score = metrics.accuracy_score(predicted, Y_test)\n",
        "print(\"Accuracuy Score: \",accuracy_score)"
      ],
      "metadata": {
        "colab": {
          "base_uri": "https://localhost:8080/"
        },
        "id": "lK-fHOrCWTlK",
        "outputId": "e5a72705-f68e-4639-cda7-e6a6710c47e2"
      },
      "execution_count": 300,
      "outputs": [
        {
          "output_type": "stream",
          "name": "stdout",
          "text": [
            "Accuracuy Score:  0.8184059161873459\n"
          ]
        }
      ]
    },
    {
      "cell_type": "code",
      "source": [],
      "metadata": {
        "id": "7VVY_f9mXr4z"
      },
      "execution_count": null,
      "outputs": []
    },
    {
      "cell_type": "code",
      "source": [],
      "metadata": {
        "id": "ZIxldVelXr13"
      },
      "execution_count": null,
      "outputs": []
    },
    {
      "cell_type": "code",
      "source": [],
      "metadata": {
        "id": "I15BgoaDXrzF"
      },
      "execution_count": null,
      "outputs": []
    },
    {
      "cell_type": "code",
      "source": [],
      "metadata": {
        "id": "AzOFnBdrXrwK"
      },
      "execution_count": null,
      "outputs": []
    }
  ]
}